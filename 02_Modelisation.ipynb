{
  "cells": [
    {
      "cell_type": "markdown",
      "source": [
        "# **MODELISATION**\n",
        "\n",
        "\n"
      ],
      "metadata": {
        "id": "p3WrTUIHR7FW"
      }
    },
    {
      "cell_type": "markdown",
      "source": [
        "**Importation des packages**"
      ],
      "metadata": {
        "id": "Sag6b5rREawR"
      }
    },
    {
      "cell_type": "code",
      "source": [
        "from sklearn import linear_model\n",
        "import numpy as np\n",
        "import pandas as pd\n",
        "import missingno as msno\n",
        "import matplotlib.pyplot as plt\n",
        "import seaborn as sns\n",
        "import statsmodels.formula.api as smf\n",
        "from sklearn import metrics\n",
        "from sklearn.model_selection import train_test_split\n",
        "from sklearn.preprocessing import StandardScaler, MinMaxScaler\n",
        "from statsmodels.stats.diagnostic import het_white , normal_ad\n",
        "from sklearn.preprocessing import StandardScaler"
      ],
      "metadata": {
        "id": "PLesQQt8WZ1z"
      },
      "execution_count": 2,
      "outputs": []
    },
    {
      "cell_type": "markdown",
      "source": [
        "Importation des données"
      ],
      "metadata": {
        "id": "aex6T2WZEpMs"
      }
    },
    {
      "cell_type": "code",
      "source": [
        "data = pd.read_csv(\"https://raw.githubusercontent.com/OusseynouDIOP16/IML_STUDENT_PERFORMANCE/main/data_clean.csv\", sep=\",\")\n",
        "data.shape  # data frame dimensions (nb rows, nb columns)\n",
        "data.info()"
      ],
      "metadata": {
        "colab": {
          "base_uri": "https://localhost:8080/"
        },
        "id": "7eVEJBd8EswU",
        "outputId": "6adbb47e-babe-463a-b604-c5fa43e530a0"
      },
      "execution_count": 3,
      "outputs": [
        {
          "output_type": "stream",
          "name": "stdout",
          "text": [
            "<class 'pandas.core.frame.DataFrame'>\n",
            "RangeIndex: 6607 entries, 0 to 6606\n",
            "Data columns (total 20 columns):\n",
            " #   Column                              Non-Null Count  Dtype  \n",
            "---  ------                              --------------  -----  \n",
            " 0   Hours_Studied                       6607 non-null   float64\n",
            " 1   Attendance                          6607 non-null   int64  \n",
            " 2   Sleep_Hours                         6607 non-null   int64  \n",
            " 3   Previous_Scores                     6607 non-null   int64  \n",
            " 4   Tutoring_Sessions                   6607 non-null   float64\n",
            " 5   Physical_Activity                   6607 non-null   int64  \n",
            " 6   Exam_Score                          6607 non-null   float64\n",
            " 7   Access_to_Resources_Encoded         6607 non-null   int64  \n",
            " 8   Parental_Involvement_Encoded        6607 non-null   int64  \n",
            " 9   Motivation_Level_Encoded            6607 non-null   int64  \n",
            " 10  Family_Income_Encoded               6607 non-null   int64  \n",
            " 11  Teacher_Quality_Encoded             6607 non-null   int64  \n",
            " 12  Peer_Influence_Encoded              6607 non-null   int64  \n",
            " 13  Parental_Education_Level_Encoded    6607 non-null   int64  \n",
            " 14  Distance_from_Home_Encoded          6607 non-null   int64  \n",
            " 15  Extracurricular_Activities_Encoded  6607 non-null   int64  \n",
            " 16  Internet_Access_Encoded             6607 non-null   int64  \n",
            " 17  Learning_Disabilities_Encoded       6607 non-null   int64  \n",
            " 18  School_Type_Encoded                 6607 non-null   int64  \n",
            " 19  Gender_Encoded                      6607 non-null   int64  \n",
            "dtypes: float64(3), int64(17)\n",
            "memory usage: 1.0 MB\n"
          ]
        }
      ]
    },
    {
      "cell_type": "markdown",
      "source": [
        "**Définition des données d'entrainement et données test**"
      ],
      "metadata": {
        "id": "l3Bgwv0LUiNP"
      }
    },
    {
      "cell_type": "code",
      "source": [
        "# Liste des variables explicatives\n",
        "features = ['Hours_Studied', 'Attendance', 'Sleep_Hours', 'Previous_Scores',\n",
        "            'Tutoring_Sessions', 'Physical_Activity', 'Parental_Involvement_Encoded',\n",
        "            'Access_to_Resources_Encoded', 'Motivation_Level_Encoded', 'Family_Income_Encoded',\n",
        "            'Teacher_Quality_Encoded', 'Extracurricular_Activities_Encoded',\n",
        "            'Internet_Access_Encoded', 'Learning_Disabilities_Encoded',\n",
        "            'School_Type_Encoded', 'Peer_Influence_Encoded',\n",
        "            'Parental_Education_Level_Encoded', 'Distance_from_Home_Encoded', 'Gender_Encoded']\n",
        "\n",
        "# Variable cible\n",
        "target = 'Exam_Score'\n",
        "\n",
        "# Séparation des variables X (features) et y (target)\n",
        "X = data[features]  # Variables explicatives\n",
        "y = data[target]    # Variable cible\n",
        "\n",
        "# Vérification des premières lignes des deux DataFrames\n",
        "print(\"Variables explicatives X :\\n\", X.head())\n",
        "print(\"\\nVariable cible y :\\n\", y.head())"
      ],
      "metadata": {
        "colab": {
          "base_uri": "https://localhost:8080/"
        },
        "id": "HM6wi5fzFGVm",
        "outputId": "21d6b098-6d1e-4464-8b9b-912b3f9e39f2"
      },
      "execution_count": 4,
      "outputs": [
        {
          "output_type": "stream",
          "name": "stdout",
          "text": [
            "Variables explicatives X :\n",
            "    Hours_Studied  Attendance  Sleep_Hours  Previous_Scores  Tutoring_Sessions  \\\n",
            "0           23.0          84            7               73                0.0   \n",
            "1           19.0          64            8               59                2.0   \n",
            "2           24.0          98            7               91                2.0   \n",
            "3           29.0          89            8               98                1.0   \n",
            "4           19.0          92            6               65                3.0   \n",
            "\n",
            "   Physical_Activity  Parental_Involvement_Encoded  \\\n",
            "0                  3                             1   \n",
            "1                  4                             1   \n",
            "2                  4                             2   \n",
            "3                  4                             1   \n",
            "4                  4                             2   \n",
            "\n",
            "   Access_to_Resources_Encoded  Motivation_Level_Encoded  \\\n",
            "0                            3                         1   \n",
            "1                            2                         1   \n",
            "2                            2                         2   \n",
            "3                            2                         2   \n",
            "4                            2                         2   \n",
            "\n",
            "   Family_Income_Encoded  Teacher_Quality_Encoded  \\\n",
            "0                      1                        2   \n",
            "1                      2                        2   \n",
            "2                      2                        2   \n",
            "3                      2                        2   \n",
            "4                      2                        3   \n",
            "\n",
            "   Extracurricular_Activities_Encoded  Internet_Access_Encoded  \\\n",
            "0                                   0                        1   \n",
            "1                                   0                        1   \n",
            "2                                   1                        1   \n",
            "3                                   1                        1   \n",
            "4                                   1                        1   \n",
            "\n",
            "   Learning_Disabilities_Encoded  School_Type_Encoded  Peer_Influence_Encoded  \\\n",
            "0                              0                    0                       3   \n",
            "1                              0                    0                       1   \n",
            "2                              0                    0                       2   \n",
            "3                              0                    0                       1   \n",
            "4                              0                    0                       2   \n",
            "\n",
            "   Parental_Education_Level_Encoded  Distance_from_Home_Encoded  \\\n",
            "0                                 1                           1   \n",
            "1                                 2                           2   \n",
            "2                                 3                           1   \n",
            "3                                 1                           2   \n",
            "4                                 2                           1   \n",
            "\n",
            "   Gender_Encoded  \n",
            "0               0  \n",
            "1               1  \n",
            "2               0  \n",
            "3               0  \n",
            "4               1  \n",
            "\n",
            "Variable cible y :\n",
            " 0    67.0\n",
            "1    61.0\n",
            "2    74.0\n",
            "3    71.0\n",
            "4    70.0\n",
            "Name: Exam_Score, dtype: float64\n"
          ]
        }
      ]
    },
    {
      "cell_type": "code",
      "source": [
        "# 20% des données dans le jeu de test\n",
        "X_train, X_test, y_train, y_test = train_test_split(X, y, test_size=0.2, random_state=42) #ramdom_state trés important\n",
        "\n",
        "print(f\"Train set - X: {X_train.shape} ; y: {y_train.shape} \\nTest set - X: {X_test.shape} ; y: {y_test.shape}\")"
      ],
      "metadata": {
        "colab": {
          "base_uri": "https://localhost:8080/"
        },
        "id": "GiBCBcyJUpqe",
        "outputId": "f44a37ec-1b44-41cb-e652-efd33c771d46"
      },
      "execution_count": 5,
      "outputs": [
        {
          "output_type": "stream",
          "name": "stdout",
          "text": [
            "Train set - X: (5285, 19) ; y: (5285,) \n",
            "Test set - X: (1322, 19) ; y: (1322,)\n"
          ]
        }
      ]
    },
    {
      "cell_type": "markdown",
      "source": [
        "# **STANDARDISATION**"
      ],
      "metadata": {
        "id": "MxxaQkhcont-"
      }
    },
    {
      "cell_type": "code",
      "source": [
        "\n",
        "# Initialiser le StandardScaler\n",
        "scaler = StandardScaler()\n",
        "\n",
        "# Appliquer la standardisation sur X_train et X_test\n",
        "X_train_std = scaler.fit_transform(X_train)  # Calcul et transformation sur le train\n",
        "X_test_std= scaler.transform(X_test)       # Transformation du test avec les mêmes paramètres"
      ],
      "metadata": {
        "id": "PCJt63B7op2i"
      },
      "execution_count": 6,
      "outputs": []
    },
    {
      "cell_type": "code",
      "source": [
        "# Initialiser le scaler\n",
        "y_scaler = StandardScaler()\n",
        "\n",
        "# Reshaper les données en utilisant .values pour obtenir un array NumPy\n",
        "y_train= y_scaler.fit_transform(y_train.values.reshape(-1, 1))  # Standardisation sur le train\n",
        "y_test = y_scaler.transform(y_test.values.reshape(-1, 1))  # Application sur le test\n",
        "\n",
        "# Vérification des résultats\n",
        "print(\"Moyenne de y_train_scaled :\", y_train.mean())\n",
        "print(\"Écart-type de y_train_scaled :\", y_test.std())"
      ],
      "metadata": {
        "colab": {
          "base_uri": "https://localhost:8080/"
        },
        "id": "Qe7ROeO3FXl5",
        "outputId": "7ec499d8-bf54-4ed2-a311-41d5cfb1e492"
      },
      "execution_count": 7,
      "outputs": [
        {
          "output_type": "stream",
          "name": "stdout",
          "text": [
            "Moyenne de y_train_scaled : -1.1431200777294705e-15\n",
            "Écart-type de y_train_scaled : 1.0109840800796572\n"
          ]
        }
      ]
    },
    {
      "cell_type": "markdown",
      "source": [
        "# **Modèle 1 : Regression lineare multiple**\n",
        "\n"
      ],
      "metadata": {
        "id": "Odt2wtVJcUYv"
      }
    },
    {
      "cell_type": "code",
      "source": [
        "# On crée un modèle de régression linéaire\n",
        "rlm = linear_model.LinearRegression()\n",
        "\n",
        "# On entraîne ce modèle sur les données d'entrainement\n",
        "rlm.fit(X_train, y_train)\n",
        "\n",
        "# On récupère l'erreur de norme 2 sur le jeu de données test comme baseline\n",
        "rlm_error = np.mean((rlm.predict(X_test) - y_test) ** 2)\n",
        "\n",
        "# On obtient l'erreur quadratique ci-dessous\n",
        "print(f\"Erreur quadratrique: {rlm_error}\")\n",
        "score=rlm.score(X_train, y_train)\n",
        "print (f\"Score: {score}\")"
      ],
      "metadata": {
        "colab": {
          "base_uri": "https://localhost:8080/"
        },
        "id": "9flFayK6cibj",
        "outputId": "84732956-7782-4b86-aaed-d8d3db581beb"
      },
      "execution_count": 8,
      "outputs": [
        {
          "output_type": "stream",
          "name": "stdout",
          "text": [
            "Erreur quadratrique: 0.09171745599383915\n",
            "Score: 0.9044603626839474\n"
          ]
        }
      ]
    },
    {
      "cell_type": "markdown",
      "source": [
        "Déterminon B0 et les poids des variables explicatives\n"
      ],
      "metadata": {
        "id": "8oNiB8QtWht6"
      }
    },
    {
      "cell_type": "code",
      "source": [
        "print(\"Intercept:\", rlm.intercept_)\n",
        "print(\"Coefficients:\", rlm.coef_)\n",
        "coefficients = rlm.coef_"
      ],
      "metadata": {
        "colab": {
          "base_uri": "https://localhost:8080/"
        },
        "id": "ZTj9yi_nWsIQ",
        "outputId": "93170ab6-3608-4764-8d7f-92eb646972ea"
      },
      "execution_count": 9,
      "outputs": [
        {
          "output_type": "stream",
          "name": "stdout",
          "text": [
            "Intercept: [-10.62028326]\n",
            "Coefficients: [[ 8.48274750e-02  5.87916773e-02  2.28899972e-03  1.45302738e-02\n",
            "   1.41511444e-01  6.30104906e-02  2.83535574e-01  2.93407497e-01\n",
            "   1.49466077e-01  1.36907803e-01  1.41877113e-01  1.44467133e-01\n",
            "   2.96141023e-01 -2.63871726e-01 -2.65607656e-04  1.48152337e-01\n",
            "   1.50475938e-01 -1.32978986e-01 -9.81998826e-03]]\n"
          ]
        }
      ]
    },
    {
      "cell_type": "markdown",
      "source": [
        "# **Prédiction**"
      ],
      "metadata": {
        "id": "Qs_T4Xoklh00"
      }
    },
    {
      "cell_type": "code",
      "source": [
        "y_train_pred = rlm.predict(X_train)\n",
        "y_test_pred = rlm.predict(X_test)"
      ],
      "metadata": {
        "id": "WL5kJ9o8ll5t"
      },
      "execution_count": 10,
      "outputs": []
    },
    {
      "cell_type": "code",
      "source": [
        "from sklearn.metrics import mean_squared_error\n",
        "\n",
        "train_mse = mean_squared_error(y_train, y_train_pred)\n",
        "\n",
        "\n",
        "test_mse = mean_squared_error(y_test, y_test_pred)\n",
        "score_test=rlm.score(X_test, y_test)\n",
        "print (f\"Score test: {score_test}\")\n",
        "\n",
        "print(f\"Train MSE: {train_mse}, Test MSE: {test_mse}\")\n"
      ],
      "metadata": {
        "colab": {
          "base_uri": "https://localhost:8080/"
        },
        "id": "4J_s2UKqxQ9K",
        "outputId": "573aaa42-16ad-42b2-c480-56daf9b5e71f"
      },
      "execution_count": 11,
      "outputs": [
        {
          "output_type": "stream",
          "name": "stdout",
          "text": [
            "Score test: 0.9102646902296295\n",
            "Train MSE: 0.0955396373160527, Test MSE: 0.09171745599383915\n"
          ]
        }
      ]
    },
    {
      "cell_type": "markdown",
      "source": [
        "les deux MSE sont proches, ce qui suggère que le modèle est bien équilibré."
      ],
      "metadata": {
        "id": "qMw71gchzVAv"
      }
    },
    {
      "cell_type": "code",
      "source": [
        "train_r2 = rlm.score(X_train, y_train)\n",
        "test_r2 = rlm.score(X_test, y_test)\n",
        "\n",
        "print(f\"Train R²: {train_r2}, Test R²: {test_r2}\")\n"
      ],
      "metadata": {
        "colab": {
          "base_uri": "https://localhost:8080/"
        },
        "id": "f6Lf9Aeky6D6",
        "outputId": "bb21e736-367b-43cc-92d8-70faacbe6d49"
      },
      "execution_count": 12,
      "outputs": [
        {
          "output_type": "stream",
          "name": "stdout",
          "text": [
            "Train R²: 0.9044603626839474, Test R²: 0.9102646902296295\n"
          ]
        }
      ]
    },
    {
      "cell_type": "markdown",
      "source": [
        "**Analyse des résidus**"
      ],
      "metadata": {
        "id": "amyuDDoFTxv7"
      }
    },
    {
      "cell_type": "markdown",
      "source": [
        "Analyse des Résidus pour vérifier si les hypothèses de la régression linéaire sont respectées :\n",
        "\n",
        "*   Les résidus doivent suivre une distribution normale.\n",
        "\n",
        "*   Ils doivent être indépendants\n",
        "*   Ils doivent avoir une variance constante (homoscédasticité).\n",
        "\n",
        ".\n"
      ],
      "metadata": {
        "id": "LBQ0oZ51VXnM"
      }
    },
    {
      "cell_type": "code",
      "source": [
        "from yellowbrick.regressor import ResidualsPlot\n",
        "res_viz = ResidualsPlot(rlm,\n",
        "                        is_fitted=\"auto\",\n",
        "                        qqplot=True,\n",
        "                        hist=False,\n",
        "                        train_color=\"blue\",\n",
        "                        test_color=\"red\",\n",
        "                       )\n",
        "res_viz.fit(X_train, y_train)\n",
        "res_viz.score(X_test, y_test)\n",
        "res_viz.show(clear_figure=True);"
      ],
      "metadata": {
        "colab": {
          "base_uri": "https://localhost:8080/",
          "height": 596
        },
        "id": "5ttRupEQX4-M",
        "outputId": "d41ce44b-68c8-4e77-eec3-104c07568ac7"
      },
      "execution_count": 13,
      "outputs": [
        {
          "output_type": "stream",
          "name": "stderr",
          "text": [
            "/usr/local/lib/python3.10/dist-packages/sklearn/base.py:493: UserWarning: X does not have valid feature names, but LinearRegression was fitted with feature names\n",
            "  warnings.warn(\n"
          ]
        },
        {
          "output_type": "display_data",
          "data": {
            "text/plain": [
              "<Figure size 800x550 with 2 Axes>"
            ],
            "image/png": "[encoded data removed]"
          },
          "metadata": {}
        },
        {
          "output_type": "display_data",
          "data": {
            "text/plain": [
              "<Figure size 800x550 with 0 Axes>"
            ]
          },
          "metadata": {}
        }
      ]
    },
    {
      "cell_type": "markdown",
      "source": [
        "**Hypothèse** : Les résidus doivent être répartis aléatoirement autour de 0 (pas de structure discernable).\n",
        "\n",
        "Analyse (graphe de gauche - Résidus vs Valeurs Prédites) :\n",
        "\n",
        "Les résidus semblent être répartis autour de la ligne 0, ce qui suggère une relation linéaire raisonnable.\n",
        "Cependant, il existe quelques valeurs aberrantes en bas (-3 et 3), ce qui pourrait indiquer des observations influentes.\n",
        "\n",
        "**Conclusion** :\n",
        "✔️ Hypothèse de linéarité globalement vérifiée, bien que des points aberrants soient présents."
      ],
      "metadata": {
        "id": "9oTK9HAmgiys"
      }
    },
    {
      "cell_type": "markdown",
      "source": [
        "\n",
        "**Hypothèse** : La variance des résidus doit être constante pour toutes les valeurs prédites (pas de cône ou de motif discernable).\n",
        "\n",
        "Analyse (graphe de gauche) :\n",
        "\n",
        "Les résidus sont proches de 0 pour la plupart des prédictions, mais il  y a une légère augmentation de la dispersion pour les prédictions extrêmes (surtout pour les petites valeurs).\n",
        "Cela pourrait indiquer une légère hétéroscédasticité.\n",
        "\n",
        "**Conclusion :**\n",
        "⚠️ Hypothèse partiellement vérifiée, mais une légère hétéroscédasticité est présente."
      ],
      "metadata": {
        "id": "VQswEyuofA11"
      }
    },
    {
      "cell_type": "markdown",
      "source": [
        "**Hypothèse :** Les résidus doivent suivre une distribution normale\n",
        "\n",
        "Analyse (Q-Q Plot - graphe de droite) :\n",
        "\n",
        "Les points suivent une ligne droite au centre du graphe, ce qui suggère une bonne normalité pour les valeurs centrales.\n",
        "Cependant, aux extrémités (queues de la distribution), on observe des écarts significatifs.\n",
        "\n",
        "**Conclusion :**\n",
        "⚠️ Hypothèse partiellement vérifiée, mais des écarts aux extrémités montrent une non-normalité des résidus."
      ],
      "metadata": {
        "id": "r3Ox444Cfk-3"
      }
    },
    {
      "cell_type": "markdown",
      "source": [
        "### **Normalité**"
      ],
      "metadata": {
        "id": "FDIjAFcdhv_g"
      }
    },
    {
      "cell_type": "markdown",
      "source": [
        "Une `p-value < alpha` (5%, en général) pour le test d'Anderson-Darling indique que l'hypothèse nulle de normalité de la distribution des résidus est rejetée"
      ],
      "metadata": {
        "id": "bGJqZ90vmLpl"
      }
    },
    {
      "cell_type": "markdown",
      "source": [
        "**Hypothèses du test :**\n",
        "\n",
        "H₀ (Hypothèse nulle) : Les résidus suivent une distribution normale.\n",
        "\n",
        "H₁ (Hypothèse alternative) : Les résidus ne suivent pas une distribution normale.\n",
        "\n",
        "**p-value :**\n",
        "\n",
        "Si la p-value > 0.05 : On accepte H₀, les résidus suivent une distribution normale.\n",
        "\n",
        "Si la p-value ≤ 0.05 : On rejette H₀, les résidus ne suivent pas une distribution normale.\n"
      ],
      "metadata": {
        "id": "1p04YipzkH_0"
      }
    },
    {
      "cell_type": "code",
      "source": [
        "from scipy.stats import normaltest\n",
        "\n",
        "# Importer le module pour le test d'Anderson-Darling\n",
        "from statsmodels.stats.diagnostic import normal_ad\n",
        "\n",
        "# Calcul des résidus (différence entre les valeurs observées et prédites)\n",
        "residuals = y_train - y_train_pred\n",
        "\n",
        "# Appliquer le test sur les résidus\n",
        "ad_stat, p_value = normal_ad(residuals)\n",
        "\n",
        "# Afficher les résultats\n",
        "print(\"La statistique d'Anderson-Darling vaut :\", ad_stat)\n",
        "print(\"La p-value du test d'Anderson-Darling vaut :\", p_value)\n",
        "\n",
        "# Interprétation\n",
        "if p_value > 0.05:\n",
        "    print(\"Les résidus suivent une distribution normale (on ne rejette pas H0).\")\n",
        "else:\n",
        "    print(\"Les résidus ne suivent pas une distribution normale (on rejette H0).\")\n",
        "\n",
        "\n"
      ],
      "metadata": {
        "colab": {
          "base_uri": "https://localhost:8080/"
        },
        "id": "uGkV_Iakh2DW",
        "outputId": "89b5671b-930e-4698-a36a-e6d30033d99f"
      },
      "execution_count": 14,
      "outputs": [
        {
          "output_type": "stream",
          "name": "stdout",
          "text": [
            "La statistique d'Anderson-Darling vaut : [inf]\n",
            "La p-value du test d'Anderson-Darling vaut : 0.0\n",
            "Les résidus ne suivent pas une distribution normale (on rejette H0).\n"
          ]
        }
      ]
    },
    {
      "cell_type": "markdown",
      "source": [
        "## **Homoscedasticite**"
      ],
      "metadata": {
        "id": "4Ae324YWsjfx"
      }
    },
    {
      "cell_type": "markdown",
      "source": [
        "**Hypothèses du test :**\n",
        "\n",
        "H₀ (Hypothèse nulle) : Les résidus sont homoscédastiques (la variance est constante).\n",
        "\n",
        "H₁ (Hypothèse alternative) : Les résidus sont hétéroscédastiques (la variance n'est pas constante)."
      ],
      "metadata": {
        "id": "ljRAIi51tLHd"
      }
    },
    {
      "cell_type": "code",
      "source": [
        "import statsmodels.api as sm\n",
        "from statsmodels.stats.diagnostic import het_white\n",
        "\n",
        "# Ajouter une constante à X_train pour inclure l'ordonnée à l'origine dans le test\n",
        "X_train_with_const = sm.add_constant(X_train)\n",
        "\n",
        "# Appliquer le test de White\n",
        "white_test_stat, white_p_value, _, _ = het_white(residuals, X_train_with_const)\n",
        "\n",
        "# Afficher les résultats\n",
        "print(\"Statistique du test de White:\", white_test_stat)\n",
        "print(\"p-value du test de White:\", white_p_value)\n",
        "\n",
        "# Interprétation\n",
        "if white_p_value > 0.05:\n",
        "    print(\"Il n'y a pas d'hétéroscédasticité (on ne rejette pas H0).\")\n",
        "else:\n",
        "    print(\"Il y a de l'hétéroscédasticité (on rejette H0).\")\n"
      ],
      "metadata": {
        "colab": {
          "base_uri": "https://localhost:8080/"
        },
        "id": "hnRovcIXsrBQ",
        "outputId": "7d037cb6-5c1e-4e5b-efbe-34b3575a3114"
      },
      "execution_count": 15,
      "outputs": [
        {
          "output_type": "stream",
          "name": "stdout",
          "text": [
            "Statistique du test de White: 1137.5953051003878\n",
            "p-value du test de White: 2.1648652831664345e-129\n",
            "Il y a de l'hétéroscédasticité (on rejette H0).\n"
          ]
        }
      ]
    },
    {
      "cell_type": "markdown",
      "source": [
        "## **Multicolinéarité**\n",
        "\n",
        "La multicolinéarité se produit lorsque les variables indépendantes sont trop fortement corrélées entre elles.\n",
        "\n",
        "Le facteur d'inflation de la variance VIF* identifie la corrélation entre les variables indépendantes et la force de cette corrélation. [Si VIF >1 & VIF <5 corrélation modérée, VIF > 5 niveau critique de multicollinéarité."
      ],
      "metadata": {
        "id": "AbsX1kv5tjpM"
      }
    },
    {
      "cell_type": "code",
      "source": [
        "from statsmodels.stats.outliers_influence import variance_inflation_factor\n",
        "import pandas as pd\n",
        "\n",
        "# Ajouter une constante pour le modèle\n",
        "X_train_with_const = sm.add_constant(X_train)\n",
        "\n",
        "# Calcul du VIF pour chaque variable explicative\n",
        "vif_data = pd.DataFrame()\n",
        "vif_data[\"Variable\"] = X_train.columns\n",
        "vif_data[\"VIF\"] = [variance_inflation_factor(X_train_with_const.values, i + 1) for i in range(len(X_train.columns))]\n",
        "\n",
        "# Affichage des résultats\n",
        "print(vif_data)\n"
      ],
      "metadata": {
        "colab": {
          "base_uri": "https://localhost:8080/"
        },
        "id": "t8s-LnSUtw75",
        "outputId": "c4a0d807-c7f1-4d9a-cdac-9f1c0d737eff"
      },
      "execution_count": 16,
      "outputs": [
        {
          "output_type": "stream",
          "name": "stdout",
          "text": [
            "                              Variable       VIF\n",
            "0                        Hours_Studied  1.002947\n",
            "1                           Attendance  1.004756\n",
            "2                          Sleep_Hours  1.003892\n",
            "3                      Previous_Scores  1.003998\n",
            "4                    Tutoring_Sessions  1.003598\n",
            "5                    Physical_Activity  1.004426\n",
            "6         Parental_Involvement_Encoded  1.004280\n",
            "7          Access_to_Resources_Encoded  1.003220\n",
            "8             Motivation_Level_Encoded  1.002114\n",
            "9                Family_Income_Encoded  1.002773\n",
            "10             Teacher_Quality_Encoded  1.001312\n",
            "11  Extracurricular_Activities_Encoded  1.001472\n",
            "12             Internet_Access_Encoded  1.003519\n",
            "13       Learning_Disabilities_Encoded  1.003698\n",
            "14                 School_Type_Encoded  1.003305\n",
            "15              Peer_Influence_Encoded  1.002323\n",
            "16    Parental_Education_Level_Encoded  1.003264\n",
            "17          Distance_from_Home_Encoded  1.001698\n",
            "18                      Gender_Encoded  1.001920\n"
          ]
        }
      ]
    },
    {
      "cell_type": "markdown",
      "source": [
        "VIF ≈ 1 : Cela signifie que chaque variable indépendante est pratiquement non corrélée avec les autres variables indépendantes."
      ],
      "metadata": {
        "id": "EEaVPGTsutxN"
      }
    },
    {
      "cell_type": "markdown",
      "source": [
        "### **Conclusion**\n",
        "\n",
        "**Points positifs :** Le modèle semble robuste vis-à-vis de la multicolinéarité\n",
        "\n",
        "**Problème :**\n",
        "\n",
        "La non-normalité des résidus et les points aberrants peuvent affecter les conclusions des tests d'hypothèses.\n",
        "Il y a pas d'hétéroscédasticité."
      ],
      "metadata": {
        "id": "xFu4dvXNz1sy"
      }
    },
    {
      "cell_type": "markdown",
      "source": [
        "# **REGRESION DE RIDGE**"
      ],
      "metadata": {
        "id": "rNNcCjxv0Z1E"
      }
    },
    {
      "cell_type": "code",
      "source": [
        "from sklearn.linear_model import Ridge\n",
        "ridge = linear_model.Ridge(alpha=1.0) # alpha=1\n",
        "ridge.fit(X_train, y_train)\n"
      ],
      "metadata": {
        "colab": {
          "base_uri": "https://localhost:8080/",
          "height": 80
        },
        "id": "wrMeZGT70iLU",
        "outputId": "c2a4c476-6b9c-4162-ff4d-3f6f89a3ca70"
      },
      "execution_count": 17,
      "outputs": [
        {
          "output_type": "execute_result",
          "data": {
            "text/plain": [
              "Ridge()"
            ],
            "text/html": [
              "<style>#sk-container-id-1 {\n",
              "  /* Definition of color scheme common for light and dark mode */\n",
              "  --sklearn-color-text: black;\n",
              "  --sklearn-color-line: gray;\n",
              "  /* Definition of color scheme for unfitted estimators */\n",
              "  --sklearn-color-unfitted-level-0: #fff5e6;\n",
              "  --sklearn-color-unfitted-level-1: #f6e4d2;\n",
              "  --sklearn-color-unfitted-level-2: #ffe0b3;\n",
              "  --sklearn-color-unfitted-level-3: chocolate;\n",
              "  /* Definition of color scheme for fitted estimators */\n",
              "  --sklearn-color-fitted-level-0: #f0f8ff;\n",
              "  --sklearn-color-fitted-level-1: #d4ebff;\n",
              "  --sklearn-color-fitted-level-2: #b3dbfd;\n",
              "  --sklearn-color-fitted-level-3: cornflowerblue;\n",
              "\n",
              "  /* Specific color for light theme */\n",
              "  --sklearn-color-text-on-default-background: var(--sg-text-color, var(--theme-code-foreground, var(--jp-content-font-color1, black)));\n",
              "  --sklearn-color-background: var(--sg-background-color, var(--theme-background, var(--jp-layout-color0, white)));\n",
              "  --sklearn-color-border-box: var(--sg-text-color, var(--theme-code-foreground, var(--jp-content-font-color1, black)));\n",
              "  --sklearn-color-icon: #696969;\n",
              "\n",
              "  @media (prefers-color-scheme: dark) {\n",
              "    /* Redefinition of color scheme for dark theme */\n",
              "    --sklearn-color-text-on-default-background: var(--sg-text-color, var(--theme-code-foreground, var(--jp-content-font-color1, white)));\n",
              "    --sklearn-color-background: var(--sg-background-color, var(--theme-background, var(--jp-layout-color0, #111)));\n",
              "    --sklearn-color-border-box: var(--sg-text-color, var(--theme-code-foreground, var(--jp-content-font-color1, white)));\n",
              "    --sklearn-color-icon: #878787;\n",
              "  }\n",
              "}\n",
              "\n",
              "#sk-container-id-1 {\n",
              "  color: var(--sklearn-color-text);\n",
              "}\n",
              "\n",
              "#sk-container-id-1 pre {\n",
              "  padding: 0;\n",
              "}\n",
              "\n",
              "#sk-container-id-1 input.sk-hidden--visually {\n",
              "  border: 0;\n",
              "  clip: rect(1px 1px 1px 1px);\n",
              "  clip: rect(1px, 1px, 1px, 1px);\n",
              "  height: 1px;\n",
              "  margin: -1px;\n",
              "  overflow: hidden;\n",
              "  padding: 0;\n",
              "  position: absolute;\n",
              "  width: 1px;\n",
              "}\n",
              "\n",
              "#sk-container-id-1 div.sk-dashed-wrapped {\n",
              "  border: 1px dashed var(--sklearn-color-line);\n",
              "  margin: 0 0.4em 0.5em 0.4em;\n",
              "  box-sizing: border-box;\n",
              "  padding-bottom: 0.4em;\n",
              "  background-color: var(--sklearn-color-background);\n",
              "}\n",
              "\n",
              "#sk-container-id-1 div.sk-container {\n",
              "  /* jupyter's `normalize.less` sets `[hidden] { display: none; }`\n",
              "     but bootstrap.min.css set `[hidden] { display: none !important; }`\n",
              "     so we also need the `!important` here to be able to override the\n",
              "     default hidden behavior on the sphinx rendered scikit-learn.org.\n",
              "     See: https://github.com/scikit-learn/scikit-learn/issues/21755 */\n",
              "  display: inline-block !important;\n",
              "  position: relative;\n",
              "}\n",
              "\n",
              "#sk-container-id-1 div.sk-text-repr-fallback {\n",
              "  display: none;\n",
              "}\n",
              "\n",
              "div.sk-parallel-item,\n",
              "div.sk-serial,\n",
              "div.sk-item {\n",
              "  /* draw centered vertical line to link estimators */\n",
              "  background-image: linear-gradient(var(--sklearn-color-text-on-default-background), var(--sklearn-color-text-on-default-background));\n",
              "  background-size: 2px 100%;\n",
              "  background-repeat: no-repeat;\n",
              "  background-position: center center;\n",
              "}\n",
              "\n",
              "/* Parallel-specific style estimator block */\n",
              "\n",
              "#sk-container-id-1 div.sk-parallel-item::after {\n",
              "  content: \"\";\n",
              "  width: 100%;\n",
              "  border-bottom: 2px solid var(--sklearn-color-text-on-default-background);\n",
              "  flex-grow: 1;\n",
              "}\n",
              "\n",
              "#sk-container-id-1 div.sk-parallel {\n",
              "  display: flex;\n",
              "  align-items: stretch;\n",
              "  justify-content: center;\n",
              "  background-color: var(--sklearn-color-background);\n",
              "  position: relative;\n",
              "}\n",
              "\n",
              "#sk-container-id-1 div.sk-parallel-item {\n",
              "  display: flex;\n",
              "  flex-direction: column;\n",
              "}\n",
              "\n",
              "#sk-container-id-1 div.sk-parallel-item:first-child::after {\n",
              "  align-self: flex-end;\n",
              "  width: 50%;\n",
              "}\n",
              "\n",
              "#sk-container-id-1 div.sk-parallel-item:last-child::after {\n",
              "  align-self: flex-start;\n",
              "  width: 50%;\n",
              "}\n",
              "\n",
              "#sk-container-id-1 div.sk-parallel-item:only-child::after {\n",
              "  width: 0;\n",
              "}\n",
              "\n",
              "/* Serial-specific style estimator block */\n",
              "\n",
              "#sk-container-id-1 div.sk-serial {\n",
              "  display: flex;\n",
              "  flex-direction: column;\n",
              "  align-items: center;\n",
              "  background-color: var(--sklearn-color-background);\n",
              "  padding-right: 1em;\n",
              "  padding-left: 1em;\n",
              "}\n",
              "\n",
              "\n",
              "/* Toggleable style: style used for estimator/Pipeline/ColumnTransformer box that is\n",
              "clickable and can be expanded/collapsed.\n",
              "- Pipeline and ColumnTransformer use this feature and define the default style\n",
              "- Estimators will overwrite some part of the style using the `sk-estimator` class\n",
              "*/\n",
              "\n",
              "/* Pipeline and ColumnTransformer style (default) */\n",
              "\n",
              "#sk-container-id-1 div.sk-toggleable {\n",
              "  /* Default theme specific background. It is overwritten whether we have a\n",
              "  specific estimator or a Pipeline/ColumnTransformer */\n",
              "  background-color: var(--sklearn-color-background);\n",
              "}\n",
              "\n",
              "/* Toggleable label */\n",
              "#sk-container-id-1 label.sk-toggleable__label {\n",
              "  cursor: pointer;\n",
              "  display: block;\n",
              "  width: 100%;\n",
              "  margin-bottom: 0;\n",
              "  padding: 0.5em;\n",
              "  box-sizing: border-box;\n",
              "  text-align: center;\n",
              "}\n",
              "\n",
              "#sk-container-id-1 label.sk-toggleable__label-arrow:before {\n",
              "  /* Arrow on the left of the label */\n",
              "  content: \"▸\";\n",
              "  float: left;\n",
              "  margin-right: 0.25em;\n",
              "  color: var(--sklearn-color-icon);\n",
              "}\n",
              "\n",
              "#sk-container-id-1 label.sk-toggleable__label-arrow:hover:before {\n",
              "  color: var(--sklearn-color-text);\n",
              "}\n",
              "\n",
              "/* Toggleable content - dropdown */\n",
              "\n",
              "#sk-container-id-1 div.sk-toggleable__content {\n",
              "  max-height: 0;\n",
              "  max-width: 0;\n",
              "  overflow: hidden;\n",
              "  text-align: left;\n",
              "  /* unfitted */\n",
              "  background-color: var(--sklearn-color-unfitted-level-0);\n",
              "}\n",
              "\n",
              "#sk-container-id-1 div.sk-toggleable__content.fitted {\n",
              "  /* fitted */\n",
              "  background-color: var(--sklearn-color-fitted-level-0);\n",
              "}\n",
              "\n",
              "#sk-container-id-1 div.sk-toggleable__content pre {\n",
              "  margin: 0.2em;\n",
              "  border-radius: 0.25em;\n",
              "  color: var(--sklearn-color-text);\n",
              "  /* unfitted */\n",
              "  background-color: var(--sklearn-color-unfitted-level-0);\n",
              "}\n",
              "\n",
              "#sk-container-id-1 div.sk-toggleable__content.fitted pre {\n",
              "  /* unfitted */\n",
              "  background-color: var(--sklearn-color-fitted-level-0);\n",
              "}\n",
              "\n",
              "#sk-container-id-1 input.sk-toggleable__control:checked~div.sk-toggleable__content {\n",
              "  /* Expand drop-down */\n",
              "  max-height: 200px;\n",
              "  max-width: 100%;\n",
              "  overflow: auto;\n",
              "}\n",
              "\n",
              "#sk-container-id-1 input.sk-toggleable__control:checked~label.sk-toggleable__label-arrow:before {\n",
              "  content: \"▾\";\n",
              "}\n",
              "\n",
              "/* Pipeline/ColumnTransformer-specific style */\n",
              "\n",
              "#sk-container-id-1 div.sk-label input.sk-toggleable__control:checked~label.sk-toggleable__label {\n",
              "  color: var(--sklearn-color-text);\n",
              "  background-color: var(--sklearn-color-unfitted-level-2);\n",
              "}\n",
              "\n",
              "#sk-container-id-1 div.sk-label.fitted input.sk-toggleable__control:checked~label.sk-toggleable__label {\n",
              "  background-color: var(--sklearn-color-fitted-level-2);\n",
              "}\n",
              "\n",
              "/* Estimator-specific style */\n",
              "\n",
              "/* Colorize estimator box */\n",
              "#sk-container-id-1 div.sk-estimator input.sk-toggleable__control:checked~label.sk-toggleable__label {\n",
              "  /* unfitted */\n",
              "  background-color: var(--sklearn-color-unfitted-level-2);\n",
              "}\n",
              "\n",
              "#sk-container-id-1 div.sk-estimator.fitted input.sk-toggleable__control:checked~label.sk-toggleable__label {\n",
              "  /* fitted */\n",
              "  background-color: var(--sklearn-color-fitted-level-2);\n",
              "}\n",
              "\n",
              "#sk-container-id-1 div.sk-label label.sk-toggleable__label,\n",
              "#sk-container-id-1 div.sk-label label {\n",
              "  /* The background is the default theme color */\n",
              "  color: var(--sklearn-color-text-on-default-background);\n",
              "}\n",
              "\n",
              "/* On hover, darken the color of the background */\n",
              "#sk-container-id-1 div.sk-label:hover label.sk-toggleable__label {\n",
              "  color: var(--sklearn-color-text);\n",
              "  background-color: var(--sklearn-color-unfitted-level-2);\n",
              "}\n",
              "\n",
              "/* Label box, darken color on hover, fitted */\n",
              "#sk-container-id-1 div.sk-label.fitted:hover label.sk-toggleable__label.fitted {\n",
              "  color: var(--sklearn-color-text);\n",
              "  background-color: var(--sklearn-color-fitted-level-2);\n",
              "}\n",
              "\n",
              "/* Estimator label */\n",
              "\n",
              "#sk-container-id-1 div.sk-label label {\n",
              "  font-family: monospace;\n",
              "  font-weight: bold;\n",
              "  display: inline-block;\n",
              "  line-height: 1.2em;\n",
              "}\n",
              "\n",
              "#sk-container-id-1 div.sk-label-container {\n",
              "  text-align: center;\n",
              "}\n",
              "\n",
              "/* Estimator-specific */\n",
              "#sk-container-id-1 div.sk-estimator {\n",
              "  font-family: monospace;\n",
              "  border: 1px dotted var(--sklearn-color-border-box);\n",
              "  border-radius: 0.25em;\n",
              "  box-sizing: border-box;\n",
              "  margin-bottom: 0.5em;\n",
              "  /* unfitted */\n",
              "  background-color: var(--sklearn-color-unfitted-level-0);\n",
              "}\n",
              "\n",
              "#sk-container-id-1 div.sk-estimator.fitted {\n",
              "  /* fitted */\n",
              "  background-color: var(--sklearn-color-fitted-level-0);\n",
              "}\n",
              "\n",
              "/* on hover */\n",
              "#sk-container-id-1 div.sk-estimator:hover {\n",
              "  /* unfitted */\n",
              "  background-color: var(--sklearn-color-unfitted-level-2);\n",
              "}\n",
              "\n",
              "#sk-container-id-1 div.sk-estimator.fitted:hover {\n",
              "  /* fitted */\n",
              "  background-color: var(--sklearn-color-fitted-level-2);\n",
              "}\n",
              "\n",
              "/* Specification for estimator info (e.g. \"i\" and \"?\") */\n",
              "\n",
              "/* Common style for \"i\" and \"?\" */\n",
              "\n",
              ".sk-estimator-doc-link,\n",
              "a:link.sk-estimator-doc-link,\n",
              "a:visited.sk-estimator-doc-link {\n",
              "  float: right;\n",
              "  font-size: smaller;\n",
              "  line-height: 1em;\n",
              "  font-family: monospace;\n",
              "  background-color: var(--sklearn-color-background);\n",
              "  border-radius: 1em;\n",
              "  height: 1em;\n",
              "  width: 1em;\n",
              "  text-decoration: none !important;\n",
              "  margin-left: 1ex;\n",
              "  /* unfitted */\n",
              "  border: var(--sklearn-color-unfitted-level-1) 1pt solid;\n",
              "  color: var(--sklearn-color-unfitted-level-1);\n",
              "}\n",
              "\n",
              ".sk-estimator-doc-link.fitted,\n",
              "a:link.sk-estimator-doc-link.fitted,\n",
              "a:visited.sk-estimator-doc-link.fitted {\n",
              "  /* fitted */\n",
              "  border: var(--sklearn-color-fitted-level-1) 1pt solid;\n",
              "  color: var(--sklearn-color-fitted-level-1);\n",
              "}\n",
              "\n",
              "/* On hover */\n",
              "div.sk-estimator:hover .sk-estimator-doc-link:hover,\n",
              ".sk-estimator-doc-link:hover,\n",
              "div.sk-label-container:hover .sk-estimator-doc-link:hover,\n",
              ".sk-estimator-doc-link:hover {\n",
              "  /* unfitted */\n",
              "  background-color: var(--sklearn-color-unfitted-level-3);\n",
              "  color: var(--sklearn-color-background);\n",
              "  text-decoration: none;\n",
              "}\n",
              "\n",
              "div.sk-estimator.fitted:hover .sk-estimator-doc-link.fitted:hover,\n",
              ".sk-estimator-doc-link.fitted:hover,\n",
              "div.sk-label-container:hover .sk-estimator-doc-link.fitted:hover,\n",
              ".sk-estimator-doc-link.fitted:hover {\n",
              "  /* fitted */\n",
              "  background-color: var(--sklearn-color-fitted-level-3);\n",
              "  color: var(--sklearn-color-background);\n",
              "  text-decoration: none;\n",
              "}\n",
              "\n",
              "/* Span, style for the box shown on hovering the info icon */\n",
              ".sk-estimator-doc-link span {\n",
              "  display: none;\n",
              "  z-index: 9999;\n",
              "  position: relative;\n",
              "  font-weight: normal;\n",
              "  right: .2ex;\n",
              "  padding: .5ex;\n",
              "  margin: .5ex;\n",
              "  width: min-content;\n",
              "  min-width: 20ex;\n",
              "  max-width: 50ex;\n",
              "  color: var(--sklearn-color-text);\n",
              "  box-shadow: 2pt 2pt 4pt #999;\n",
              "  /* unfitted */\n",
              "  background: var(--sklearn-color-unfitted-level-0);\n",
              "  border: .5pt solid var(--sklearn-color-unfitted-level-3);\n",
              "}\n",
              "\n",
              ".sk-estimator-doc-link.fitted span {\n",
              "  /* fitted */\n",
              "  background: var(--sklearn-color-fitted-level-0);\n",
              "  border: var(--sklearn-color-fitted-level-3);\n",
              "}\n",
              "\n",
              ".sk-estimator-doc-link:hover span {\n",
              "  display: block;\n",
              "}\n",
              "\n",
              "/* \"?\"-specific style due to the `<a>` HTML tag */\n",
              "\n",
              "#sk-container-id-1 a.estimator_doc_link {\n",
              "  float: right;\n",
              "  font-size: 1rem;\n",
              "  line-height: 1em;\n",
              "  font-family: monospace;\n",
              "  background-color: var(--sklearn-color-background);\n",
              "  border-radius: 1rem;\n",
              "  height: 1rem;\n",
              "  width: 1rem;\n",
              "  text-decoration: none;\n",
              "  /* unfitted */\n",
              "  color: var(--sklearn-color-unfitted-level-1);\n",
              "  border: var(--sklearn-color-unfitted-level-1) 1pt solid;\n",
              "}\n",
              "\n",
              "#sk-container-id-1 a.estimator_doc_link.fitted {\n",
              "  /* fitted */\n",
              "  border: var(--sklearn-color-fitted-level-1) 1pt solid;\n",
              "  color: var(--sklearn-color-fitted-level-1);\n",
              "}\n",
              "\n",
              "/* On hover */\n",
              "#sk-container-id-1 a.estimator_doc_link:hover {\n",
              "  /* unfitted */\n",
              "  background-color: var(--sklearn-color-unfitted-level-3);\n",
              "  color: var(--sklearn-color-background);\n",
              "  text-decoration: none;\n",
              "}\n",
              "\n",
              "#sk-container-id-1 a.estimator_doc_link.fitted:hover {\n",
              "  /* fitted */\n",
              "  background-color: var(--sklearn-color-fitted-level-3);\n",
              "}\n",
              "</style><div id=\"sk-container-id-1\" class=\"sk-top-container\"><div class=\"sk-text-repr-fallback\"><pre>Ridge()</pre><b>In a Jupyter environment, please rerun this cell to show the HTML representation or trust the notebook. <br />On GitHub, the HTML representation is unable to render, please try loading this page with nbviewer.org.</b></div><div class=\"sk-container\" hidden><div class=\"sk-item\"><div class=\"sk-estimator fitted sk-toggleable\"><input class=\"sk-toggleable__control sk-hidden--visually\" id=\"sk-estimator-id-1\" type=\"checkbox\" checked><label for=\"sk-estimator-id-1\" class=\"sk-toggleable__label fitted sk-toggleable__label-arrow fitted\">&nbsp;&nbsp;Ridge<a class=\"sk-estimator-doc-link fitted\" rel=\"noreferrer\" target=\"_blank\" href=\"https://scikit-learn.org/1.5/modules/generated/sklearn.linear_model.Ridge.html\">?<span>Documentation for Ridge</span></a><span class=\"sk-estimator-doc-link fitted\">i<span>Fitted</span></span></label><div class=\"sk-toggleable__content fitted\"><pre>Ridge()</pre></div> </div></div></div></div>"
            ]
          },
          "metadata": {},
          "execution_count": 17
        }
      ]
    },
    {
      "cell_type": "code",
      "source": [
        "y_train_pred = ridge.predict(X_train)\n",
        "y_test_pred = ridge.predict(X_test)\n",
        "\n",
        "train_mse = mean_squared_error(y_train, y_train_pred)\n",
        "test_mse = mean_squared_error(y_test, y_test_pred)\n",
        "\n",
        "print(f\"Train MSE (Ridge): {train_mse}, Test MSE (Ridge): {test_mse}\")\n",
        "\n",
        "score_test=ridge.score(X_test, y_test)\n",
        "score_train=ridge.score(X_train, y_train)\n",
        "print (f\"Score test: {score_test}\")\n",
        "print (f\"Score train: {score_train}\")\n",
        "print(f\"Train MSE: {train_mse}, Test MSE: {test_mse}\")\n",
        "\n"
      ],
      "metadata": {
        "colab": {
          "base_uri": "https://localhost:8080/"
        },
        "id": "9o4V4aSp2J5U",
        "outputId": "333dc2a7-114f-4411-b743-fcca78d1b741"
      },
      "execution_count": 18,
      "outputs": [
        {
          "output_type": "stream",
          "name": "stdout",
          "text": [
            "Train MSE (Ridge): 0.09553973250665394, Test MSE (Ridge): 0.09171909693327761\n",
            "Score test: 0.9102630847532539\n",
            "Score train: 0.9044602674933461\n",
            "Train MSE: 0.09553973250665394, Test MSE: 0.09171909693327761\n"
          ]
        }
      ]
    },
    {
      "cell_type": "markdown",
      "source": [
        "Le modèle Ridge présente une faible erreur de prédiction tant sur l'ensemble d'entraînement (MSE de 0.0955) que sur l'ensemble de test (MSE de 0.0917), ce qui montre une bonne capacité de généralisation. Le R² élevé sur les deux ensembles (0.904 pour l'entraînement et 0.910 pour le test) indique que le modèle explique bien la variance des données, suggérant une bonne performance globale."
      ],
      "metadata": {
        "id": "MzYe83INm0Gx"
      }
    },
    {
      "cell_type": "markdown",
      "source": [
        "# **Tuning des hyperparamètres-RIDGE**"
      ],
      "metadata": {
        "id": "yiOh2Udr2zRL"
      }
    },
    {
      "cell_type": "code",
      "source": [
        "\n",
        "# Générer un intervalle de valeurs pour alpha\n",
        "alpha_values = np.linspace(0.1, 10, 50)  # 50 valeurs entre 0.1 et 10\n",
        "\n",
        "# Initialiser les variables pour stocker les meilleurs résultats\n",
        "best_alpha = None\n",
        "best_mse = float('inf')\n",
        "\n",
        "# Tester chaque valeur d'alpha\n",
        "for alpha in alpha_values:\n",
        "    ridge = linear_model.Ridge(alpha=alpha)\n",
        "    ridge.fit(X_train, y_train)\n",
        "\n",
        "    # Prédictions sur le jeu de test\n",
        "    y_test_pred = ridge.predict(X_test)\n",
        "\n",
        "    # Calcul du MSE sur le jeu de test\n",
        "    mse = mean_squared_error(y_test, y_test_pred)\n",
        "    print(f\"Alpha: {alpha:.2f}, Test MSE: {mse:.4f}\")\n",
        "\n",
        "    # Mettre à jour le meilleur alpha si nécessaire\n",
        "    if mse < best_mse:\n",
        "        best_mse = mse\n",
        "        best_alpha = alpha\n",
        "\n",
        "# Résultats finaux\n",
        "print(f\"Best alpha: {best_alpha:.2f}, Best Test MSE: {best_mse:.4f}\")\n"
      ],
      "metadata": {
        "colab": {
          "base_uri": "https://localhost:8080/"
        },
        "id": "jGh7GE-Z3f82",
        "outputId": "b69a7526-3045-473e-b7e1-22345d1bccc0"
      },
      "execution_count": 19,
      "outputs": [
        {
          "output_type": "stream",
          "name": "stdout",
          "text": [
            "Alpha: 0.10, Test MSE: 0.0917\n",
            "Alpha: 0.30, Test MSE: 0.0917\n",
            "Alpha: 0.50, Test MSE: 0.0917\n",
            "Alpha: 0.71, Test MSE: 0.0917\n",
            "Alpha: 0.91, Test MSE: 0.0917\n",
            "Alpha: 1.11, Test MSE: 0.0917\n",
            "Alpha: 1.31, Test MSE: 0.0917\n",
            "Alpha: 1.51, Test MSE: 0.0917\n",
            "Alpha: 1.72, Test MSE: 0.0917\n",
            "Alpha: 1.92, Test MSE: 0.0917\n",
            "Alpha: 2.12, Test MSE: 0.0917\n",
            "Alpha: 2.32, Test MSE: 0.0917\n",
            "Alpha: 2.52, Test MSE: 0.0917\n",
            "Alpha: 2.73, Test MSE: 0.0917\n",
            "Alpha: 2.93, Test MSE: 0.0917\n",
            "Alpha: 3.13, Test MSE: 0.0917\n",
            "Alpha: 3.33, Test MSE: 0.0917\n",
            "Alpha: 3.53, Test MSE: 0.0917\n",
            "Alpha: 3.74, Test MSE: 0.0917\n",
            "Alpha: 3.94, Test MSE: 0.0917\n",
            "Alpha: 4.14, Test MSE: 0.0917\n",
            "Alpha: 4.34, Test MSE: 0.0917\n",
            "Alpha: 4.54, Test MSE: 0.0917\n",
            "Alpha: 4.75, Test MSE: 0.0917\n",
            "Alpha: 4.95, Test MSE: 0.0917\n",
            "Alpha: 5.15, Test MSE: 0.0917\n",
            "Alpha: 5.35, Test MSE: 0.0917\n",
            "Alpha: 5.56, Test MSE: 0.0917\n",
            "Alpha: 5.76, Test MSE: 0.0917\n",
            "Alpha: 5.96, Test MSE: 0.0917\n",
            "Alpha: 6.16, Test MSE: 0.0917\n",
            "Alpha: 6.36, Test MSE: 0.0917\n",
            "Alpha: 6.57, Test MSE: 0.0917\n",
            "Alpha: 6.77, Test MSE: 0.0917\n",
            "Alpha: 6.97, Test MSE: 0.0917\n",
            "Alpha: 7.17, Test MSE: 0.0917\n",
            "Alpha: 7.37, Test MSE: 0.0917\n",
            "Alpha: 7.58, Test MSE: 0.0917\n",
            "Alpha: 7.78, Test MSE: 0.0917\n",
            "Alpha: 7.98, Test MSE: 0.0917\n",
            "Alpha: 8.18, Test MSE: 0.0917\n",
            "Alpha: 8.38, Test MSE: 0.0917\n",
            "Alpha: 8.59, Test MSE: 0.0917\n",
            "Alpha: 8.79, Test MSE: 0.0917\n",
            "Alpha: 8.99, Test MSE: 0.0917\n",
            "Alpha: 9.19, Test MSE: 0.0917\n",
            "Alpha: 9.39, Test MSE: 0.0917\n",
            "Alpha: 9.60, Test MSE: 0.0917\n",
            "Alpha: 9.80, Test MSE: 0.0917\n",
            "Alpha: 10.00, Test MSE: 0.0917\n",
            "Best alpha: 0.10, Best Test MSE: 0.0917\n"
          ]
        }
      ]
    },
    {
      "cell_type": "markdown",
      "source": [
        "Représentation des coeffients"
      ],
      "metadata": {
        "id": "Y64LsK2C3vVy"
      }
    },
    {
      "cell_type": "code",
      "source": [
        "from sklearn.metrics import r2_score\n",
        "# Entraînement du modèle Ridge\n",
        "ridge = linear_model.Ridge(alpha=best_alpha)\n",
        "ridge.fit(X_train, y_train)\n",
        "\n",
        "# Obtenir les coefficients du modèle\n",
        "coefficients = ridge.coef_\n",
        "\n",
        "# Prédictions sur l'ensemble d'entraînement et de test\n",
        "y_train_pred = ridge.predict(X_train)\n",
        "y_test_pred = ridge.predict(X_test)\n",
        "\n",
        "# Calculer les MSE et R^2\n",
        "train_mse = mean_squared_error(y_train, y_train_pred)\n",
        "test_mse = mean_squared_error(y_test, y_test_pred)\n",
        "train_r2 = r2_score(y_train, y_train_pred)\n",
        "test_r2 = r2_score(y_test, y_test_pred)\n",
        "\n",
        "# Afficher les résultats de l'entraînement et du test\n",
        "print(f\"Train MSE: {train_mse}\")\n",
        "print(f\"Test MSE: {test_mse}\")\n",
        "print(f\"Train R^2: {train_r2}\")\n",
        "print(f\"Test R^2: {test_r2}\")\n",
        "\n",
        "\n"
      ],
      "metadata": {
        "colab": {
          "base_uri": "https://localhost:8080/"
        },
        "id": "MnckX53O25ri",
        "outputId": "54626df6-369c-480c-ed03-6f9d97d85f65"
      },
      "execution_count": 20,
      "outputs": [
        {
          "output_type": "stream",
          "name": "stdout",
          "text": [
            "Train MSE: 0.09553963827114575\n",
            "Test MSE: 0.09171761247857765\n",
            "Train R^2: 0.9044603617288542\n",
            "Test R^2: 0.9102645371267514\n"
          ]
        }
      ]
    },
    {
      "cell_type": "markdown",
      "source": [
        "**Validation croisée RIDGE**"
      ],
      "metadata": {
        "id": "tkmeTDbAW2qd"
      }
    },
    {
      "cell_type": "code",
      "source": [
        "\n",
        "from sklearn.model_selection import cross_val_score\n",
        "# Entraînement du modèle Ridge avec le meilleur alpha trouvé\n",
        "ridge = Ridge(alpha=best_alpha)\n",
        "\n",
        "# Effectuer une validation croisée à 5 plis pour évaluer les performances du modèle\n",
        "cv_scores_mse = cross_val_score(ridge, X_train, y_train, cv=5, scoring='neg_mean_squared_error')\n",
        "cv_scores_r2 = cross_val_score(ridge, X_train, y_train, cv=5, scoring='r2')\n",
        "\n",
        "# Résultats de la validation croisée\n",
        "print(f\"Validation Croisée - MSE moyen: {-np.mean(cv_scores_mse)}\")\n",
        "print(f\"Validation Croisée - R^2 moyen: {np.mean(cv_scores_r2)}\")\n",
        "\n",
        "# Entraîner à nouveau sur l'ensemble complet pour obtenir les résultats sur l'ensemble d'entraînement et de test\n",
        "ridge.fit(X_train, y_train)\n",
        "\n",
        "# Prédictions sur l'ensemble d'entraînement et de test\n",
        "y_train_pred = ridge.predict(X_train)\n",
        "y_test_pred = ridge.predict(X_test)\n",
        "\n",
        "# Calculer les MSE et R^2 pour l'entraînement et le test\n",
        "train_mse = mean_squared_error(y_train, y_train_pred)\n",
        "test_mse = mean_squared_error(y_test, y_test_pred)\n",
        "train_r2 = r2_score(y_train, y_train_pred)\n",
        "test_r2 = r2_score(y_test, y_test_pred)\n",
        "\n",
        "# Afficher les résultats de l'entraînement et du test\n",
        "print(f\"Train MSE: {train_mse}\")\n",
        "print(f\"Test MSE: {test_mse}\")\n",
        "print(f\"Train R^2: {train_r2}\")\n",
        "print(f\"Test R^2: {test_r2}\")\n",
        "\n",
        "# Creating a bar plot to visualize coefficients\n",
        "coefficients = ridge.coef_.ravel()  # Flatten the coefficients array\n",
        "plt.figure(figsize=(10, 6))\n",
        "plt.barh(range(len(coefficients)), coefficients, tick_label=X_train.columns)\n",
        "plt.xlabel('Coefficients')\n",
        "plt.title('Coefficients du modèle de régression Ridge')\n",
        "plt.show()"
      ],
      "metadata": {
        "id": "u7OlknaOW6S-",
        "colab": {
          "base_uri": "https://localhost:8080/",
          "height": 666
        },
        "outputId": "e47dbbb3-3033-467e-ba33-43ceeb88af20"
      },
      "execution_count": 21,
      "outputs": [
        {
          "output_type": "stream",
          "name": "stdout",
          "text": [
            "Validation Croisée - MSE moyen: 0.09663613995132327\n",
            "Validation Croisée - R^2 moyen: 0.9032790379446898\n",
            "Train MSE: 0.09553963827114575\n",
            "Test MSE: 0.09171761247857765\n",
            "Train R^2: 0.9044603617288542\n",
            "Test R^2: 0.9102645371267514\n"
          ]
        },
        {
          "output_type": "display_data",
          "data": {
            "text/plain": [
              "<Figure size 1000x600 with 1 Axes>"
            ],
            "image/png": "[encoded data removed]"
          },
          "metadata": {}
        }
      ]
    },
    {
      "cell_type": "markdown",
      "source": [
        "Le modèle Ridge présente des résultats solides avec un MSE moyen de 0.0966 lors de la validation croisée, et un R² moyen de 0.903, ce qui indique une bonne capacité de généralisation. Les performances sur l'ensemble d'entraînement (MSE de 0.0955, R² de 0.904) et sur l'ensemble de test (MSE de 0.0917, R² de 0.910) confirment que le modèle offre des prédictions précises et cohérentes."
      ],
      "metadata": {
        "id": "GSHCeFKEnCd0"
      }
    },
    {
      "cell_type": "markdown",
      "source": [
        "# **Regressionn de LASSO**"
      ],
      "metadata": {
        "id": "Yh4pAv967vBY"
      }
    },
    {
      "cell_type": "code",
      "source": [
        "from sklearn.linear_model import Lasso\n",
        "lasso = Lasso(alpha=1.0)#Alpha=1\n",
        "lasso.fit(X_train, y_train)"
      ],
      "metadata": {
        "colab": {
          "base_uri": "https://localhost:8080/",
          "height": 80
        },
        "id": "nqe0GjC6TuFe",
        "outputId": "8a5aaf5a-709e-42fe-9244-bc9e0cb89d1f"
      },
      "execution_count": 24,
      "outputs": [
        {
          "output_type": "execute_result",
          "data": {
            "text/plain": [
              "Lasso()"
            ],
            "text/html": [
              "<style>#sk-container-id-3 {\n",
              "  /* Definition of color scheme common for light and dark mode */\n",
              "  --sklearn-color-text: black;\n",
              "  --sklearn-color-line: gray;\n",
              "  /* Definition of color scheme for unfitted estimators */\n",
              "  --sklearn-color-unfitted-level-0: #fff5e6;\n",
              "  --sklearn-color-unfitted-level-1: #f6e4d2;\n",
              "  --sklearn-color-unfitted-level-2: #ffe0b3;\n",
              "  --sklearn-color-unfitted-level-3: chocolate;\n",
              "  /* Definition of color scheme for fitted estimators */\n",
              "  --sklearn-color-fitted-level-0: #f0f8ff;\n",
              "  --sklearn-color-fitted-level-1: #d4ebff;\n",
              "  --sklearn-color-fitted-level-2: #b3dbfd;\n",
              "  --sklearn-color-fitted-level-3: cornflowerblue;\n",
              "\n",
              "  /* Specific color for light theme */\n",
              "  --sklearn-color-text-on-default-background: var(--sg-text-color, var(--theme-code-foreground, var(--jp-content-font-color1, black)));\n",
              "  --sklearn-color-background: var(--sg-background-color, var(--theme-background, var(--jp-layout-color0, white)));\n",
              "  --sklearn-color-border-box: var(--sg-text-color, var(--theme-code-foreground, var(--jp-content-font-color1, black)));\n",
              "  --sklearn-color-icon: #696969;\n",
              "\n",
              "  @media (prefers-color-scheme: dark) {\n",
              "    /* Redefinition of color scheme for dark theme */\n",
              "    --sklearn-color-text-on-default-background: var(--sg-text-color, var(--theme-code-foreground, var(--jp-content-font-color1, white)));\n",
              "    --sklearn-color-background: var(--sg-background-color, var(--theme-background, var(--jp-layout-color0, #111)));\n",
              "    --sklearn-color-border-box: var(--sg-text-color, var(--theme-code-foreground, var(--jp-content-font-color1, white)));\n",
              "    --sklearn-color-icon: #878787;\n",
              "  }\n",
              "}\n",
              "\n",
              "#sk-container-id-3 {\n",
              "  color: var(--sklearn-color-text);\n",
              "}\n",
              "\n",
              "#sk-container-id-3 pre {\n",
              "  padding: 0;\n",
              "}\n",
              "\n",
              "#sk-container-id-3 input.sk-hidden--visually {\n",
              "  border: 0;\n",
              "  clip: rect(1px 1px 1px 1px);\n",
              "  clip: rect(1px, 1px, 1px, 1px);\n",
              "  height: 1px;\n",
              "  margin: -1px;\n",
              "  overflow: hidden;\n",
              "  padding: 0;\n",
              "  position: absolute;\n",
              "  width: 1px;\n",
              "}\n",
              "\n",
              "#sk-container-id-3 div.sk-dashed-wrapped {\n",
              "  border: 1px dashed var(--sklearn-color-line);\n",
              "  margin: 0 0.4em 0.5em 0.4em;\n",
              "  box-sizing: border-box;\n",
              "  padding-bottom: 0.4em;\n",
              "  background-color: var(--sklearn-color-background);\n",
              "}\n",
              "\n",
              "#sk-container-id-3 div.sk-container {\n",
              "  /* jupyter's `normalize.less` sets `[hidden] { display: none; }`\n",
              "     but bootstrap.min.css set `[hidden] { display: none !important; }`\n",
              "     so we also need the `!important` here to be able to override the\n",
              "     default hidden behavior on the sphinx rendered scikit-learn.org.\n",
              "     See: https://github.com/scikit-learn/scikit-learn/issues/21755 */\n",
              "  display: inline-block !important;\n",
              "  position: relative;\n",
              "}\n",
              "\n",
              "#sk-container-id-3 div.sk-text-repr-fallback {\n",
              "  display: none;\n",
              "}\n",
              "\n",
              "div.sk-parallel-item,\n",
              "div.sk-serial,\n",
              "div.sk-item {\n",
              "  /* draw centered vertical line to link estimators */\n",
              "  background-image: linear-gradient(var(--sklearn-color-text-on-default-background), var(--sklearn-color-text-on-default-background));\n",
              "  background-size: 2px 100%;\n",
              "  background-repeat: no-repeat;\n",
              "  background-position: center center;\n",
              "}\n",
              "\n",
              "/* Parallel-specific style estimator block */\n",
              "\n",
              "#sk-container-id-3 div.sk-parallel-item::after {\n",
              "  content: \"\";\n",
              "  width: 100%;\n",
              "  border-bottom: 2px solid var(--sklearn-color-text-on-default-background);\n",
              "  flex-grow: 1;\n",
              "}\n",
              "\n",
              "#sk-container-id-3 div.sk-parallel {\n",
              "  display: flex;\n",
              "  align-items: stretch;\n",
              "  justify-content: center;\n",
              "  background-color: var(--sklearn-color-background);\n",
              "  position: relative;\n",
              "}\n",
              "\n",
              "#sk-container-id-3 div.sk-parallel-item {\n",
              "  display: flex;\n",
              "  flex-direction: column;\n",
              "}\n",
              "\n",
              "#sk-container-id-3 div.sk-parallel-item:first-child::after {\n",
              "  align-self: flex-end;\n",
              "  width: 50%;\n",
              "}\n",
              "\n",
              "#sk-container-id-3 div.sk-parallel-item:last-child::after {\n",
              "  align-self: flex-start;\n",
              "  width: 50%;\n",
              "}\n",
              "\n",
              "#sk-container-id-3 div.sk-parallel-item:only-child::after {\n",
              "  width: 0;\n",
              "}\n",
              "\n",
              "/* Serial-specific style estimator block */\n",
              "\n",
              "#sk-container-id-3 div.sk-serial {\n",
              "  display: flex;\n",
              "  flex-direction: column;\n",
              "  align-items: center;\n",
              "  background-color: var(--sklearn-color-background);\n",
              "  padding-right: 1em;\n",
              "  padding-left: 1em;\n",
              "}\n",
              "\n",
              "\n",
              "/* Toggleable style: style used for estimator/Pipeline/ColumnTransformer box that is\n",
              "clickable and can be expanded/collapsed.\n",
              "- Pipeline and ColumnTransformer use this feature and define the default style\n",
              "- Estimators will overwrite some part of the style using the `sk-estimator` class\n",
              "*/\n",
              "\n",
              "/* Pipeline and ColumnTransformer style (default) */\n",
              "\n",
              "#sk-container-id-3 div.sk-toggleable {\n",
              "  /* Default theme specific background. It is overwritten whether we have a\n",
              "  specific estimator or a Pipeline/ColumnTransformer */\n",
              "  background-color: var(--sklearn-color-background);\n",
              "}\n",
              "\n",
              "/* Toggleable label */\n",
              "#sk-container-id-3 label.sk-toggleable__label {\n",
              "  cursor: pointer;\n",
              "  display: block;\n",
              "  width: 100%;\n",
              "  margin-bottom: 0;\n",
              "  padding: 0.5em;\n",
              "  box-sizing: border-box;\n",
              "  text-align: center;\n",
              "}\n",
              "\n",
              "#sk-container-id-3 label.sk-toggleable__label-arrow:before {\n",
              "  /* Arrow on the left of the label */\n",
              "  content: \"▸\";\n",
              "  float: left;\n",
              "  margin-right: 0.25em;\n",
              "  color: var(--sklearn-color-icon);\n",
              "}\n",
              "\n",
              "#sk-container-id-3 label.sk-toggleable__label-arrow:hover:before {\n",
              "  color: var(--sklearn-color-text);\n",
              "}\n",
              "\n",
              "/* Toggleable content - dropdown */\n",
              "\n",
              "#sk-container-id-3 div.sk-toggleable__content {\n",
              "  max-height: 0;\n",
              "  max-width: 0;\n",
              "  overflow: hidden;\n",
              "  text-align: left;\n",
              "  /* unfitted */\n",
              "  background-color: var(--sklearn-color-unfitted-level-0);\n",
              "}\n",
              "\n",
              "#sk-container-id-3 div.sk-toggleable__content.fitted {\n",
              "  /* fitted */\n",
              "  background-color: var(--sklearn-color-fitted-level-0);\n",
              "}\n",
              "\n",
              "#sk-container-id-3 div.sk-toggleable__content pre {\n",
              "  margin: 0.2em;\n",
              "  border-radius: 0.25em;\n",
              "  color: var(--sklearn-color-text);\n",
              "  /* unfitted */\n",
              "  background-color: var(--sklearn-color-unfitted-level-0);\n",
              "}\n",
              "\n",
              "#sk-container-id-3 div.sk-toggleable__content.fitted pre {\n",
              "  /* unfitted */\n",
              "  background-color: var(--sklearn-color-fitted-level-0);\n",
              "}\n",
              "\n",
              "#sk-container-id-3 input.sk-toggleable__control:checked~div.sk-toggleable__content {\n",
              "  /* Expand drop-down */\n",
              "  max-height: 200px;\n",
              "  max-width: 100%;\n",
              "  overflow: auto;\n",
              "}\n",
              "\n",
              "#sk-container-id-3 input.sk-toggleable__control:checked~label.sk-toggleable__label-arrow:before {\n",
              "  content: \"▾\";\n",
              "}\n",
              "\n",
              "/* Pipeline/ColumnTransformer-specific style */\n",
              "\n",
              "#sk-container-id-3 div.sk-label input.sk-toggleable__control:checked~label.sk-toggleable__label {\n",
              "  color: var(--sklearn-color-text);\n",
              "  background-color: var(--sklearn-color-unfitted-level-2);\n",
              "}\n",
              "\n",
              "#sk-container-id-3 div.sk-label.fitted input.sk-toggleable__control:checked~label.sk-toggleable__label {\n",
              "  background-color: var(--sklearn-color-fitted-level-2);\n",
              "}\n",
              "\n",
              "/* Estimator-specific style */\n",
              "\n",
              "/* Colorize estimator box */\n",
              "#sk-container-id-3 div.sk-estimator input.sk-toggleable__control:checked~label.sk-toggleable__label {\n",
              "  /* unfitted */\n",
              "  background-color: var(--sklearn-color-unfitted-level-2);\n",
              "}\n",
              "\n",
              "#sk-container-id-3 div.sk-estimator.fitted input.sk-toggleable__control:checked~label.sk-toggleable__label {\n",
              "  /* fitted */\n",
              "  background-color: var(--sklearn-color-fitted-level-2);\n",
              "}\n",
              "\n",
              "#sk-container-id-3 div.sk-label label.sk-toggleable__label,\n",
              "#sk-container-id-3 div.sk-label label {\n",
              "  /* The background is the default theme color */\n",
              "  color: var(--sklearn-color-text-on-default-background);\n",
              "}\n",
              "\n",
              "/* On hover, darken the color of the background */\n",
              "#sk-container-id-3 div.sk-label:hover label.sk-toggleable__label {\n",
              "  color: var(--sklearn-color-text);\n",
              "  background-color: var(--sklearn-color-unfitted-level-2);\n",
              "}\n",
              "\n",
              "/* Label box, darken color on hover, fitted */\n",
              "#sk-container-id-3 div.sk-label.fitted:hover label.sk-toggleable__label.fitted {\n",
              "  color: var(--sklearn-color-text);\n",
              "  background-color: var(--sklearn-color-fitted-level-2);\n",
              "}\n",
              "\n",
              "/* Estimator label */\n",
              "\n",
              "#sk-container-id-3 div.sk-label label {\n",
              "  font-family: monospace;\n",
              "  font-weight: bold;\n",
              "  display: inline-block;\n",
              "  line-height: 1.2em;\n",
              "}\n",
              "\n",
              "#sk-container-id-3 div.sk-label-container {\n",
              "  text-align: center;\n",
              "}\n",
              "\n",
              "/* Estimator-specific */\n",
              "#sk-container-id-3 div.sk-estimator {\n",
              "  font-family: monospace;\n",
              "  border: 1px dotted var(--sklearn-color-border-box);\n",
              "  border-radius: 0.25em;\n",
              "  box-sizing: border-box;\n",
              "  margin-bottom: 0.5em;\n",
              "  /* unfitted */\n",
              "  background-color: var(--sklearn-color-unfitted-level-0);\n",
              "}\n",
              "\n",
              "#sk-container-id-3 div.sk-estimator.fitted {\n",
              "  /* fitted */\n",
              "  background-color: var(--sklearn-color-fitted-level-0);\n",
              "}\n",
              "\n",
              "/* on hover */\n",
              "#sk-container-id-3 div.sk-estimator:hover {\n",
              "  /* unfitted */\n",
              "  background-color: var(--sklearn-color-unfitted-level-2);\n",
              "}\n",
              "\n",
              "#sk-container-id-3 div.sk-estimator.fitted:hover {\n",
              "  /* fitted */\n",
              "  background-color: var(--sklearn-color-fitted-level-2);\n",
              "}\n",
              "\n",
              "/* Specification for estimator info (e.g. \"i\" and \"?\") */\n",
              "\n",
              "/* Common style for \"i\" and \"?\" */\n",
              "\n",
              ".sk-estimator-doc-link,\n",
              "a:link.sk-estimator-doc-link,\n",
              "a:visited.sk-estimator-doc-link {\n",
              "  float: right;\n",
              "  font-size: smaller;\n",
              "  line-height: 1em;\n",
              "  font-family: monospace;\n",
              "  background-color: var(--sklearn-color-background);\n",
              "  border-radius: 1em;\n",
              "  height: 1em;\n",
              "  width: 1em;\n",
              "  text-decoration: none !important;\n",
              "  margin-left: 1ex;\n",
              "  /* unfitted */\n",
              "  border: var(--sklearn-color-unfitted-level-1) 1pt solid;\n",
              "  color: var(--sklearn-color-unfitted-level-1);\n",
              "}\n",
              "\n",
              ".sk-estimator-doc-link.fitted,\n",
              "a:link.sk-estimator-doc-link.fitted,\n",
              "a:visited.sk-estimator-doc-link.fitted {\n",
              "  /* fitted */\n",
              "  border: var(--sklearn-color-fitted-level-1) 1pt solid;\n",
              "  color: var(--sklearn-color-fitted-level-1);\n",
              "}\n",
              "\n",
              "/* On hover */\n",
              "div.sk-estimator:hover .sk-estimator-doc-link:hover,\n",
              ".sk-estimator-doc-link:hover,\n",
              "div.sk-label-container:hover .sk-estimator-doc-link:hover,\n",
              ".sk-estimator-doc-link:hover {\n",
              "  /* unfitted */\n",
              "  background-color: var(--sklearn-color-unfitted-level-3);\n",
              "  color: var(--sklearn-color-background);\n",
              "  text-decoration: none;\n",
              "}\n",
              "\n",
              "div.sk-estimator.fitted:hover .sk-estimator-doc-link.fitted:hover,\n",
              ".sk-estimator-doc-link.fitted:hover,\n",
              "div.sk-label-container:hover .sk-estimator-doc-link.fitted:hover,\n",
              ".sk-estimator-doc-link.fitted:hover {\n",
              "  /* fitted */\n",
              "  background-color: var(--sklearn-color-fitted-level-3);\n",
              "  color: var(--sklearn-color-background);\n",
              "  text-decoration: none;\n",
              "}\n",
              "\n",
              "/* Span, style for the box shown on hovering the info icon */\n",
              ".sk-estimator-doc-link span {\n",
              "  display: none;\n",
              "  z-index: 9999;\n",
              "  position: relative;\n",
              "  font-weight: normal;\n",
              "  right: .2ex;\n",
              "  padding: .5ex;\n",
              "  margin: .5ex;\n",
              "  width: min-content;\n",
              "  min-width: 20ex;\n",
              "  max-width: 50ex;\n",
              "  color: var(--sklearn-color-text);\n",
              "  box-shadow: 2pt 2pt 4pt #999;\n",
              "  /* unfitted */\n",
              "  background: var(--sklearn-color-unfitted-level-0);\n",
              "  border: .5pt solid var(--sklearn-color-unfitted-level-3);\n",
              "}\n",
              "\n",
              ".sk-estimator-doc-link.fitted span {\n",
              "  /* fitted */\n",
              "  background: var(--sklearn-color-fitted-level-0);\n",
              "  border: var(--sklearn-color-fitted-level-3);\n",
              "}\n",
              "\n",
              ".sk-estimator-doc-link:hover span {\n",
              "  display: block;\n",
              "}\n",
              "\n",
              "/* \"?\"-specific style due to the `<a>` HTML tag */\n",
              "\n",
              "#sk-container-id-3 a.estimator_doc_link {\n",
              "  float: right;\n",
              "  font-size: 1rem;\n",
              "  line-height: 1em;\n",
              "  font-family: monospace;\n",
              "  background-color: var(--sklearn-color-background);\n",
              "  border-radius: 1rem;\n",
              "  height: 1rem;\n",
              "  width: 1rem;\n",
              "  text-decoration: none;\n",
              "  /* unfitted */\n",
              "  color: var(--sklearn-color-unfitted-level-1);\n",
              "  border: var(--sklearn-color-unfitted-level-1) 1pt solid;\n",
              "}\n",
              "\n",
              "#sk-container-id-3 a.estimator_doc_link.fitted {\n",
              "  /* fitted */\n",
              "  border: var(--sklearn-color-fitted-level-1) 1pt solid;\n",
              "  color: var(--sklearn-color-fitted-level-1);\n",
              "}\n",
              "\n",
              "/* On hover */\n",
              "#sk-container-id-3 a.estimator_doc_link:hover {\n",
              "  /* unfitted */\n",
              "  background-color: var(--sklearn-color-unfitted-level-3);\n",
              "  color: var(--sklearn-color-background);\n",
              "  text-decoration: none;\n",
              "}\n",
              "\n",
              "#sk-container-id-3 a.estimator_doc_link.fitted:hover {\n",
              "  /* fitted */\n",
              "  background-color: var(--sklearn-color-fitted-level-3);\n",
              "}\n",
              "</style><div id=\"sk-container-id-3\" class=\"sk-top-container\"><div class=\"sk-text-repr-fallback\"><pre>Lasso()</pre><b>In a Jupyter environment, please rerun this cell to show the HTML representation or trust the notebook. <br />On GitHub, the HTML representation is unable to render, please try loading this page with nbviewer.org.</b></div><div class=\"sk-container\" hidden><div class=\"sk-item\"><div class=\"sk-estimator fitted sk-toggleable\"><input class=\"sk-toggleable__control sk-hidden--visually\" id=\"sk-estimator-id-3\" type=\"checkbox\" checked><label for=\"sk-estimator-id-3\" class=\"sk-toggleable__label fitted sk-toggleable__label-arrow fitted\">&nbsp;&nbsp;Lasso<a class=\"sk-estimator-doc-link fitted\" rel=\"noreferrer\" target=\"_blank\" href=\"https://scikit-learn.org/1.5/modules/generated/sklearn.linear_model.Lasso.html\">?<span>Documentation for Lasso</span></a><span class=\"sk-estimator-doc-link fitted\">i<span>Fitted</span></span></label><div class=\"sk-toggleable__content fitted\"><pre>Lasso()</pre></div> </div></div></div></div>"
            ]
          },
          "metadata": {},
          "execution_count": 24
        }
      ]
    },
    {
      "cell_type": "code",
      "source": [
        "# Prédictions sur l'ensemble d'entraînement et de test\n",
        "y_train_pred = lasso.predict(X_train)\n",
        "y_test_pred = lasso.predict(X_test)\n",
        "\n",
        "# Calculer les MSE et R^2\n",
        "train_mse = mean_squared_error(y_train, y_train_pred)\n",
        "test_mse = mean_squared_error(y_test, y_test_pred)\n",
        "train_r2 = r2_score(y_train, y_train_pred)\n",
        "test_r2 = r2_score(y_test, y_test_pred)\n",
        "\n",
        "# Afficher les résultats de l'entraînement et du test\n",
        "print(f\"Train MSE: {train_mse}\")\n",
        "print(f\"Test MSE: {test_mse}\")\n",
        "print(f\"Train R^2: {train_r2}\")\n",
        "print(f\"Test R^2: {test_r2}\")"
      ],
      "metadata": {
        "colab": {
          "base_uri": "https://localhost:8080/"
        },
        "id": "PPXS5CSJT8n-",
        "outputId": "8b3723d7-5a97-469c-a0b5-9fa2aacd547a"
      },
      "execution_count": 25,
      "outputs": [
        {
          "output_type": "stream",
          "name": "stdout",
          "text": [
            "Train MSE: 0.3164794758398285\n",
            "Test MSE: 0.3280644751146426\n",
            "Train R^2: 0.6835205241601715\n",
            "Test R^2: 0.6790254703418296\n"
          ]
        }
      ]
    },
    {
      "cell_type": "markdown",
      "source": [
        "Le modèle Lasso présente des résultats moins performants par rapport au modèle Ridge, avec un MSE d'entraînement de 0.316 et un MSE de test de 0.328, ce qui indique un plus grand écart entre les prédictions du modèle et les valeurs réelles. Le R² est également plus faible, atteignant 0.684 pour l'entraînement et 0.679 pour le test, suggérant que le modèle explique moins de variance dans les données par rapport au modèle Ridge."
      ],
      "metadata": {
        "id": "i3CwhRtJnNi2"
      }
    },
    {
      "cell_type": "markdown",
      "source": [
        "# **Tuning des hyperparamètres-LASSO**"
      ],
      "metadata": {
        "id": "30wiBcETUmKl"
      }
    },
    {
      "cell_type": "code",
      "source": [
        "\n",
        "\n",
        "# Générer un intervalle de valeurs pour alpha\n",
        "alpha_values = np.linspace(0.01, 10, 50)  # Valeurs entre 0.01 et 10\n",
        "\n",
        "# Initialiser les variables pour stocker les meilleurs résultats\n",
        "best_alpha_lasso = None\n",
        "best_mse_lasso = float('inf')\n",
        "\n",
        "# Tester chaque valeur d'alpha\n",
        "for alpha in alpha_values:\n",
        "    lasso = Lasso(alpha=alpha)\n",
        "    lasso.fit(X_train, y_train)\n",
        "\n",
        "    # Prédictions sur le jeu de test\n",
        "    y_test_pred_lasso = lasso.predict(X_test)\n",
        "\n",
        "    # Calcul du MSE sur le jeu de test\n",
        "    mse_lasso = mean_squared_error(y_test, y_test_pred_lasso)\n",
        "    print(f\"Alpha: {alpha:.2f}, Test MSE: {mse_lasso:.4f}\")\n",
        "\n",
        "    # Mettre à jour le meilleur alpha si nécessaire\n",
        "    if mse_lasso < best_mse_lasso:\n",
        "        best_mse_lasso = mse_lasso\n",
        "        best_alpha_lasso = alpha\n",
        "\n",
        "# Résultats finaux\n",
        "print(f\"Meilleur alpha pour  Lasso: {best_alpha_lasso:.2f}, Meilleur Test MSE pour  Lasso: {best_mse_lasso:.4f}\")\n"
      ],
      "metadata": {
        "id": "CvcTP7SN8cQQ",
        "colab": {
          "base_uri": "https://localhost:8080/"
        },
        "outputId": "7f2d3299-be11-4ba6-9f7f-25715c69242b"
      },
      "execution_count": 26,
      "outputs": [
        {
          "output_type": "stream",
          "name": "stdout",
          "text": [
            "Alpha: 0.01, Test MSE: 0.0965\n",
            "Alpha: 0.21, Test MSE: 0.2821\n",
            "Alpha: 0.42, Test MSE: 0.2890\n",
            "Alpha: 0.62, Test MSE: 0.2994\n",
            "Alpha: 0.83, Test MSE: 0.3133\n",
            "Alpha: 1.03, Test MSE: 0.3308\n",
            "Alpha: 1.23, Test MSE: 0.3518\n",
            "Alpha: 1.44, Test MSE: 0.3763\n",
            "Alpha: 1.64, Test MSE: 0.4044\n",
            "Alpha: 1.84, Test MSE: 0.4359\n",
            "Alpha: 2.05, Test MSE: 0.4710\n",
            "Alpha: 2.25, Test MSE: 0.5096\n",
            "Alpha: 2.46, Test MSE: 0.5518\n",
            "Alpha: 2.66, Test MSE: 0.5975\n",
            "Alpha: 2.86, Test MSE: 0.6400\n",
            "Alpha: 3.07, Test MSE: 0.6503\n",
            "Alpha: 3.27, Test MSE: 0.6599\n",
            "Alpha: 3.48, Test MSE: 0.6701\n",
            "Alpha: 3.68, Test MSE: 0.6809\n",
            "Alpha: 3.88, Test MSE: 0.6924\n",
            "Alpha: 4.09, Test MSE: 0.7045\n",
            "Alpha: 4.29, Test MSE: 0.7172\n",
            "Alpha: 4.50, Test MSE: 0.7306\n",
            "Alpha: 4.70, Test MSE: 0.7447\n",
            "Alpha: 4.90, Test MSE: 0.7594\n",
            "Alpha: 5.11, Test MSE: 0.7747\n",
            "Alpha: 5.31, Test MSE: 0.7907\n",
            "Alpha: 5.51, Test MSE: 0.8073\n",
            "Alpha: 5.72, Test MSE: 0.8245\n",
            "Alpha: 5.92, Test MSE: 0.8424\n",
            "Alpha: 6.13, Test MSE: 0.8609\n",
            "Alpha: 6.33, Test MSE: 0.8801\n",
            "Alpha: 6.53, Test MSE: 0.9000\n",
            "Alpha: 6.74, Test MSE: 0.9204\n",
            "Alpha: 6.94, Test MSE: 0.9415\n",
            "Alpha: 7.15, Test MSE: 0.9633\n",
            "Alpha: 7.35, Test MSE: 0.9857\n",
            "Alpha: 7.55, Test MSE: 1.0087\n",
            "Alpha: 7.76, Test MSE: 1.0257\n",
            "Alpha: 7.96, Test MSE: 1.0257\n",
            "Alpha: 8.17, Test MSE: 1.0257\n",
            "Alpha: 8.37, Test MSE: 1.0257\n",
            "Alpha: 8.57, Test MSE: 1.0257\n",
            "Alpha: 8.78, Test MSE: 1.0257\n",
            "Alpha: 8.98, Test MSE: 1.0257\n",
            "Alpha: 9.18, Test MSE: 1.0257\n",
            "Alpha: 9.39, Test MSE: 1.0257\n",
            "Alpha: 9.59, Test MSE: 1.0257\n",
            "Alpha: 9.80, Test MSE: 1.0257\n",
            "Alpha: 10.00, Test MSE: 1.0257\n",
            "Meilleur alpha pour  Lasso: 0.01, Meilleur Test MSE pour  Lasso: 0.0965\n"
          ]
        }
      ]
    },
    {
      "cell_type": "markdown",
      "source": [
        "## **Modèle avec notre Best_alpha**\n"
      ],
      "metadata": {
        "id": "j0GBCzX2UySZ"
      }
    },
    {
      "cell_type": "code",
      "source": [
        "# Entraîner Lasso avec le meilleur alpha trouvé\n",
        "lasso_best = Lasso(alpha=best_alpha_lasso)\n",
        "lasso_best.fit(X_train, y_train)\n",
        "\n",
        "# Obtenir les coefficients\n",
        "coefficients_lasso = lasso_best.coef_\n",
        "lasso_best.fit(X_train, y_train)\n",
        "\n",
        "# Prédictions sur l'ensemble d'entraînement et de test\n",
        "y_train_pred = lasso_best.predict(X_train)\n",
        "y_test_pred = lasso_best.predict(X_test)\n",
        "\n",
        "# Calculer les MSE et R^2\n",
        "train_mse = mean_squared_error(y_train, y_train_pred)\n",
        "test_mse = mean_squared_error(y_test, y_test_pred)\n",
        "train_r2 = r2_score(y_train, y_train_pred)\n",
        "test_r2 = r2_score(y_test, y_test_pred)\n",
        "\n",
        "# Afficher les résultats de l'entraînement et du test\n",
        "print(f\"Train MSE: {train_mse}\")\n",
        "print(f\"Test MSE: {test_mse}\")\n",
        "print(f\"Train R^2: {train_r2}\")\n",
        "print(f\"Test R^2: {test_r2}\")\n",
        "\n",
        "# Visualiser les coefficients\n",
        "plt.figure(figsize=(10, 6))\n",
        "plt.barh(range(len(coefficients_lasso)), coefficients_lasso, tick_label=X_train.columns)\n",
        "plt.xlabel('Coefficients')\n",
        "plt.title('Coefficients du modèle de régression Lasso')\n",
        "plt.show()\n"
      ],
      "metadata": {
        "id": "wKg3O7m68wsL",
        "colab": {
          "base_uri": "https://localhost:8080/",
          "height": 631
        },
        "outputId": "996abaad-a9c7-4797-926a-5aabdc2d2e88"
      },
      "execution_count": 27,
      "outputs": [
        {
          "output_type": "stream",
          "name": "stdout",
          "text": [
            "Train MSE: 0.10030892941900742\n",
            "Test MSE: 0.0964735148399511\n",
            "Train R^2: 0.8996910705809926\n",
            "Test R^2: 0.9056114166600853\n"
          ]
        },
        {
          "output_type": "display_data",
          "data": {
            "text/plain": [
              "<Figure size 1000x600 with 1 Axes>"
            ],
            "image/png": "[encoded data removed]"
          },
          "metadata": {}
        }
      ]
    },
    {
      "cell_type": "markdown",
      "source": [
        "**Validation croisée LASSO**"
      ],
      "metadata": {
        "id": "YngDOHKHWLAI"
      }
    },
    {
      "cell_type": "code",
      "source": [
        "\n",
        "\n",
        "# Entraîner Lasso avec le meilleur alpha trouvé\n",
        "lasso_best = Lasso(alpha=best_alpha_lasso)\n",
        "\n",
        "# Effectuer une validation croisée à 5 plis pour évaluer les performances du modèle\n",
        "cv_scores_mse = cross_val_score(lasso_best, X_train, y_train, cv=5, scoring='neg_mean_squared_error')\n",
        "cv_scores_r2 = cross_val_score(lasso_best, X_train, y_train, cv=5, scoring='r2')\n",
        "\n",
        "# Résultats de la validation croisée\n",
        "print(f\"Validation Croisée - MSE moyen: {-np.mean(cv_scores_mse)}\")\n",
        "print(f\"Validation Croisée - R^2 moyen: {np.mean(cv_scores_r2)}\")\n",
        "\n",
        "# Entraîner à nouveau sur l'ensemble complet pour obtenir les résultats sur l'ensemble d'entraînement et de test\n",
        "lasso_best.fit(X_train, y_train)\n",
        "\n",
        "# Prédictions sur l'ensemble d'entraînement et de test\n",
        "y_train_pred = lasso_best.predict(X_train)\n",
        "y_test_pred = lasso_best.predict(X_test)\n",
        "\n",
        "# Calculer les MSE et R^2 pour l'entraînement et le test\n",
        "train_mse = mean_squared_error(y_train, y_train_pred)\n",
        "test_mse = mean_squared_error(y_test, y_test_pred)\n",
        "train_r2 = r2_score(y_train, y_train_pred)\n",
        "test_r2 = r2_score(y_test, y_test_pred)\n",
        "\n",
        "# Afficher les résultats de l'entraînement et du test\n",
        "print(f\"Train MSE: {train_mse}\")\n",
        "print(f\"Test MSE: {test_mse}\")\n",
        "print(f\"Train R^2: {train_r2}\")\n",
        "print(f\"Test R^2: {test_r2}\")\n"
      ],
      "metadata": {
        "id": "uiYREmcXWOpr",
        "colab": {
          "base_uri": "https://localhost:8080/"
        },
        "outputId": "e7fbcf2a-c1b1-4e39-a701-4c8a7d117ca4"
      },
      "execution_count": 28,
      "outputs": [
        {
          "output_type": "stream",
          "name": "stdout",
          "text": [
            "Validation Croisée - MSE moyen: 0.10142725580050165\n",
            "Validation Croisée - R^2 moyen: 0.8984641066677428\n",
            "Train MSE: 0.10030892941900742\n",
            "Test MSE: 0.0964735148399511\n",
            "Train R^2: 0.8996910705809926\n",
            "Test R^2: 0.9056114166600853\n"
          ]
        }
      ]
    },
    {
      "cell_type": "markdown",
      "source": [
        "Après la validation croisée et l'optimisation des hyperparamètres, le modèle Lasso présente des améliorations significatives. Le MSE moyen de la validation croisée est de 0.101, avec un R² moyen de 0.898, indiquant une bonne capacité du modèle à prédire les données. Les performances sur l'ensemble d'entraînement montrent un MSE de 0.100 et un R² de 0.900, tandis que sur l'ensemble de test, le MSE est de 0.096 et le R² atteint 0.906, ce qui montre une excellente capacité de généralisation du modèle."
      ],
      "metadata": {
        "id": "dIRXABIdnaVQ"
      }
    },
    {
      "cell_type": "markdown",
      "source": [
        "# **ELASTIC-NET**"
      ],
      "metadata": {
        "id": "pX5Y7hKI9dEb"
      }
    },
    {
      "cell_type": "code",
      "source": [
        "from sklearn.linear_model import ElasticNet\n",
        "from sklearn.model_selection import GridSearchCV, cross_val_score\n",
        "from sklearn.metrics import mean_squared_error, r2_score\n",
        "# Entraîner Elastic Net avec les meilleurs paramètres\n",
        "elastic = ElasticNet(alpha=best_alpha, l1_ratio=1.0)\n",
        "elastic.fit(X_train, y_train)\n",
        "\n",
        "# Prédictions\n",
        "y_train_pred = elastic.predict(X_train)\n",
        "y_test_pred = elastic.predict(X_test)\n",
        "\n",
        "# Calcul des MSE et R² pour l'ensemble d'entraînement et de test\n",
        "train_mse = mean_squared_error(y_train, y_train_pred)\n",
        "test_mse = mean_squared_error(y_test, y_test_pred)\n",
        "r2_train = r2_score(y_train, y_train_pred)\n",
        "r2_test = r2_score(y_test, y_test_pred)\n",
        "\n",
        "print(f\"Train MSE: {train_mse}\")\n",
        "print(f\"Test MSE: {test_mse}\")\n",
        "print(f\"Train R²: {r2_train}\")\n",
        "print(f\"Test R²: {r2_test}\")"
      ],
      "metadata": {
        "colab": {
          "base_uri": "https://localhost:8080/"
        },
        "id": "BJuJqxWWXtC-",
        "outputId": "ebcc20ed-7401-4ab2-85e6-776791ff8994"
      },
      "execution_count": 31,
      "outputs": [
        {
          "output_type": "stream",
          "name": "stdout",
          "text": [
            "Train MSE: 0.23510066129368534\n",
            "Test MSE: 0.23653617480675496\n",
            "Train R²: 0.7648993387063147\n",
            "Test R²: 0.7685757123528543\n"
          ]
        }
      ]
    },
    {
      "cell_type": "markdown",
      "source": [
        "Le modèle Elastic Net montre des performances intéressantes avec un MSE d'entraînement de 0.235 et un MSE de test de 0.237, ce qui indique que le modèle est relativement stable entre l'entraînement et le test. Le R² sur l'ensemble d'entraînement est de 0.765, et sur l'ensemble de test, il atteint 0.769. Cela suggère que le modèle est capable de capturer une grande partie de la variance dans les données, avec une performance similaire sur les données de test et d'entraînement."
      ],
      "metadata": {
        "id": "c32CYSDSnk5-"
      }
    },
    {
      "cell_type": "markdown",
      "source": [
        "# **Tuning des hyperparamètres-ELASTIC-NET et Validations croisées**"
      ],
      "metadata": {
        "id": "Su3hdptLYC_h"
      }
    },
    {
      "cell_type": "code",
      "source": [
        "from sklearn.linear_model import ElasticNet\n",
        "from sklearn.model_selection import GridSearchCV, cross_val_score\n",
        "from sklearn.metrics import mean_squared_error, r2_score\n",
        "import numpy as np\n",
        "\n",
        "# Définir une grille de recherche pour les hyperparamètres\n",
        "param_grid = {\n",
        "    'alpha': np.linspace(0.01, 10, 50),  # Régularisation globale\n",
        "    'l1_ratio': np.linspace(0.1, 0.9, 10)  # Proportion de L1 (Lasso) vs L2 (Ridge)\n",
        "}\n",
        "\n",
        "# Initialiser Elastic Net\n",
        "elastic_net = ElasticNet()\n",
        "\n",
        "# Recherche de grille avec validation croisée\n",
        "grid_search = GridSearchCV(estimator=elastic_net, param_grid=param_grid, cv=5, scoring='neg_mean_squared_error')\n",
        "grid_search.fit(X_train, y_train)\n",
        "\n",
        "# Meilleurs hyperparamètres\n",
        "best_alpha = grid_search.best_params_['alpha']\n",
        "best_l1_ratio = grid_search.best_params_['l1_ratio']\n",
        "\n",
        "print(f\"Meilleur alpha: {best_alpha}\")\n",
        "print(f\"Meilleur l1_ratio: {best_l1_ratio}\")\n",
        "\n",
        "# Entraîner Elastic Net avec les meilleurs paramètres\n",
        "elastic_net_best = ElasticNet(alpha=best_alpha, l1_ratio=best_l1_ratio)\n",
        "elastic_net_best.fit(X_train, y_train)\n",
        "\n",
        "# Prédictions\n",
        "y_train_pred = elastic_net_best.predict(X_train)\n",
        "y_test_pred = elastic_net_best.predict(X_test)\n",
        "\n",
        "# Calcul des MSE et R² pour l'ensemble d'entraînement et de test\n",
        "train_mse = mean_squared_error(y_train, y_train_pred)\n",
        "test_mse = mean_squared_error(y_test, y_test_pred)\n",
        "r2_train = r2_score(y_train, y_train_pred)\n",
        "r2_test = r2_score(y_test, y_test_pred)\n",
        "\n",
        "# Validation croisée : MSE moyen et R² moyen\n",
        "cv_mse_scores = cross_val_score(elastic_net_best, X_train, y_train, cv=5, scoring='neg_mean_squared_error')\n",
        "cv_r2_scores = cross_val_score(elastic_net_best, X_train, y_train, cv=5, scoring='r2')\n",
        "\n",
        "cv_mse_mean = -np.mean(cv_mse_scores)  # Prendre la valeur absolue car MSE est négatif dans scoring\n",
        "cv_r2_mean = np.mean(cv_r2_scores)\n",
        "\n",
        "# Afficher les résultats\n",
        "print(\"\\n### Résultats Elastic Net ###\")\n",
        "print(f\"Validation Croisée - MSE moyen: {cv_mse_mean}\")\n",
        "print(f\"Validation Croisée - R² moyen: {cv_r2_mean}\")\n",
        "print(f\"Train MSE: {train_mse}\")\n",
        "print(f\"Test MSE: {test_mse}\")\n",
        "print(f\"Train R²: {r2_train}\")\n",
        "print(f\"Test R²: {r2_test}\")\n"
      ],
      "metadata": {
        "id": "_CX95VwQ9go6",
        "colab": {
          "base_uri": "https://localhost:8080/"
        },
        "outputId": "eb5f1a7c-250c-40d7-b73f-951f01e5f921"
      },
      "execution_count": 32,
      "outputs": [
        {
          "output_type": "stream",
          "name": "stdout",
          "text": [
            "Meilleur alpha: 0.01\n",
            "Meilleur l1_ratio: 0.1\n",
            "\n",
            "### Résultats Elastic Net ###\n",
            "Validation Croisée - MSE moyen: 0.09699350829050557\n",
            "Validation Croisée - R² moyen: 0.9029176374688275\n",
            "Train MSE: 0.09593498758672471\n",
            "Test MSE: 0.09217798141289361\n",
            "Train R²: 0.9040650124132753\n",
            "Test R²: 0.9098141174276674\n"
          ]
        }
      ]
    },
    {
      "cell_type": "markdown",
      "source": [
        "Après la validation croisée et l'optimisation des hyperparamètres, le modèle Elastic Net présente une amélioration notable. Le MSE moyen de la validation croisée est de 0.097, avec un R² moyen de 0.903, ce qui montre une bonne capacité à généraliser. Les performances sur les ensembles d'entraînement et de test sont également très solides, avec un MSE respectivement de 0.096 et 0.092, et un R² de 0.904 pour l'entraînement et de 0.910 pour le test. Ces résultats suggèrent que le modèle est bien équilibré, offrant une bonne précision et une faible erreur de généralisation."
      ],
      "metadata": {
        "id": "CDCrphkrnxzf"
      }
    },
    {
      "cell_type": "code",
      "source": [
        "# Visualisation des coefficients\n",
        "coefficients_elastic_net = elastic_net_best.coef_\n",
        "\n",
        "plt.figure(figsize=(10, 6))\n",
        "plt.barh(range(len(coefficients_elastic_net)), coefficients_elastic_net, tick_label=X_train.columns)\n",
        "plt.xlabel('Coefficients')\n",
        "plt.title('Coefficients du modèle Elastic Net')\n",
        "plt.show()\n"
      ],
      "metadata": {
        "id": "dUy0mr4H-E0Q",
        "colab": {
          "base_uri": "https://localhost:8080/",
          "height": 562
        },
        "outputId": "b9bcdd3a-76b8-4a85-cc97-8a2c1434c359"
      },
      "execution_count": 33,
      "outputs": [
        {
          "output_type": "display_data",
          "data": {
            "text/plain": [
              "<Figure size 1000x600 with 1 Axes>"
            ],
            "image/png": "[encoded data removed]"
          },
          "metadata": {}
        }
      ]
    },
    {
      "cell_type": "markdown",
      "source": [
        "# **Modéle non lineaire**"
      ],
      "metadata": {
        "id": "pqz-phjRAV33"
      }
    },
    {
      "cell_type": "markdown",
      "source": [
        "KNN"
      ],
      "metadata": {
        "id": "oEAxi6doUFF6"
      }
    },
    {
      "cell_type": "code",
      "source": [
        "from sklearn.neighbors import KNeighborsRegressor\n",
        "\n",
        "# Instanciation du modèle\n",
        "knn = KNeighborsRegressor(n_neighbors=5)\n",
        "\n",
        "# Entraînement du modèle\n",
        "knn.fit(X_train, y_train)\n"
      ],
      "metadata": {
        "id": "YNvYagu6BbfV",
        "colab": {
          "base_uri": "https://localhost:8080/",
          "height": 80
        },
        "outputId": "c5023881-affa-4353-8924-e3eb7ee0aca7"
      },
      "execution_count": 34,
      "outputs": [
        {
          "output_type": "execute_result",
          "data": {
            "text/plain": [
              "KNeighborsRegressor()"
            ],
            "text/html": [
              "<style>#sk-container-id-4 {\n",
              "  /* Definition of color scheme common for light and dark mode */\n",
              "  --sklearn-color-text: black;\n",
              "  --sklearn-color-line: gray;\n",
              "  /* Definition of color scheme for unfitted estimators */\n",
              "  --sklearn-color-unfitted-level-0: #fff5e6;\n",
              "  --sklearn-color-unfitted-level-1: #f6e4d2;\n",
              "  --sklearn-color-unfitted-level-2: #ffe0b3;\n",
              "  --sklearn-color-unfitted-level-3: chocolate;\n",
              "  /* Definition of color scheme for fitted estimators */\n",
              "  --sklearn-color-fitted-level-0: #f0f8ff;\n",
              "  --sklearn-color-fitted-level-1: #d4ebff;\n",
              "  --sklearn-color-fitted-level-2: #b3dbfd;\n",
              "  --sklearn-color-fitted-level-3: cornflowerblue;\n",
              "\n",
              "  /* Specific color for light theme */\n",
              "  --sklearn-color-text-on-default-background: var(--sg-text-color, var(--theme-code-foreground, var(--jp-content-font-color1, black)));\n",
              "  --sklearn-color-background: var(--sg-background-color, var(--theme-background, var(--jp-layout-color0, white)));\n",
              "  --sklearn-color-border-box: var(--sg-text-color, var(--theme-code-foreground, var(--jp-content-font-color1, black)));\n",
              "  --sklearn-color-icon: #696969;\n",
              "\n",
              "  @media (prefers-color-scheme: dark) {\n",
              "    /* Redefinition of color scheme for dark theme */\n",
              "    --sklearn-color-text-on-default-background: var(--sg-text-color, var(--theme-code-foreground, var(--jp-content-font-color1, white)));\n",
              "    --sklearn-color-background: var(--sg-background-color, var(--theme-background, var(--jp-layout-color0, #111)));\n",
              "    --sklearn-color-border-box: var(--sg-text-color, var(--theme-code-foreground, var(--jp-content-font-color1, white)));\n",
              "    --sklearn-color-icon: #878787;\n",
              "  }\n",
              "}\n",
              "\n",
              "#sk-container-id-4 {\n",
              "  color: var(--sklearn-color-text);\n",
              "}\n",
              "\n",
              "#sk-container-id-4 pre {\n",
              "  padding: 0;\n",
              "}\n",
              "\n",
              "#sk-container-id-4 input.sk-hidden--visually {\n",
              "  border: 0;\n",
              "  clip: rect(1px 1px 1px 1px);\n",
              "  clip: rect(1px, 1px, 1px, 1px);\n",
              "  height: 1px;\n",
              "  margin: -1px;\n",
              "  overflow: hidden;\n",
              "  padding: 0;\n",
              "  position: absolute;\n",
              "  width: 1px;\n",
              "}\n",
              "\n",
              "#sk-container-id-4 div.sk-dashed-wrapped {\n",
              "  border: 1px dashed var(--sklearn-color-line);\n",
              "  margin: 0 0.4em 0.5em 0.4em;\n",
              "  box-sizing: border-box;\n",
              "  padding-bottom: 0.4em;\n",
              "  background-color: var(--sklearn-color-background);\n",
              "}\n",
              "\n",
              "#sk-container-id-4 div.sk-container {\n",
              "  /* jupyter's `normalize.less` sets `[hidden] { display: none; }`\n",
              "     but bootstrap.min.css set `[hidden] { display: none !important; }`\n",
              "     so we also need the `!important` here to be able to override the\n",
              "     default hidden behavior on the sphinx rendered scikit-learn.org.\n",
              "     See: https://github.com/scikit-learn/scikit-learn/issues/21755 */\n",
              "  display: inline-block !important;\n",
              "  position: relative;\n",
              "}\n",
              "\n",
              "#sk-container-id-4 div.sk-text-repr-fallback {\n",
              "  display: none;\n",
              "}\n",
              "\n",
              "div.sk-parallel-item,\n",
              "div.sk-serial,\n",
              "div.sk-item {\n",
              "  /* draw centered vertical line to link estimators */\n",
              "  background-image: linear-gradient(var(--sklearn-color-text-on-default-background), var(--sklearn-color-text-on-default-background));\n",
              "  background-size: 2px 100%;\n",
              "  background-repeat: no-repeat;\n",
              "  background-position: center center;\n",
              "}\n",
              "\n",
              "/* Parallel-specific style estimator block */\n",
              "\n",
              "#sk-container-id-4 div.sk-parallel-item::after {\n",
              "  content: \"\";\n",
              "  width: 100%;\n",
              "  border-bottom: 2px solid var(--sklearn-color-text-on-default-background);\n",
              "  flex-grow: 1;\n",
              "}\n",
              "\n",
              "#sk-container-id-4 div.sk-parallel {\n",
              "  display: flex;\n",
              "  align-items: stretch;\n",
              "  justify-content: center;\n",
              "  background-color: var(--sklearn-color-background);\n",
              "  position: relative;\n",
              "}\n",
              "\n",
              "#sk-container-id-4 div.sk-parallel-item {\n",
              "  display: flex;\n",
              "  flex-direction: column;\n",
              "}\n",
              "\n",
              "#sk-container-id-4 div.sk-parallel-item:first-child::after {\n",
              "  align-self: flex-end;\n",
              "  width: 50%;\n",
              "}\n",
              "\n",
              "#sk-container-id-4 div.sk-parallel-item:last-child::after {\n",
              "  align-self: flex-start;\n",
              "  width: 50%;\n",
              "}\n",
              "\n",
              "#sk-container-id-4 div.sk-parallel-item:only-child::after {\n",
              "  width: 0;\n",
              "}\n",
              "\n",
              "/* Serial-specific style estimator block */\n",
              "\n",
              "#sk-container-id-4 div.sk-serial {\n",
              "  display: flex;\n",
              "  flex-direction: column;\n",
              "  align-items: center;\n",
              "  background-color: var(--sklearn-color-background);\n",
              "  padding-right: 1em;\n",
              "  padding-left: 1em;\n",
              "}\n",
              "\n",
              "\n",
              "/* Toggleable style: style used for estimator/Pipeline/ColumnTransformer box that is\n",
              "clickable and can be expanded/collapsed.\n",
              "- Pipeline and ColumnTransformer use this feature and define the default style\n",
              "- Estimators will overwrite some part of the style using the `sk-estimator` class\n",
              "*/\n",
              "\n",
              "/* Pipeline and ColumnTransformer style (default) */\n",
              "\n",
              "#sk-container-id-4 div.sk-toggleable {\n",
              "  /* Default theme specific background. It is overwritten whether we have a\n",
              "  specific estimator or a Pipeline/ColumnTransformer */\n",
              "  background-color: var(--sklearn-color-background);\n",
              "}\n",
              "\n",
              "/* Toggleable label */\n",
              "#sk-container-id-4 label.sk-toggleable__label {\n",
              "  cursor: pointer;\n",
              "  display: block;\n",
              "  width: 100%;\n",
              "  margin-bottom: 0;\n",
              "  padding: 0.5em;\n",
              "  box-sizing: border-box;\n",
              "  text-align: center;\n",
              "}\n",
              "\n",
              "#sk-container-id-4 label.sk-toggleable__label-arrow:before {\n",
              "  /* Arrow on the left of the label */\n",
              "  content: \"▸\";\n",
              "  float: left;\n",
              "  margin-right: 0.25em;\n",
              "  color: var(--sklearn-color-icon);\n",
              "}\n",
              "\n",
              "#sk-container-id-4 label.sk-toggleable__label-arrow:hover:before {\n",
              "  color: var(--sklearn-color-text);\n",
              "}\n",
              "\n",
              "/* Toggleable content - dropdown */\n",
              "\n",
              "#sk-container-id-4 div.sk-toggleable__content {\n",
              "  max-height: 0;\n",
              "  max-width: 0;\n",
              "  overflow: hidden;\n",
              "  text-align: left;\n",
              "  /* unfitted */\n",
              "  background-color: var(--sklearn-color-unfitted-level-0);\n",
              "}\n",
              "\n",
              "#sk-container-id-4 div.sk-toggleable__content.fitted {\n",
              "  /* fitted */\n",
              "  background-color: var(--sklearn-color-fitted-level-0);\n",
              "}\n",
              "\n",
              "#sk-container-id-4 div.sk-toggleable__content pre {\n",
              "  margin: 0.2em;\n",
              "  border-radius: 0.25em;\n",
              "  color: var(--sklearn-color-text);\n",
              "  /* unfitted */\n",
              "  background-color: var(--sklearn-color-unfitted-level-0);\n",
              "}\n",
              "\n",
              "#sk-container-id-4 div.sk-toggleable__content.fitted pre {\n",
              "  /* unfitted */\n",
              "  background-color: var(--sklearn-color-fitted-level-0);\n",
              "}\n",
              "\n",
              "#sk-container-id-4 input.sk-toggleable__control:checked~div.sk-toggleable__content {\n",
              "  /* Expand drop-down */\n",
              "  max-height: 200px;\n",
              "  max-width: 100%;\n",
              "  overflow: auto;\n",
              "}\n",
              "\n",
              "#sk-container-id-4 input.sk-toggleable__control:checked~label.sk-toggleable__label-arrow:before {\n",
              "  content: \"▾\";\n",
              "}\n",
              "\n",
              "/* Pipeline/ColumnTransformer-specific style */\n",
              "\n",
              "#sk-container-id-4 div.sk-label input.sk-toggleable__control:checked~label.sk-toggleable__label {\n",
              "  color: var(--sklearn-color-text);\n",
              "  background-color: var(--sklearn-color-unfitted-level-2);\n",
              "}\n",
              "\n",
              "#sk-container-id-4 div.sk-label.fitted input.sk-toggleable__control:checked~label.sk-toggleable__label {\n",
              "  background-color: var(--sklearn-color-fitted-level-2);\n",
              "}\n",
              "\n",
              "/* Estimator-specific style */\n",
              "\n",
              "/* Colorize estimator box */\n",
              "#sk-container-id-4 div.sk-estimator input.sk-toggleable__control:checked~label.sk-toggleable__label {\n",
              "  /* unfitted */\n",
              "  background-color: var(--sklearn-color-unfitted-level-2);\n",
              "}\n",
              "\n",
              "#sk-container-id-4 div.sk-estimator.fitted input.sk-toggleable__control:checked~label.sk-toggleable__label {\n",
              "  /* fitted */\n",
              "  background-color: var(--sklearn-color-fitted-level-2);\n",
              "}\n",
              "\n",
              "#sk-container-id-4 div.sk-label label.sk-toggleable__label,\n",
              "#sk-container-id-4 div.sk-label label {\n",
              "  /* The background is the default theme color */\n",
              "  color: var(--sklearn-color-text-on-default-background);\n",
              "}\n",
              "\n",
              "/* On hover, darken the color of the background */\n",
              "#sk-container-id-4 div.sk-label:hover label.sk-toggleable__label {\n",
              "  color: var(--sklearn-color-text);\n",
              "  background-color: var(--sklearn-color-unfitted-level-2);\n",
              "}\n",
              "\n",
              "/* Label box, darken color on hover, fitted */\n",
              "#sk-container-id-4 div.sk-label.fitted:hover label.sk-toggleable__label.fitted {\n",
              "  color: var(--sklearn-color-text);\n",
              "  background-color: var(--sklearn-color-fitted-level-2);\n",
              "}\n",
              "\n",
              "/* Estimator label */\n",
              "\n",
              "#sk-container-id-4 div.sk-label label {\n",
              "  font-family: monospace;\n",
              "  font-weight: bold;\n",
              "  display: inline-block;\n",
              "  line-height: 1.2em;\n",
              "}\n",
              "\n",
              "#sk-container-id-4 div.sk-label-container {\n",
              "  text-align: center;\n",
              "}\n",
              "\n",
              "/* Estimator-specific */\n",
              "#sk-container-id-4 div.sk-estimator {\n",
              "  font-family: monospace;\n",
              "  border: 1px dotted var(--sklearn-color-border-box);\n",
              "  border-radius: 0.25em;\n",
              "  box-sizing: border-box;\n",
              "  margin-bottom: 0.5em;\n",
              "  /* unfitted */\n",
              "  background-color: var(--sklearn-color-unfitted-level-0);\n",
              "}\n",
              "\n",
              "#sk-container-id-4 div.sk-estimator.fitted {\n",
              "  /* fitted */\n",
              "  background-color: var(--sklearn-color-fitted-level-0);\n",
              "}\n",
              "\n",
              "/* on hover */\n",
              "#sk-container-id-4 div.sk-estimator:hover {\n",
              "  /* unfitted */\n",
              "  background-color: var(--sklearn-color-unfitted-level-2);\n",
              "}\n",
              "\n",
              "#sk-container-id-4 div.sk-estimator.fitted:hover {\n",
              "  /* fitted */\n",
              "  background-color: var(--sklearn-color-fitted-level-2);\n",
              "}\n",
              "\n",
              "/* Specification for estimator info (e.g. \"i\" and \"?\") */\n",
              "\n",
              "/* Common style for \"i\" and \"?\" */\n",
              "\n",
              ".sk-estimator-doc-link,\n",
              "a:link.sk-estimator-doc-link,\n",
              "a:visited.sk-estimator-doc-link {\n",
              "  float: right;\n",
              "  font-size: smaller;\n",
              "  line-height: 1em;\n",
              "  font-family: monospace;\n",
              "  background-color: var(--sklearn-color-background);\n",
              "  border-radius: 1em;\n",
              "  height: 1em;\n",
              "  width: 1em;\n",
              "  text-decoration: none !important;\n",
              "  margin-left: 1ex;\n",
              "  /* unfitted */\n",
              "  border: var(--sklearn-color-unfitted-level-1) 1pt solid;\n",
              "  color: var(--sklearn-color-unfitted-level-1);\n",
              "}\n",
              "\n",
              ".sk-estimator-doc-link.fitted,\n",
              "a:link.sk-estimator-doc-link.fitted,\n",
              "a:visited.sk-estimator-doc-link.fitted {\n",
              "  /* fitted */\n",
              "  border: var(--sklearn-color-fitted-level-1) 1pt solid;\n",
              "  color: var(--sklearn-color-fitted-level-1);\n",
              "}\n",
              "\n",
              "/* On hover */\n",
              "div.sk-estimator:hover .sk-estimator-doc-link:hover,\n",
              ".sk-estimator-doc-link:hover,\n",
              "div.sk-label-container:hover .sk-estimator-doc-link:hover,\n",
              ".sk-estimator-doc-link:hover {\n",
              "  /* unfitted */\n",
              "  background-color: var(--sklearn-color-unfitted-level-3);\n",
              "  color: var(--sklearn-color-background);\n",
              "  text-decoration: none;\n",
              "}\n",
              "\n",
              "div.sk-estimator.fitted:hover .sk-estimator-doc-link.fitted:hover,\n",
              ".sk-estimator-doc-link.fitted:hover,\n",
              "div.sk-label-container:hover .sk-estimator-doc-link.fitted:hover,\n",
              ".sk-estimator-doc-link.fitted:hover {\n",
              "  /* fitted */\n",
              "  background-color: var(--sklearn-color-fitted-level-3);\n",
              "  color: var(--sklearn-color-background);\n",
              "  text-decoration: none;\n",
              "}\n",
              "\n",
              "/* Span, style for the box shown on hovering the info icon */\n",
              ".sk-estimator-doc-link span {\n",
              "  display: none;\n",
              "  z-index: 9999;\n",
              "  position: relative;\n",
              "  font-weight: normal;\n",
              "  right: .2ex;\n",
              "  padding: .5ex;\n",
              "  margin: .5ex;\n",
              "  width: min-content;\n",
              "  min-width: 20ex;\n",
              "  max-width: 50ex;\n",
              "  color: var(--sklearn-color-text);\n",
              "  box-shadow: 2pt 2pt 4pt #999;\n",
              "  /* unfitted */\n",
              "  background: var(--sklearn-color-unfitted-level-0);\n",
              "  border: .5pt solid var(--sklearn-color-unfitted-level-3);\n",
              "}\n",
              "\n",
              ".sk-estimator-doc-link.fitted span {\n",
              "  /* fitted */\n",
              "  background: var(--sklearn-color-fitted-level-0);\n",
              "  border: var(--sklearn-color-fitted-level-3);\n",
              "}\n",
              "\n",
              ".sk-estimator-doc-link:hover span {\n",
              "  display: block;\n",
              "}\n",
              "\n",
              "/* \"?\"-specific style due to the `<a>` HTML tag */\n",
              "\n",
              "#sk-container-id-4 a.estimator_doc_link {\n",
              "  float: right;\n",
              "  font-size: 1rem;\n",
              "  line-height: 1em;\n",
              "  font-family: monospace;\n",
              "  background-color: var(--sklearn-color-background);\n",
              "  border-radius: 1rem;\n",
              "  height: 1rem;\n",
              "  width: 1rem;\n",
              "  text-decoration: none;\n",
              "  /* unfitted */\n",
              "  color: var(--sklearn-color-unfitted-level-1);\n",
              "  border: var(--sklearn-color-unfitted-level-1) 1pt solid;\n",
              "}\n",
              "\n",
              "#sk-container-id-4 a.estimator_doc_link.fitted {\n",
              "  /* fitted */\n",
              "  border: var(--sklearn-color-fitted-level-1) 1pt solid;\n",
              "  color: var(--sklearn-color-fitted-level-1);\n",
              "}\n",
              "\n",
              "/* On hover */\n",
              "#sk-container-id-4 a.estimator_doc_link:hover {\n",
              "  /* unfitted */\n",
              "  background-color: var(--sklearn-color-unfitted-level-3);\n",
              "  color: var(--sklearn-color-background);\n",
              "  text-decoration: none;\n",
              "}\n",
              "\n",
              "#sk-container-id-4 a.estimator_doc_link.fitted:hover {\n",
              "  /* fitted */\n",
              "  background-color: var(--sklearn-color-fitted-level-3);\n",
              "}\n",
              "</style><div id=\"sk-container-id-4\" class=\"sk-top-container\"><div class=\"sk-text-repr-fallback\"><pre>KNeighborsRegressor()</pre><b>In a Jupyter environment, please rerun this cell to show the HTML representation or trust the notebook. <br />On GitHub, the HTML representation is unable to render, please try loading this page with nbviewer.org.</b></div><div class=\"sk-container\" hidden><div class=\"sk-item\"><div class=\"sk-estimator fitted sk-toggleable\"><input class=\"sk-toggleable__control sk-hidden--visually\" id=\"sk-estimator-id-4\" type=\"checkbox\" checked><label for=\"sk-estimator-id-4\" class=\"sk-toggleable__label fitted sk-toggleable__label-arrow fitted\">&nbsp;&nbsp;KNeighborsRegressor<a class=\"sk-estimator-doc-link fitted\" rel=\"noreferrer\" target=\"_blank\" href=\"https://scikit-learn.org/1.5/modules/generated/sklearn.neighbors.KNeighborsRegressor.html\">?<span>Documentation for KNeighborsRegressor</span></a><span class=\"sk-estimator-doc-link fitted\">i<span>Fitted</span></span></label><div class=\"sk-toggleable__content fitted\"><pre>KNeighborsRegressor()</pre></div> </div></div></div></div>"
            ]
          },
          "metadata": {},
          "execution_count": 34
        }
      ]
    },
    {
      "cell_type": "code",
      "source": [
        "from sklearn.metrics import mean_squared_error, r2_score\n",
        "\n",
        "# Prédictions\n",
        "y_train_pred = knn.predict(X_train)\n",
        "y_test_pred = knn.predict(X_test)\n",
        "\n",
        "# Évaluation\n",
        "mse_train = mean_squared_error(y_train, y_train_pred)\n",
        "mse_test = mean_squared_error(y_test, y_test_pred)\n",
        "r2_train = r2_score(y_train, y_train_pred)\n",
        "r2_test = r2_score(y_test, y_test_pred)\n",
        "\n",
        "print(f\"Train MSE: {mse_train}, Test MSE: {mse_test}\")\n",
        "print(f\"Train R^2: {r2_train}, Test R^2: {r2_test}\")\n"
      ],
      "metadata": {
        "id": "zF7MLYEXUgxq",
        "colab": {
          "base_uri": "https://localhost:8080/"
        },
        "outputId": "6170c88d-41a9-48a1-873c-49c4729af2de"
      },
      "execution_count": 35,
      "outputs": [
        {
          "output_type": "stream",
          "name": "stdout",
          "text": [
            "Train MSE: 0.16901855079183975, Test MSE: 0.2410135553774125\n",
            "Train R^2: 0.8309814492081602, Test R^2: 0.764195094420159\n"
          ]
        }
      ]
    },
    {
      "cell_type": "markdown",
      "source": [
        "# **Tuning des hyperparamètres-KNN**"
      ],
      "metadata": {
        "id": "5aHif1PmY_D7"
      }
    },
    {
      "cell_type": "code",
      "source": [
        "errors = []\n",
        "k_values = range(1, 21)\n",
        "\n",
        "for k in k_values:\n",
        "    knn = KNeighborsRegressor(n_neighbors=k)\n",
        "    knn.fit(X_train, y_train)\n",
        "    y_test_pred = knn.predict(X_test)\n",
        "    errors.append(mean_squared_error(y_test, y_test_pred))\n",
        "\n",
        "# Visualisation de l'erreur en fonction de k\n",
        "import matplotlib.pyplot as plt\n",
        "\n",
        "plt.plot(k_values, errors, marker='o')\n",
        "plt.xlabel(\"Number of Neighbors (k)\")\n",
        "plt.ylabel(\"Test Mean Squared Error\")\n",
        "plt.title(\"Optimisation de k pour KNN\")\n",
        "plt.show()\n"
      ],
      "metadata": {
        "id": "lxky6xPWUtsh",
        "colab": {
          "base_uri": "https://localhost:8080/",
          "height": 524
        },
        "outputId": "d346a57e-711f-4902-bea6-44c7cd739fac"
      },
      "execution_count": 36,
      "outputs": [
        {
          "output_type": "display_data",
          "data": {
            "text/plain": [
              "<Figure size 800x550 with 1 Axes>"
            ],
            "image/png": "[encoded data removed]"
          },
          "metadata": {}
        }
      ]
    },
    {
      "cell_type": "code",
      "source": [
        "from sklearn.model_selection import cross_val_score\n",
        "import numpy as np\n",
        "\n",
        "k_values = range(1, 21)\n",
        "cv_scores = []\n",
        "\n",
        "for k in k_values:\n",
        "    knn = KNeighborsRegressor(n_neighbors=k)\n",
        "    scores = cross_val_score(knn, X_train, y_train, cv=5, scoring='neg_mean_squared_error')\n",
        "    cv_scores.append(np.mean(-scores))\n",
        "\n",
        "# Meilleur k\n",
        "best_k = k_values[np.argmin(cv_scores)]\n",
        "print(f\"Meilleur k selon la validation croisée: {best_k}\")\n",
        "cv_scores"
      ],
      "metadata": {
        "id": "2VGA-ArJVi01",
        "colab": {
          "base_uri": "https://localhost:8080/"
        },
        "outputId": "d31e69ac-c5f0-470a-c72c-c849463bc27b"
      },
      "execution_count": 37,
      "outputs": [
        {
          "output_type": "stream",
          "name": "stdout",
          "text": [
            "Meilleur k selon la validation croisée: 12\n"
          ]
        },
        {
          "output_type": "execute_result",
          "data": {
            "text/plain": [
              "[0.4316683228096216,\n",
              " 0.32227664769545816,\n",
              " 0.28648413568429926,\n",
              " 0.2695256981111436,\n",
              " 0.2642311649921246,\n",
              " 0.2577304699103795,\n",
              " 0.2560963317556452,\n",
              " 0.25405832731122724,\n",
              " 0.25213799023110056,\n",
              " 0.2514647352017424,\n",
              " 0.2510243930247939,\n",
              " 0.2510030950528965,\n",
              " 0.25238116630111623,\n",
              " 0.25312183523032394,\n",
              " 0.2531928048261051,\n",
              " 0.2536960444982622,\n",
              " 0.2538505872758826,\n",
              " 0.253797694150573,\n",
              " 0.2539339969065358,\n",
              " 0.25422960936112776]"
            ]
          },
          "metadata": {},
          "execution_count": 37
        }
      ]
    },
    {
      "cell_type": "markdown",
      "source": [
        "# **Random Forest**"
      ],
      "metadata": {
        "id": "FNXzZ1UTvi4q"
      }
    },
    {
      "cell_type": "code",
      "source": [
        "from sklearn.ensemble import RandomForestRegressor\n",
        "from sklearn.metrics import mean_squared_error, r2_score\n",
        "from sklearn.model_selection import RandomizedSearchCV\n",
        "import numpy as np\n",
        "\n",
        "\n",
        "# Initialisation du modèle\n",
        "rf = RandomForestRegressor(n_estimators=100, max_depth=None, random_state=42)\n",
        "\n",
        "# Entraînement du modèle\n",
        "rf.fit(X_train, y_train)\n",
        "\n",
        "# Prédictions\n",
        "y_train_pred = rf.predict(X_train)\n",
        "y_test_pred = rf.predict(X_test)\n",
        "\n",
        "# Évaluation des performances\n",
        "mse_train = mean_squared_error(y_train, y_train_pred)\n",
        "mse_test = mean_squared_error(y_test, y_test_pred)\n",
        "r2_train = r2_score(y_train, y_train_pred)\n",
        "r2_test = r2_score(y_test, y_test_pred)\n",
        "\n",
        "print(f\"Train MSE: {mse_train}, Test MSE: {mse_test}\")\n",
        "print(f\"Train R^2: {r2_train}, Test R^2: {r2_test}\")\n",
        "\n"
      ],
      "metadata": {
        "id": "MHMYEGVuzoWT",
        "colab": {
          "base_uri": "https://localhost:8080/"
        },
        "outputId": "ad2e1b58-dce6-42be-cbee-b33490ebef54"
      },
      "execution_count": 38,
      "outputs": [
        {
          "output_type": "stream",
          "name": "stderr",
          "text": [
            "/usr/local/lib/python3.10/dist-packages/sklearn/base.py:1473: DataConversionWarning: A column-vector y was passed when a 1d array was expected. Please change the shape of y to (n_samples,), for example using ravel().\n",
            "  return fit_method(estimator, *args, **kwargs)\n"
          ]
        },
        {
          "output_type": "stream",
          "name": "stdout",
          "text": [
            "Train MSE: 0.023674831806560662, Test MSE: 0.16125519505771269\n",
            "Train R^2: 0.9763251681934393, Test R^2: 0.842229761785397\n"
          ]
        }
      ]
    },
    {
      "cell_type": "markdown",
      "source": [
        "Le modèle Random Forest montre une forte capacité de prédiction sur l'ensemble d'entraînement, avec un MSE de 0.0237 et un R² de 0.9763, ce qui indique un excellent ajustement aux données d'entraînement. Cependant, sur l'ensemble de test, les performances se dégradent légèrement, avec un MSE de 0.1613 et un R² de 0.8422."
      ],
      "metadata": {
        "id": "Ynk_lueVoHk8"
      }
    },
    {
      "cell_type": "markdown",
      "source": [
        "# **Tuning des hyperparamètres-Random Forest et validation croisée**\n"
      ],
      "metadata": {
        "id": "cRZ-X-cm0TuK"
      }
    },
    {
      "cell_type": "code",
      "source": [
        "param_distributions = {\n",
        "    'n_estimators': [50, 100, 200, 500],\n",
        "    'max_depth': [None, 10, 20, 30, 50],\n",
        "    'min_samples_split': [2, 5, 10],\n",
        "    'min_samples_leaf': [1, 2, 4],\n",
        "    'max_features': ['auto', 'sqrt', 'log2']\n",
        "}\n"
      ],
      "metadata": {
        "id": "8R9hx53P0W3O"
      },
      "execution_count": 39,
      "outputs": []
    },
    {
      "cell_type": "code",
      "source": [
        "# Initialiser le modèle\n",
        "rf = RandomForestRegressor(random_state=42)\n",
        "\n",
        "# Configurer RandomizedSearchCV\n",
        "random_search = RandomizedSearchCV(\n",
        "    estimator=rf,\n",
        "    param_distributions=param_distributions,\n",
        "    n_iter=50,  # Nombre d'itérations\n",
        "    cv=5,  # Validation croisée à 5 plis\n",
        "    scoring='r2',  # Évaluer avec le R^2\n",
        "    random_state=42,\n",
        "    n_jobs=-1  # Utilisation de tous les cœurs disponibles\n",
        ")\n",
        "\n",
        "# Ajuster le modèle\n",
        "random_search.fit(X_train, y_train)\n",
        "\n"
      ],
      "metadata": {
        "id": "fJ4yZWOU0f66",
        "colab": {
          "base_uri": "https://localhost:8080/",
          "height": 970
        },
        "outputId": "7800cdfa-680a-4d2b-f49a-b146f77e5e2b"
      },
      "execution_count": 40,
      "outputs": [
        {
          "output_type": "stream",
          "name": "stderr",
          "text": [
            "/usr/local/lib/python3.10/dist-packages/sklearn/model_selection/_validation.py:540: FitFailedWarning: \n",
            "65 fits failed out of a total of 250.\n",
            "The score on these train-test partitions for these parameters will be set to nan.\n",
            "If these failures are not expected, you can try to debug them by setting error_score='raise'.\n",
            "\n",
            "Below are more details about the failures:\n",
            "--------------------------------------------------------------------------------\n",
            "22 fits failed with the following error:\n",
            "Traceback (most recent call last):\n",
            "  File \"/usr/local/lib/python3.10/dist-packages/sklearn/model_selection/_validation.py\", line 888, in _fit_and_score\n",
            "    estimator.fit(X_train, y_train, **fit_params)\n",
            "  File \"/usr/local/lib/python3.10/dist-packages/sklearn/base.py\", line 1466, in wrapper\n",
            "    estimator._validate_params()\n",
            "  File \"/usr/local/lib/python3.10/dist-packages/sklearn/base.py\", line 666, in _validate_params\n",
            "    validate_parameter_constraints(\n",
            "  File \"/usr/local/lib/python3.10/dist-packages/sklearn/utils/_param_validation.py\", line 95, in validate_parameter_constraints\n",
            "    raise InvalidParameterError(\n",
            "sklearn.utils._param_validation.InvalidParameterError: The 'max_features' parameter of RandomForestRegressor must be an int in the range [1, inf), a float in the range (0.0, 1.0], a str among {'sqrt', 'log2'} or None. Got 'auto' instead.\n",
            "\n",
            "--------------------------------------------------------------------------------\n",
            "43 fits failed with the following error:\n",
            "Traceback (most recent call last):\n",
            "  File \"/usr/local/lib/python3.10/dist-packages/sklearn/model_selection/_validation.py\", line 888, in _fit_and_score\n",
            "    estimator.fit(X_train, y_train, **fit_params)\n",
            "  File \"/usr/local/lib/python3.10/dist-packages/sklearn/base.py\", line 1466, in wrapper\n",
            "    estimator._validate_params()\n",
            "  File \"/usr/local/lib/python3.10/dist-packages/sklearn/base.py\", line 666, in _validate_params\n",
            "    validate_parameter_constraints(\n",
            "  File \"/usr/local/lib/python3.10/dist-packages/sklearn/utils/_param_validation.py\", line 95, in validate_parameter_constraints\n",
            "    raise InvalidParameterError(\n",
            "sklearn.utils._param_validation.InvalidParameterError: The 'max_features' parameter of RandomForestRegressor must be an int in the range [1, inf), a float in the range (0.0, 1.0], a str among {'log2', 'sqrt'} or None. Got 'auto' instead.\n",
            "\n",
            "  warnings.warn(some_fits_failed_message, FitFailedWarning)\n",
            "/usr/local/lib/python3.10/dist-packages/numpy/ma/core.py:2820: RuntimeWarning: invalid value encountered in cast\n",
            "  _data = np.array(data, dtype=dtype, copy=copy,\n",
            "/usr/local/lib/python3.10/dist-packages/sklearn/model_selection/_search.py:1103: UserWarning: One or more of the test scores are non-finite: [       nan 0.8191253  0.81082849 0.81206467 0.8191253  0.81272818\n",
            " 0.80333692 0.80226617        nan 0.80330501        nan        nan\n",
            " 0.81206467 0.82220953 0.79833659 0.78992348 0.79753531 0.79656122\n",
            " 0.80226617 0.81326786 0.80963853 0.78805156 0.8051605  0.78518958\n",
            " 0.80534632        nan 0.7824125         nan        nan 0.8032789\n",
            " 0.80534632 0.77922258        nan        nan        nan 0.79836647\n",
            " 0.8130213  0.81505661 0.78424982 0.80750499 0.79341001 0.79836647\n",
            "        nan        nan 0.77940187 0.8164167  0.82030487 0.81505661\n",
            " 0.79656122        nan]\n",
            "  warnings.warn(\n",
            "/usr/local/lib/python3.10/dist-packages/sklearn/base.py:1473: DataConversionWarning: A column-vector y was passed when a 1d array was expected. Please change the shape of y to (n_samples,), for example using ravel().\n",
            "  return fit_method(estimator, *args, **kwargs)\n"
          ]
        },
        {
          "output_type": "execute_result",
          "data": {
            "text/plain": [
              "RandomizedSearchCV(cv=5, estimator=RandomForestRegressor(random_state=42),\n",
              "                   n_iter=50, n_jobs=-1,\n",
              "                   param_distributions={'max_depth': [None, 10, 20, 30, 50],\n",
              "                                        'max_features': ['auto', 'sqrt',\n",
              "                                                         'log2'],\n",
              "                                        'min_samples_leaf': [1, 2, 4],\n",
              "                                        'min_samples_split': [2, 5, 10],\n",
              "                                        'n_estimators': [50, 100, 200, 500]},\n",
              "                   random_state=42, scoring='r2')"
            ],
            "text/html": [
              "<style>#sk-container-id-5 {\n",
              "  /* Definition of color scheme common for light and dark mode */\n",
              "  --sklearn-color-text: black;\n",
              "  --sklearn-color-line: gray;\n",
              "  /* Definition of color scheme for unfitted estimators */\n",
              "  --sklearn-color-unfitted-level-0: #fff5e6;\n",
              "  --sklearn-color-unfitted-level-1: #f6e4d2;\n",
              "  --sklearn-color-unfitted-level-2: #ffe0b3;\n",
              "  --sklearn-color-unfitted-level-3: chocolate;\n",
              "  /* Definition of color scheme for fitted estimators */\n",
              "  --sklearn-color-fitted-level-0: #f0f8ff;\n",
              "  --sklearn-color-fitted-level-1: #d4ebff;\n",
              "  --sklearn-color-fitted-level-2: #b3dbfd;\n",
              "  --sklearn-color-fitted-level-3: cornflowerblue;\n",
              "\n",
              "  /* Specific color for light theme */\n",
              "  --sklearn-color-text-on-default-background: var(--sg-text-color, var(--theme-code-foreground, var(--jp-content-font-color1, black)));\n",
              "  --sklearn-color-background: var(--sg-background-color, var(--theme-background, var(--jp-layout-color0, white)));\n",
              "  --sklearn-color-border-box: var(--sg-text-color, var(--theme-code-foreground, var(--jp-content-font-color1, black)));\n",
              "  --sklearn-color-icon: #696969;\n",
              "\n",
              "  @media (prefers-color-scheme: dark) {\n",
              "    /* Redefinition of color scheme for dark theme */\n",
              "    --sklearn-color-text-on-default-background: var(--sg-text-color, var(--theme-code-foreground, var(--jp-content-font-color1, white)));\n",
              "    --sklearn-color-background: var(--sg-background-color, var(--theme-background, var(--jp-layout-color0, #111)));\n",
              "    --sklearn-color-border-box: var(--sg-text-color, var(--theme-code-foreground, var(--jp-content-font-color1, white)));\n",
              "    --sklearn-color-icon: #878787;\n",
              "  }\n",
              "}\n",
              "\n",
              "#sk-container-id-5 {\n",
              "  color: var(--sklearn-color-text);\n",
              "}\n",
              "\n",
              "#sk-container-id-5 pre {\n",
              "  padding: 0;\n",
              "}\n",
              "\n",
              "#sk-container-id-5 input.sk-hidden--visually {\n",
              "  border: 0;\n",
              "  clip: rect(1px 1px 1px 1px);\n",
              "  clip: rect(1px, 1px, 1px, 1px);\n",
              "  height: 1px;\n",
              "  margin: -1px;\n",
              "  overflow: hidden;\n",
              "  padding: 0;\n",
              "  position: absolute;\n",
              "  width: 1px;\n",
              "}\n",
              "\n",
              "#sk-container-id-5 div.sk-dashed-wrapped {\n",
              "  border: 1px dashed var(--sklearn-color-line);\n",
              "  margin: 0 0.4em 0.5em 0.4em;\n",
              "  box-sizing: border-box;\n",
              "  padding-bottom: 0.4em;\n",
              "  background-color: var(--sklearn-color-background);\n",
              "}\n",
              "\n",
              "#sk-container-id-5 div.sk-container {\n",
              "  /* jupyter's `normalize.less` sets `[hidden] { display: none; }`\n",
              "     but bootstrap.min.css set `[hidden] { display: none !important; }`\n",
              "     so we also need the `!important` here to be able to override the\n",
              "     default hidden behavior on the sphinx rendered scikit-learn.org.\n",
              "     See: https://github.com/scikit-learn/scikit-learn/issues/21755 */\n",
              "  display: inline-block !important;\n",
              "  position: relative;\n",
              "}\n",
              "\n",
              "#sk-container-id-5 div.sk-text-repr-fallback {\n",
              "  display: none;\n",
              "}\n",
              "\n",
              "div.sk-parallel-item,\n",
              "div.sk-serial,\n",
              "div.sk-item {\n",
              "  /* draw centered vertical line to link estimators */\n",
              "  background-image: linear-gradient(var(--sklearn-color-text-on-default-background), var(--sklearn-color-text-on-default-background));\n",
              "  background-size: 2px 100%;\n",
              "  background-repeat: no-repeat;\n",
              "  background-position: center center;\n",
              "}\n",
              "\n",
              "/* Parallel-specific style estimator block */\n",
              "\n",
              "#sk-container-id-5 div.sk-parallel-item::after {\n",
              "  content: \"\";\n",
              "  width: 100%;\n",
              "  border-bottom: 2px solid var(--sklearn-color-text-on-default-background);\n",
              "  flex-grow: 1;\n",
              "}\n",
              "\n",
              "#sk-container-id-5 div.sk-parallel {\n",
              "  display: flex;\n",
              "  align-items: stretch;\n",
              "  justify-content: center;\n",
              "  background-color: var(--sklearn-color-background);\n",
              "  position: relative;\n",
              "}\n",
              "\n",
              "#sk-container-id-5 div.sk-parallel-item {\n",
              "  display: flex;\n",
              "  flex-direction: column;\n",
              "}\n",
              "\n",
              "#sk-container-id-5 div.sk-parallel-item:first-child::after {\n",
              "  align-self: flex-end;\n",
              "  width: 50%;\n",
              "}\n",
              "\n",
              "#sk-container-id-5 div.sk-parallel-item:last-child::after {\n",
              "  align-self: flex-start;\n",
              "  width: 50%;\n",
              "}\n",
              "\n",
              "#sk-container-id-5 div.sk-parallel-item:only-child::after {\n",
              "  width: 0;\n",
              "}\n",
              "\n",
              "/* Serial-specific style estimator block */\n",
              "\n",
              "#sk-container-id-5 div.sk-serial {\n",
              "  display: flex;\n",
              "  flex-direction: column;\n",
              "  align-items: center;\n",
              "  background-color: var(--sklearn-color-background);\n",
              "  padding-right: 1em;\n",
              "  padding-left: 1em;\n",
              "}\n",
              "\n",
              "\n",
              "/* Toggleable style: style used for estimator/Pipeline/ColumnTransformer box that is\n",
              "clickable and can be expanded/collapsed.\n",
              "- Pipeline and ColumnTransformer use this feature and define the default style\n",
              "- Estimators will overwrite some part of the style using the `sk-estimator` class\n",
              "*/\n",
              "\n",
              "/* Pipeline and ColumnTransformer style (default) */\n",
              "\n",
              "#sk-container-id-5 div.sk-toggleable {\n",
              "  /* Default theme specific background. It is overwritten whether we have a\n",
              "  specific estimator or a Pipeline/ColumnTransformer */\n",
              "  background-color: var(--sklearn-color-background);\n",
              "}\n",
              "\n",
              "/* Toggleable label */\n",
              "#sk-container-id-5 label.sk-toggleable__label {\n",
              "  cursor: pointer;\n",
              "  display: block;\n",
              "  width: 100%;\n",
              "  margin-bottom: 0;\n",
              "  padding: 0.5em;\n",
              "  box-sizing: border-box;\n",
              "  text-align: center;\n",
              "}\n",
              "\n",
              "#sk-container-id-5 label.sk-toggleable__label-arrow:before {\n",
              "  /* Arrow on the left of the label */\n",
              "  content: \"▸\";\n",
              "  float: left;\n",
              "  margin-right: 0.25em;\n",
              "  color: var(--sklearn-color-icon);\n",
              "}\n",
              "\n",
              "#sk-container-id-5 label.sk-toggleable__label-arrow:hover:before {\n",
              "  color: var(--sklearn-color-text);\n",
              "}\n",
              "\n",
              "/* Toggleable content - dropdown */\n",
              "\n",
              "#sk-container-id-5 div.sk-toggleable__content {\n",
              "  max-height: 0;\n",
              "  max-width: 0;\n",
              "  overflow: hidden;\n",
              "  text-align: left;\n",
              "  /* unfitted */\n",
              "  background-color: var(--sklearn-color-unfitted-level-0);\n",
              "}\n",
              "\n",
              "#sk-container-id-5 div.sk-toggleable__content.fitted {\n",
              "  /* fitted */\n",
              "  background-color: var(--sklearn-color-fitted-level-0);\n",
              "}\n",
              "\n",
              "#sk-container-id-5 div.sk-toggleable__content pre {\n",
              "  margin: 0.2em;\n",
              "  border-radius: 0.25em;\n",
              "  color: var(--sklearn-color-text);\n",
              "  /* unfitted */\n",
              "  background-color: var(--sklearn-color-unfitted-level-0);\n",
              "}\n",
              "\n",
              "#sk-container-id-5 div.sk-toggleable__content.fitted pre {\n",
              "  /* unfitted */\n",
              "  background-color: var(--sklearn-color-fitted-level-0);\n",
              "}\n",
              "\n",
              "#sk-container-id-5 input.sk-toggleable__control:checked~div.sk-toggleable__content {\n",
              "  /* Expand drop-down */\n",
              "  max-height: 200px;\n",
              "  max-width: 100%;\n",
              "  overflow: auto;\n",
              "}\n",
              "\n",
              "#sk-container-id-5 input.sk-toggleable__control:checked~label.sk-toggleable__label-arrow:before {\n",
              "  content: \"▾\";\n",
              "}\n",
              "\n",
              "/* Pipeline/ColumnTransformer-specific style */\n",
              "\n",
              "#sk-container-id-5 div.sk-label input.sk-toggleable__control:checked~label.sk-toggleable__label {\n",
              "  color: var(--sklearn-color-text);\n",
              "  background-color: var(--sklearn-color-unfitted-level-2);\n",
              "}\n",
              "\n",
              "#sk-container-id-5 div.sk-label.fitted input.sk-toggleable__control:checked~label.sk-toggleable__label {\n",
              "  background-color: var(--sklearn-color-fitted-level-2);\n",
              "}\n",
              "\n",
              "/* Estimator-specific style */\n",
              "\n",
              "/* Colorize estimator box */\n",
              "#sk-container-id-5 div.sk-estimator input.sk-toggleable__control:checked~label.sk-toggleable__label {\n",
              "  /* unfitted */\n",
              "  background-color: var(--sklearn-color-unfitted-level-2);\n",
              "}\n",
              "\n",
              "#sk-container-id-5 div.sk-estimator.fitted input.sk-toggleable__control:checked~label.sk-toggleable__label {\n",
              "  /* fitted */\n",
              "  background-color: var(--sklearn-color-fitted-level-2);\n",
              "}\n",
              "\n",
              "#sk-container-id-5 div.sk-label label.sk-toggleable__label,\n",
              "#sk-container-id-5 div.sk-label label {\n",
              "  /* The background is the default theme color */\n",
              "  color: var(--sklearn-color-text-on-default-background);\n",
              "}\n",
              "\n",
              "/* On hover, darken the color of the background */\n",
              "#sk-container-id-5 div.sk-label:hover label.sk-toggleable__label {\n",
              "  color: var(--sklearn-color-text);\n",
              "  background-color: var(--sklearn-color-unfitted-level-2);\n",
              "}\n",
              "\n",
              "/* Label box, darken color on hover, fitted */\n",
              "#sk-container-id-5 div.sk-label.fitted:hover label.sk-toggleable__label.fitted {\n",
              "  color: var(--sklearn-color-text);\n",
              "  background-color: var(--sklearn-color-fitted-level-2);\n",
              "}\n",
              "\n",
              "/* Estimator label */\n",
              "\n",
              "#sk-container-id-5 div.sk-label label {\n",
              "  font-family: monospace;\n",
              "  font-weight: bold;\n",
              "  display: inline-block;\n",
              "  line-height: 1.2em;\n",
              "}\n",
              "\n",
              "#sk-container-id-5 div.sk-label-container {\n",
              "  text-align: center;\n",
              "}\n",
              "\n",
              "/* Estimator-specific */\n",
              "#sk-container-id-5 div.sk-estimator {\n",
              "  font-family: monospace;\n",
              "  border: 1px dotted var(--sklearn-color-border-box);\n",
              "  border-radius: 0.25em;\n",
              "  box-sizing: border-box;\n",
              "  margin-bottom: 0.5em;\n",
              "  /* unfitted */\n",
              "  background-color: var(--sklearn-color-unfitted-level-0);\n",
              "}\n",
              "\n",
              "#sk-container-id-5 div.sk-estimator.fitted {\n",
              "  /* fitted */\n",
              "  background-color: var(--sklearn-color-fitted-level-0);\n",
              "}\n",
              "\n",
              "/* on hover */\n",
              "#sk-container-id-5 div.sk-estimator:hover {\n",
              "  /* unfitted */\n",
              "  background-color: var(--sklearn-color-unfitted-level-2);\n",
              "}\n",
              "\n",
              "#sk-container-id-5 div.sk-estimator.fitted:hover {\n",
              "  /* fitted */\n",
              "  background-color: var(--sklearn-color-fitted-level-2);\n",
              "}\n",
              "\n",
              "/* Specification for estimator info (e.g. \"i\" and \"?\") */\n",
              "\n",
              "/* Common style for \"i\" and \"?\" */\n",
              "\n",
              ".sk-estimator-doc-link,\n",
              "a:link.sk-estimator-doc-link,\n",
              "a:visited.sk-estimator-doc-link {\n",
              "  float: right;\n",
              "  font-size: smaller;\n",
              "  line-height: 1em;\n",
              "  font-family: monospace;\n",
              "  background-color: var(--sklearn-color-background);\n",
              "  border-radius: 1em;\n",
              "  height: 1em;\n",
              "  width: 1em;\n",
              "  text-decoration: none !important;\n",
              "  margin-left: 1ex;\n",
              "  /* unfitted */\n",
              "  border: var(--sklearn-color-unfitted-level-1) 1pt solid;\n",
              "  color: var(--sklearn-color-unfitted-level-1);\n",
              "}\n",
              "\n",
              ".sk-estimator-doc-link.fitted,\n",
              "a:link.sk-estimator-doc-link.fitted,\n",
              "a:visited.sk-estimator-doc-link.fitted {\n",
              "  /* fitted */\n",
              "  border: var(--sklearn-color-fitted-level-1) 1pt solid;\n",
              "  color: var(--sklearn-color-fitted-level-1);\n",
              "}\n",
              "\n",
              "/* On hover */\n",
              "div.sk-estimator:hover .sk-estimator-doc-link:hover,\n",
              ".sk-estimator-doc-link:hover,\n",
              "div.sk-label-container:hover .sk-estimator-doc-link:hover,\n",
              ".sk-estimator-doc-link:hover {\n",
              "  /* unfitted */\n",
              "  background-color: var(--sklearn-color-unfitted-level-3);\n",
              "  color: var(--sklearn-color-background);\n",
              "  text-decoration: none;\n",
              "}\n",
              "\n",
              "div.sk-estimator.fitted:hover .sk-estimator-doc-link.fitted:hover,\n",
              ".sk-estimator-doc-link.fitted:hover,\n",
              "div.sk-label-container:hover .sk-estimator-doc-link.fitted:hover,\n",
              ".sk-estimator-doc-link.fitted:hover {\n",
              "  /* fitted */\n",
              "  background-color: var(--sklearn-color-fitted-level-3);\n",
              "  color: var(--sklearn-color-background);\n",
              "  text-decoration: none;\n",
              "}\n",
              "\n",
              "/* Span, style for the box shown on hovering the info icon */\n",
              ".sk-estimator-doc-link span {\n",
              "  display: none;\n",
              "  z-index: 9999;\n",
              "  position: relative;\n",
              "  font-weight: normal;\n",
              "  right: .2ex;\n",
              "  padding: .5ex;\n",
              "  margin: .5ex;\n",
              "  width: min-content;\n",
              "  min-width: 20ex;\n",
              "  max-width: 50ex;\n",
              "  color: var(--sklearn-color-text);\n",
              "  box-shadow: 2pt 2pt 4pt #999;\n",
              "  /* unfitted */\n",
              "  background: var(--sklearn-color-unfitted-level-0);\n",
              "  border: .5pt solid var(--sklearn-color-unfitted-level-3);\n",
              "}\n",
              "\n",
              ".sk-estimator-doc-link.fitted span {\n",
              "  /* fitted */\n",
              "  background: var(--sklearn-color-fitted-level-0);\n",
              "  border: var(--sklearn-color-fitted-level-3);\n",
              "}\n",
              "\n",
              ".sk-estimator-doc-link:hover span {\n",
              "  display: block;\n",
              "}\n",
              "\n",
              "/* \"?\"-specific style due to the `<a>` HTML tag */\n",
              "\n",
              "#sk-container-id-5 a.estimator_doc_link {\n",
              "  float: right;\n",
              "  font-size: 1rem;\n",
              "  line-height: 1em;\n",
              "  font-family: monospace;\n",
              "  background-color: var(--sklearn-color-background);\n",
              "  border-radius: 1rem;\n",
              "  height: 1rem;\n",
              "  width: 1rem;\n",
              "  text-decoration: none;\n",
              "  /* unfitted */\n",
              "  color: var(--sklearn-color-unfitted-level-1);\n",
              "  border: var(--sklearn-color-unfitted-level-1) 1pt solid;\n",
              "}\n",
              "\n",
              "#sk-container-id-5 a.estimator_doc_link.fitted {\n",
              "  /* fitted */\n",
              "  border: var(--sklearn-color-fitted-level-1) 1pt solid;\n",
              "  color: var(--sklearn-color-fitted-level-1);\n",
              "}\n",
              "\n",
              "/* On hover */\n",
              "#sk-container-id-5 a.estimator_doc_link:hover {\n",
              "  /* unfitted */\n",
              "  background-color: var(--sklearn-color-unfitted-level-3);\n",
              "  color: var(--sklearn-color-background);\n",
              "  text-decoration: none;\n",
              "}\n",
              "\n",
              "#sk-container-id-5 a.estimator_doc_link.fitted:hover {\n",
              "  /* fitted */\n",
              "  background-color: var(--sklearn-color-fitted-level-3);\n",
              "}\n",
              "</style><div id=\"sk-container-id-5\" class=\"sk-top-container\"><div class=\"sk-text-repr-fallback\"><pre>RandomizedSearchCV(cv=5, estimator=RandomForestRegressor(random_state=42),\n",
              "                   n_iter=50, n_jobs=-1,\n",
              "                   param_distributions={&#x27;max_depth&#x27;: [None, 10, 20, 30, 50],\n",
              "                                        &#x27;max_features&#x27;: [&#x27;auto&#x27;, &#x27;sqrt&#x27;,\n",
              "                                                         &#x27;log2&#x27;],\n",
              "                                        &#x27;min_samples_leaf&#x27;: [1, 2, 4],\n",
              "                                        &#x27;min_samples_split&#x27;: [2, 5, 10],\n",
              "                                        &#x27;n_estimators&#x27;: [50, 100, 200, 500]},\n",
              "                   random_state=42, scoring=&#x27;r2&#x27;)</pre><b>In a Jupyter environment, please rerun this cell to show the HTML representation or trust the notebook. <br />On GitHub, the HTML representation is unable to render, please try loading this page with nbviewer.org.</b></div><div class=\"sk-container\" hidden><div class=\"sk-item sk-dashed-wrapped\"><div class=\"sk-label-container\"><div class=\"sk-label fitted sk-toggleable\"><input class=\"sk-toggleable__control sk-hidden--visually\" id=\"sk-estimator-id-5\" type=\"checkbox\" ><label for=\"sk-estimator-id-5\" class=\"sk-toggleable__label fitted sk-toggleable__label-arrow fitted\">&nbsp;&nbsp;RandomizedSearchCV<a class=\"sk-estimator-doc-link fitted\" rel=\"noreferrer\" target=\"_blank\" href=\"https://scikit-learn.org/1.5/modules/generated/sklearn.model_selection.RandomizedSearchCV.html\">?<span>Documentation for RandomizedSearchCV</span></a><span class=\"sk-estimator-doc-link fitted\">i<span>Fitted</span></span></label><div class=\"sk-toggleable__content fitted\"><pre>RandomizedSearchCV(cv=5, estimator=RandomForestRegressor(random_state=42),\n",
              "                   n_iter=50, n_jobs=-1,\n",
              "                   param_distributions={&#x27;max_depth&#x27;: [None, 10, 20, 30, 50],\n",
              "                                        &#x27;max_features&#x27;: [&#x27;auto&#x27;, &#x27;sqrt&#x27;,\n",
              "                                                         &#x27;log2&#x27;],\n",
              "                                        &#x27;min_samples_leaf&#x27;: [1, 2, 4],\n",
              "                                        &#x27;min_samples_split&#x27;: [2, 5, 10],\n",
              "                                        &#x27;n_estimators&#x27;: [50, 100, 200, 500]},\n",
              "                   random_state=42, scoring=&#x27;r2&#x27;)</pre></div> </div></div><div class=\"sk-parallel\"><div class=\"sk-parallel-item\"><div class=\"sk-item\"><div class=\"sk-label-container\"><div class=\"sk-label fitted sk-toggleable\"><input class=\"sk-toggleable__control sk-hidden--visually\" id=\"sk-estimator-id-6\" type=\"checkbox\" ><label for=\"sk-estimator-id-6\" class=\"sk-toggleable__label fitted sk-toggleable__label-arrow fitted\">best_estimator_: RandomForestRegressor</label><div class=\"sk-toggleable__content fitted\"><pre>RandomForestRegressor(max_features=&#x27;log2&#x27;, n_estimators=500, random_state=42)</pre></div> </div></div><div class=\"sk-serial\"><div class=\"sk-item\"><div class=\"sk-estimator fitted sk-toggleable\"><input class=\"sk-toggleable__control sk-hidden--visually\" id=\"sk-estimator-id-7\" type=\"checkbox\" ><label for=\"sk-estimator-id-7\" class=\"sk-toggleable__label fitted sk-toggleable__label-arrow fitted\">&nbsp;RandomForestRegressor<a class=\"sk-estimator-doc-link fitted\" rel=\"noreferrer\" target=\"_blank\" href=\"https://scikit-learn.org/1.5/modules/generated/sklearn.ensemble.RandomForestRegressor.html\">?<span>Documentation for RandomForestRegressor</span></a></label><div class=\"sk-toggleable__content fitted\"><pre>RandomForestRegressor(max_features=&#x27;log2&#x27;, n_estimators=500, random_state=42)</pre></div> </div></div></div></div></div></div></div></div></div>"
            ]
          },
          "metadata": {},
          "execution_count": 40
        }
      ]
    },
    {
      "cell_type": "code",
      "source": [
        "# Meilleur modèle\n",
        "best_rf = random_search.best_estimator_"
      ],
      "metadata": {
        "id": "klDRtmuZ0uGK"
      },
      "execution_count": 41,
      "outputs": []
    },
    {
      "cell_type": "code",
      "source": [
        "# Validation croisée R^2 moyen\n",
        "cv_scores_rf = cross_val_score(best_rf, X_train, y_train, cv=5, scoring='r2')\n",
        "mean_cv_r2_rf = cv_scores_rf.mean()\n",
        "std_cv_r2_rf = cv_scores_rf.std()"
      ],
      "metadata": {
        "colab": {
          "base_uri": "https://localhost:8080/"
        },
        "id": "OCI-SeNe3oM_",
        "outputId": "ef491f52-2126-40db-d6a6-c88190443d76"
      },
      "execution_count": 42,
      "outputs": [
        {
          "output_type": "stream",
          "name": "stderr",
          "text": [
            "/usr/local/lib/python3.10/dist-packages/sklearn/base.py:1473: DataConversionWarning: A column-vector y was passed when a 1d array was expected. Please change the shape of y to (n_samples,), for example using ravel().\n",
            "  return fit_method(estimator, *args, **kwargs)\n",
            "/usr/local/lib/python3.10/dist-packages/sklearn/base.py:1473: DataConversionWarning: A column-vector y was passed when a 1d array was expected. Please change the shape of y to (n_samples,), for example using ravel().\n",
            "  return fit_method(estimator, *args, **kwargs)\n",
            "/usr/local/lib/python3.10/dist-packages/sklearn/base.py:1473: DataConversionWarning: A column-vector y was passed when a 1d array was expected. Please change the shape of y to (n_samples,), for example using ravel().\n",
            "  return fit_method(estimator, *args, **kwargs)\n",
            "/usr/local/lib/python3.10/dist-packages/sklearn/base.py:1473: DataConversionWarning: A column-vector y was passed when a 1d array was expected. Please change the shape of y to (n_samples,), for example using ravel().\n",
            "  return fit_method(estimator, *args, **kwargs)\n",
            "/usr/local/lib/python3.10/dist-packages/sklearn/base.py:1473: DataConversionWarning: A column-vector y was passed when a 1d array was expected. Please change the shape of y to (n_samples,), for example using ravel().\n",
            "  return fit_method(estimator, *args, **kwargs)\n"
          ]
        }
      ]
    },
    {
      "cell_type": "markdown",
      "source": [
        "## **Rentrainement du modèle avec les meilleurs parametre**"
      ],
      "metadata": {
        "id": "dhl0DjtGZZWh"
      }
    },
    {
      "cell_type": "code",
      "source": [
        "# Réentraîner le modèle sur les données d'entraînement\n",
        "best_rf.fit(X_train, y_train)\n",
        "\n",
        "# Prédictions\n",
        "y_train_pred = best_rf.predict(X_train)\n",
        "y_test_pred = best_rf.predict(X_test)\n",
        "\n",
        "# Évaluation\n",
        "print(f\"Validation croisée - R² moyen: {mean_cv_r2_rf:.4f}\")\n",
        "print(f\"Validation croisée - Écart-type R²: {std_cv_r2_rf:.4f}\")\n",
        "print(\"Train MSE:\", mean_squared_error(y_train, y_train_pred))\n",
        "print(\"Test MSE:\", mean_squared_error(y_test, y_test_pred))\n",
        "print(\"Train R^2:\", r2_score(y_train, y_train_pred))\n",
        "print(\"Test R^2:\", r2_score(y_test, y_test_pred))"
      ],
      "metadata": {
        "id": "-H-ey-KQ0zeq",
        "colab": {
          "base_uri": "https://localhost:8080/"
        },
        "outputId": "36383461-7934-44ef-e24e-841ae902c225"
      },
      "execution_count": 43,
      "outputs": [
        {
          "output_type": "stream",
          "name": "stderr",
          "text": [
            "/usr/local/lib/python3.10/dist-packages/sklearn/base.py:1473: DataConversionWarning: A column-vector y was passed when a 1d array was expected. Please change the shape of y to (n_samples,), for example using ravel().\n",
            "  return fit_method(estimator, *args, **kwargs)\n"
          ]
        },
        {
          "output_type": "stream",
          "name": "stdout",
          "text": [
            "Validation croisée - R² moyen: 0.8222\n",
            "Validation croisée - Écart-type R²: 0.0059\n",
            "Train MSE: 0.023337100926587192\n",
            "Test MSE: 0.17414868213923815\n",
            "Train R^2: 0.9766628990734129\n",
            "Test R^2: 0.8296149215159648\n"
          ]
        }
      ]
    },
    {
      "cell_type": "markdown",
      "source": [
        "\n",
        "Après optimisation et validation croisée, le modèle Random Forest montre une excellente performance sur l'ensemble d'entraînement avec un MSE de 0.0233 et un R² de 0.9767, ce qui indique un très bon ajustement aux données d'entraînement. Toutefois, sur l'ensemble de test, les performances sont moins bonnes avec un MSE de 0.1741 et un R² de 0.8296. Cela suggère une légère perte de capacité à généraliser, bien que le modèle reste globalement performant. La validation croisée révèle une stabilité acceptable avec un R² moyen de 0.8222 et un faible écart-type, ce qui indique que le modèle est relativement robuste."
      ],
      "metadata": {
        "id": "T4NSU_Qxow5A"
      }
    },
    {
      "cell_type": "markdown",
      "source": [
        "# **BOOSTING**"
      ],
      "metadata": {
        "id": "-Hnquiwt3y00"
      }
    },
    {
      "cell_type": "code",
      "source": [
        "from sklearn.ensemble import GradientBoostingRegressor\n",
        "from sklearn.model_selection import train_test_split\n",
        "from sklearn.metrics import mean_squared_error, r2_score\n",
        "\n",
        "# Initialisation du modèle Gradient Boosting\n",
        "gbr = GradientBoostingRegressor(n_estimators=100, random_state=42)\n",
        "\n",
        "# Entraînement sur les données d'entraînement\n",
        "gbr.fit(X_train, y_train)\n",
        "\n",
        "# Prédictions sur le jeu d'entraînement et de test\n",
        "y_train_pred = gbr.predict(X_train)\n",
        "y_test_pred = gbr.predict(X_test)\n",
        "\n",
        "# Évaluation avec MSE et R^2\n",
        "print(f\"Train MSE: {mean_squared_error(y_train, y_train_pred)}\")\n",
        "print(f\"Test MSE: {mean_squared_error(y_test, y_test_pred)}\")\n",
        "print(f\"Train R^2: {r2_score(y_train, y_train_pred)}\")\n",
        "print(f\"Test R^2: {r2_score(y_test, y_test_pred)}\")\n"
      ],
      "metadata": {
        "id": "ck-bG4Ly33qf",
        "colab": {
          "base_uri": "https://localhost:8080/"
        },
        "outputId": "94793ebd-1e25-40a2-efd4-f1acd41bf84d"
      },
      "execution_count": 44,
      "outputs": [
        {
          "output_type": "stream",
          "name": "stderr",
          "text": [
            "/usr/local/lib/python3.10/dist-packages/sklearn/ensemble/_gb.py:668: DataConversionWarning: A column-vector y was passed when a 1d array was expected. Please change the shape of y to (n_samples, ), for example using ravel().\n",
            "  y = column_or_1d(y, warn=True)  # TODO: Is this still required?\n"
          ]
        },
        {
          "output_type": "stream",
          "name": "stdout",
          "text": [
            "Train MSE: 0.09168806402159088\n",
            "Test MSE: 0.11998386209891053\n",
            "Train R^2: 0.9083119359784091\n",
            "Test R^2: 0.8826091618414015\n"
          ]
        }
      ]
    },
    {
      "cell_type": "markdown",
      "source": [
        "Le modèle de boosting montre de très bonnes performances sur l'ensemble d'entraînement avec un MSE de 0.0917 et un R² de 0.9083, ce qui indique une bonne capacité d'ajustement aux données d'entraînement. Sur l'ensemble de test, les performances sont légèrement moins bonnes avec un MSE de 0.1200 et un R² de 0.8826, ce qui suggère une légère perte de généralisation."
      ],
      "metadata": {
        "id": "RBT6NnHmpGI3"
      }
    },
    {
      "cell_type": "markdown",
      "source": [
        "## **Validation croisée Boosting**"
      ],
      "metadata": {
        "id": "Ql0zSuNkPK6k"
      }
    },
    {
      "cell_type": "code",
      "source": [
        "\n",
        "from sklearn.model_selection import cross_val_score\n",
        "\n",
        "# Initialisation du modèle Gradient Boosting\n",
        "gbr = GradientBoostingRegressor(n_estimators=100, random_state=42)\n",
        "cv_r2_scores = cross_val_score(gbr, X_train, y_train, cv=5, scoring='r2')\n",
        "\n",
        "# Validation croisée à 5 plis\n",
        "cv_scores = cross_val_score(gbr, X, y, cv=5, scoring='neg_mean_squared_error')\n",
        "\n",
        "\n",
        "\n",
        "# Affichage des résultats\n",
        "print(f\"MSE moyen de la validation croisée (5 plis) : {-cv_scores.mean()}\")\n",
        "print(f\"Écart-type de MSE : {cv_scores.std()}\")\n",
        "\n",
        "\n",
        "# Prédictions sur l'ensemble de test\n",
        "gbr.fit(X_train, y_train)  # On réentraîne le modèle sur l'ensemble complet d'entraînement\n",
        "y_train_pred = gbr.predict(X_train)\n",
        "y_test_pred = gbr.predict(X_test)\n",
        "\n",
        "# Évaluation avec MSE et R^2 pour l'ensemble d'entraînement et de test\n",
        "print(f\"R^2 moyen de la validation croisée (5 plis) : {cv_r2_scores.mean():.4f}\")\n",
        "print(f\"Train MSE: {mean_squared_error(y_train, y_train_pred)}\")\n",
        "print(f\"Test MSE: {mean_squared_error(y_test, y_test_pred)}\")\n",
        "print(f\"Train R^2: {r2_score(y_train, y_train_pred)}\")\n",
        "print(f\"Test R^2: {r2_score(y_test, y_test_pred)}\")\n"
      ],
      "metadata": {
        "id": "rZMBa4PBPPVD",
        "colab": {
          "base_uri": "https://localhost:8080/"
        },
        "outputId": "d60f57cb-dc82-4b94-e96a-777725f18afa"
      },
      "execution_count": 45,
      "outputs": [
        {
          "output_type": "stream",
          "name": "stderr",
          "text": [
            "/usr/local/lib/python3.10/dist-packages/sklearn/ensemble/_gb.py:668: DataConversionWarning: A column-vector y was passed when a 1d array was expected. Please change the shape of y to (n_samples, ), for example using ravel().\n",
            "  y = column_or_1d(y, warn=True)  # TODO: Is this still required?\n",
            "/usr/local/lib/python3.10/dist-packages/sklearn/ensemble/_gb.py:668: DataConversionWarning: A column-vector y was passed when a 1d array was expected. Please change the shape of y to (n_samples, ), for example using ravel().\n",
            "  y = column_or_1d(y, warn=True)  # TODO: Is this still required?\n",
            "/usr/local/lib/python3.10/dist-packages/sklearn/ensemble/_gb.py:668: DataConversionWarning: A column-vector y was passed when a 1d array was expected. Please change the shape of y to (n_samples, ), for example using ravel().\n",
            "  y = column_or_1d(y, warn=True)  # TODO: Is this still required?\n",
            "/usr/local/lib/python3.10/dist-packages/sklearn/ensemble/_gb.py:668: DataConversionWarning: A column-vector y was passed when a 1d array was expected. Please change the shape of y to (n_samples, ), for example using ravel().\n",
            "  y = column_or_1d(y, warn=True)  # TODO: Is this still required?\n",
            "/usr/local/lib/python3.10/dist-packages/sklearn/ensemble/_gb.py:668: DataConversionWarning: A column-vector y was passed when a 1d array was expected. Please change the shape of y to (n_samples, ), for example using ravel().\n",
            "  y = column_or_1d(y, warn=True)  # TODO: Is this still required?\n"
          ]
        },
        {
          "output_type": "stream",
          "name": "stdout",
          "text": [
            "MSE moyen de la validation croisée (5 plis) : 1.2430128863873904\n",
            "Écart-type de MSE : 0.08966137165488562\n"
          ]
        },
        {
          "output_type": "stream",
          "name": "stderr",
          "text": [
            "/usr/local/lib/python3.10/dist-packages/sklearn/ensemble/_gb.py:668: DataConversionWarning: A column-vector y was passed when a 1d array was expected. Please change the shape of y to (n_samples, ), for example using ravel().\n",
            "  y = column_or_1d(y, warn=True)  # TODO: Is this still required?\n"
          ]
        },
        {
          "output_type": "stream",
          "name": "stdout",
          "text": [
            "R^2 moyen de la validation croisée (5 plis) : 0.8754\n",
            "Train MSE: 0.09168806402159088\n",
            "Test MSE: 0.11998386209891053\n",
            "Train R^2: 0.9083119359784091\n",
            "Test R^2: 0.8826091618414015\n"
          ]
        }
      ]
    },
    {
      "cell_type": "markdown",
      "source": [
        "Le modèle de boosting présente un R² moyen de 0.8754 lors de la validation croisée, indiquant une bonne capacité de généralisation. Sur l'ensemble d'entraînement, le modèle obtient un MSE de 0.0917 et un R² de 0.9083, ce qui montre un bon ajustement aux données d'entraînement."
      ],
      "metadata": {
        "id": "ui9pthkCpgVf"
      }
    },
    {
      "cell_type": "markdown",
      "source": [
        "# **CHOIX DU MODELE**"
      ],
      "metadata": {
        "id": "6BWXwUbXgJi1"
      }
    },
    {
      "cell_type": "markdown",
      "source": [
        "![Capture d’écran 2024-12-17 185039.png](data:image/png;base64,iVBORw0KGgoAAAANSUhEUgAAA58AAAHMCAYAAABSlBwMAAAAAXNSR0IArs4c6QAAAARnQU1BAACxjwv8YQUAAAAJcEhZcwAAEnQAABJ0Ad5mH3gAAN/zSURBVHhe7P0LuBTVtbeLl+f/nPN9W7kZP6NgQI+asCVsRMFgEPESFRV0ixokiveIiopGDCqIMSoEibgVFRGDiKIBouIWUVHjBYUtCl7YqNt4+RQS0RgjFzXn8p3H/3rHqtHMVVR3V/fqXqvXWr/3eeqZ1VWz5r2qx6gx5qxtnn/++W///ve/R0OHDo2EEEIIIYQQQohq8L/FoRBCCCGEEEIIUTWkfAohhBBCCCGEqDr/Gy63QgghhBBCCCFENTHLZ4cOHeyHEEIIIYQQQghRDbb5tg52Vq1aZQeEEEIIIYQQQojG0qdPn3ivngbK57Y7bbCDou3xzWed1P8tGPVfbaB+aBrUzpVHbVoYtY8QQpQOz86k8qkFh4QQQgghhBBCVB0pn0IIIYQQQgghqo6UTyGEEEIIIYQQVUfKpxBCCCGEEEKIqiPlUwghhBBCCCFE1ZHyKYQQQgghhBCi6kj5FEIIIYQQQghRdaR8ZuS1V9fEe0IIIYQQQgghSkXKZwYef/S5aMTxl0TXjrslPiKEEEIIIYQQohSkfGZgjz27RR06to/m3bcoWjD3sfioEEIIIYQQQoisbPNtHeysWrUq2nanDXaw1ph1x/xo6qS7bP+oYw6Opk6/yvad/XsOjTZt3Gz7cx++Odp3v562Xw49uh5mYTKdd9/+IBo66NyoZ68fRAsWT4+P1uPlG3BQ32jm3Mnx0ZbFN591Krn/sQjfc+cfojWr/2S/6ZuRF/4s6t5jj2jDl5ui/r2Ot+Mz5kyMBh7az/adQQNOi9Z9/El0zW8uiYaNGBIf3cLIEVdEL72wMv61ha67domGnTI4Ovv8k+IjW+LygmDKtCu2ysvxvoWFS+60cjq8VLjmypttvyX2Y6n9l699Q95e90y8Vx6Vui9wecfzAOjjl9cstH1nzKjroycWPV+/P+6cBmODMix57IXcGOX+7V9XnhOGHxV17dbZjoXjIo1Sniml9kOxvJtjLJZ7nyx9dkU09+6FuXHFvXrAwD7RkKE/ybVfsXGX7L98lPO8cpqizb2eWeuTj2o8B/NRSps2xfOjVKrdVo0Zc6L2WLd2fTR7xoI6OeZ5kx/TxolIpzXIvKLp4NnZp0+f+Fc9Lc7y6UKmg2Dqimc1QQBDCNWNVs/NU+6OLrtgYk6oB/oGBR1FvdP2HUwZheefedlCh/MonvDjOuG0FLiOh55boOl/hIiRF51s4wDhNwtJIeWZJ1+K90QtQx8n518nnwkOSiljJRyj7M+89YFozPnXxUfaDggMKF4I3lnJep9wP553+vgG8blX8RYZdeYEE/RE5ajUc7AlUM64DWlLbSWywfPop0ePsueTy48+TvjfaCtwL3BvFXshJ0SlaZFut7xhd5Y+90q8V314e49S1dbhwY0AD1iSsGyy8RYZRo/8tYU/OfIAC3mzGOICKte69Skfw089xpR+37gGHvz94xbSJ8tXPxxt2lD/B9LvgH0sLAbWMAcrbVLIbu1gkfE2pY2Btg3burHwBhnrR6Vf2IT3fPgsCOEFhyulCJleJyztvK294ppRdi6Ec2H9fdt9z25xjMoT5uNjOxzz9FNzkvU+uWnyLAt54cSzgLLfePt4q8s5Fwzf6j5P3te+HTF4YByjeoT5VavNGfOM/UpZUZLtVannYLk0xfOjXGqtrUTtgcXTlU4fyz6O+d/Aq0vkp1r/7aLt0CKVz9dWvhXvRdHyAkoDgumwwaNyb3Z4o4VQGoIFD7ddtnwPHN4OJdNBECsGb1pxL+Ua0iev1sB/vvFf8V69kIXLEtv02fXWJN4g0s79D6y3avKQD5UEF2hP/NnRFhZil647m7Dg26AhB9lxt2ahCPNGnDeYuM103uW7drwYXO99uPr1dyxMgzgsNEX/0Y/0J2/iHR8X4dhhn2OcA9LwceZpJMcax9nCMUO9soyzcsCS721KGwMvVsK2Dt+K0p9eLq8/dSh0f6VZLDxuY+oZ3vPhsyDk66//Ee9F0SVjz8rVCRdvxiz7SfbsvlsuXrhV84VTWj7hmHeX1yzPINrb29Tj+DjjHG/1waw+QZ8UIut94oLcKWceZ88Cyn70sYdEV0+6OFUBS97XvhV7GVUJwvzytXk4dmlD/4/gOUZ7hG3NcZ4RYX9wHeeIB2F6PAv8uuRzIB/Veg6WS5bnB1AuxiH1ZWMMJ/+Dk//T7PN88HYuddzWWluJ2mPZ0lUW8mKS5xPjhGcVLybhj08usxCKyZGF7m3GcL77Pfx/9WcM+y4ncg8kj4UUky897Xz/teTv01mA8w7lyVpnKCYreDt4fTiffPZxXfisIA7XcL+K1keLUj79DeYTsSWNQckfih8P4WbADcz/cIA3WqcPuyx38zH4seAhOLHhRpqEG4IbNJlOsT9BbnjmRqGIAemTV9pDpKWx/i9/jffqBQ6HBzhvw9gQTjjnbxPd9db7DLK43P5l3afWl7654up9/vlnX2wRKura+pEFS2y/EH7t8hfr/4C8bGnjaOxFk1Jdc/yh6gp0+Gfl+37uuvHTcuMMSIOxFirkTjhmELbIvxbgvvFy7dP3h9aP146bVvD+KkS59aSPyNP/kPxZkNZ3Dn9ojJ1ivP/uRw3GGluWulSbLM8gF9K9TYE49FG5f96l3CfO5Gum5xS0QiTva7Zyy1lNVr/xrt2rfu/22mcvU8LDtuYcz4gsY5ix7l4jXEfa1L0Y1XgOVhvGwM9PvtzGoUMZ7VkS9zV1Sf5Ps8/zodDLjkK0xLYSTYvfu+3bb2eh4x4Lvq5I2vjM9z+Xdm/zTMhyv4fPGOLzbOceCI+5zAGlyJel/tc29r89KStAMRmIdLkufFYQh2semvdEfES0JlqU8okywx8Ig5IbxC1waRa0+2c/YiFvNnEDwwUMGPxPLV5q+/6nw9su3HBYXCPJ/LqbHHAnIw4baXJjpj1EnFkzFliISwcPM0+bm6ktcfBh+1vorrf/Eb9xpB+zWDkQ6hC8ffMHovd5qPCyZXEDYcEZWPnyagt5C4rLsL8hdxD6eViDu276m9G7bp9nobsJ8tB0gcofoJzjmP/mesqIe6f9Tplr5C5jrrSTf5YHfrVh4RjKxb1Em9N3cxbcaPcVdfL7gvvLlZVClFtP7zvufdqWZwH3ZvgSBCijC5u0P2OHt6n8qfPHnQZ/0uFYY/vw/bXx2eYjyzNoxbLXLfT+WLLsPot/9aTR1le83Xd30qyLRGS9T4D7AygTwhqLjfHmHGEorV+T9zWbP5drCcazu+Xh2cE4w7LrrsW0tT/bGcP+DMgH7ce1bD5NIcvUkWo8B6sNzwHuT8Yq45FyMSbD/+DXY88FngOcZ2zT3vymncsZty2xrURtkkWOdNLubZ4JXBMee2zhHy0M8Skf/p/FdS5z+LEF9y+2EEqRL/P913IfcNwhHWjsf3tSVsgiA/E/S/rUlfyIQ/7c82ecc6LFEa2LFud2638gKDFuYdp7370sDNm86SsLWb2MPzFcwFxx2Lz5awsd5nwgVLiLW8ifY2GiY6f29gaGbdfdutgx/+NMgz9dhzdW3PDcwFBIaW1t0PY8dHmwUO8H43k3aS8MskAb8sBNWyE3KwMP+ZGVCYUYBZO+4oGZJM1187yLR9hv6gOMGwQqYEz6mzxXiHjLDpSb8cJY8PHHmEjiK4OO/uWZ8ZH6B3Nzc8kVZ1u56E/ng7pycQ+i0IVvU0PLeD7KredRseJDvv4io1//3hYmQajkD9z/vIE2R8lsSd/sLeUZdMuU2WbpRTBizrW7vpdD1vsEuD98Pq2D0I8wxPiohRco5cB96255bEBdPv3k82jGLXOtblhBXbD0+z0fvXp3t3uIbfhp9cLg27FyVAqVeA5WG38OMFYZjzz7GMPgL0scxhhtydjGGnXmecPiM42nJbSVqE1KkSPT7m3ick14zJ/nIYxNni8Xjjk9PrJF5vBjoUxZinxZzn9tY/7bk7JCKTIQ/xnkx0tL8uK+Tb5YFq2DFqd8uqvmiuVv2Jt4BnSa0lhpeJuKkMGWpjTkw69hCx8YbYmjj61XzniL6G+hs65y62/2QqGWz2Q0FsqEAulWJV8cqRz+9cTDLeRtpLsmJtOj78OxUIxae+AmrdS4rOM2wxtN7ge2csZ3qfXkXuee597nGQD5xhJp8wfOp5EYQ+HbX+7npJXK38qGmysctUChZxD3CQoQfUCfEIf+OemYCxul+JVyn/h8WtqNN/H+dpt7PvnG3O/rcEubG9rcuJIfMu23s+0Fho97Nn8ZVQpJl79CVOs52BTQPj5uGcMh1IGXQ7Sfx6NtWYm03Je0LbmtROsg7d7Ocr+3S4mTdszx+4qt2P9v1v/axv635/NoKyQD8T8bWmZ5aUkcvp6Qz1NJtGxanPLJwObPihuDP6yjYsWm2qQJplmEpeQ1bLUk0JZDuEBDKNgiLPhk8VCwd9dbd72g//I9oPLhFkceYLwdbyxeJheGGmUhOrSfKUSUzd2Lk+khCKWNhZaKu6yjYHhdEPqaAu557n3GUyljifuORSWcYlaqWqPQMwilnO+fEgd3pVAZzeIqlY9y7xPKgzLqCkCWN+YtBW8LFGzvh1DRqSaVfg42BWkvGtzVFYGYl0O0JW56xHVlNM09sRRaYluJpsGthEnrJZY+5JeW4hmTvK/YGitfVuu/vZgMxH8z7vn8h5Gfe5S5i7FoXbQ45RNCl013w0vSvkM7C/GTxxWStzm8UYHkGyhcgFCicC1L8r1YsMVqRxw2HkzJlbrg44/qV3kFf7jhYgAoYzzY0vJoafxL73+O9+of1rQvG9/zg6RCgHLmbmlQjstt+GaM+ZaNseZAWCZ3kU2y3Xb/FO9F5gaCco2rHYT1AX8JgtBEOT29HXfawULGnr/JJ6TdGluHWqBdhy33Egt9NAXhPZ9vLHGfsVoe9x/tzcYYxSXVSX5CJW3BIbbm7qcszyDqxpgC3Lyw9OAGlgbXZ30OZblPSM/nd1IObzd++zP3+913s9BJW3CIrdicyVpi23bbxnv1z/6moNLPwWriLyn5D/Z+xYoRCvYcZ+zg5sdY42WKzzVOUsq4hZbUVqJp8ekDWNj8P4Jx6c8rf+lWihzZlFRDvqQNQir1355VBuI37vn8L/MccI8y0Tppkconczx5i8KWz+WWJf+Bt54sgIEbASBI+SIxxw0bZCE3BQtkYOJPclI8TwQrC3HYePNNeklBibzcneDseM4Kv23Z6ANOtXz8G5gtGRTL5AIjbChecN1vx1gY4q63kNXlNonPAyIfXN8aC3MwGEP5XAkZW27R4E+KxSv8j4dvF4aEbl3+xwW0lb/B43rGgqdTiTo0F/5tPFbF408DATLpUlctvF/Y0uZ7w8zbfp+7H33hEcaoW98Zv0lFKm3BIbbmnnNb7BnENnb0ZBtTlJcxRhx+87wLXxYB92zS7akQxe4TBAbS5B6hjb3d+A28jEKxCKH8Hi/ckot41CL+TGAlV8Y+LzkYa01FpZ+D1QIruXuE8P/HuOQeo+/9xcmY86+zscNY5jybj5vwOQqljltoKW0lmhbGhb9U8/8I///i/9qfV1nkyOagGvIlbQCV/m/PIgP5i0rqw38XcWhvaCrvRtG0tEjlE+ETt51Cq9Tx1hM3HgQfhxuAVbxc6MRCgBDqDyFXqELICzcAv3mAfdyE3LqH4uECiYPLGe5vnj958BZ2/qLb7HdLh7l0Yf3A2yXthYALEkmraCmESi8Pw8ZakakDY4hxkI8pt46zfvMxgjCFS0jS5drrRLykoD1h4mi7xt9WehqhC2hLgzFPfyPU8adBndLun2rh93/aWAPaPLkADvCbcUvftxSKPYPYWImVYz5Ogd8873xsIiwl2yMLxe4Tf9Yl8+deZ5wXek63RKgTdUMg5VMsCEfltGu5VPo5WC34n/3dAzc0eH7Sbvwv+1iaescEO+/PRvA4/hwtd9xCS2kr0bQwLv7w+PTU/3b/zApkkSObg0rJl6F3gFON//ZiMhAr2vpz1fE4Lem/WmRnm2/rYGfVqlXRtjttsIOi7fHNZ53U/40Alxze1PEgbw6lUv1XG6gfmga1c+VRmxZG7SOEEKXDs7NPn4Yejy3S8ilELYEL2W1T59h+0lVMCCGEEEIIUY+UTyEaCavDMR8Jl5Gky60QQgghhBCiHimfQjQSFq5ifmFrm9smhBBCCCFEJZHyKUQjYfEMFgBozgUIhBBCCCGEqHWkfAohhBBCCCGEqDpSPoUQQgghhBBCVB0pnyLHXt/7SbwnhCgX3UdNg9q58qhNhRBCVBspn0IIIYQQQgghqo6UTyGEEEIIIYQQVWebb+tgZ9WqVXZACCGEEEIIIYRoLH369In36mmgfG670wY7KNoe33zWaavBIVoO3L/qv+ZH/dA0qJ0rj9q0MJKRhBCidHp0PSyKVc0ccrsVQgghhBBCCFF1pHwKIYQQQgghhKg6Uj6FEEIIIYQQQlQdKZ9CCCGEEEIIIaqOlE8hhBBCiCbitVfXxHtCCNH2kPIphBBCCNEE3Dzl7mjUmROid9/+ID4ihBBtCymfQgghhBBNwFFDDrJwwi+nRhu+3GT7QojaYtYd8+0TIU3lpUBeI0dcEf9q/Uj5FEIIIYQoAgJioS2LoNq9xx7RnAU3RmtW/yl6aN4T8dHG0dSCclvA21Tt2vop9/7RfVc+Uj6FEEIIIYowZtw5ua3rrl22OrbjTjvYsWKggM59+Obo7PNPio+IWgKL9NRJd0U9e/2gpH4VrQfuzbfXPRPtu1/P+EhlQFFFYUVxDSGvmXMnx79aP1I+hRBCCCGKgEDq26671Suf4bGu3TrbsSxUWqgVlePD99daOGjIQSX3qxCiOFI+hRBCCCEqAPO2sGwsfXZFNGjAabbPMZ/fyUJDHoft2nG3NJj7yT7H9u851M4Tjhl1fSbXvvff/SiXNnknFzXi97DBo3J5k+66tevjs1vcCBfMfaxBOtQlhOOcJ76XM1kPCNuAeElrTzl19XLla1+nWN6F0hlx/CUWB+snx708nKN8HGOjLcOyulWLRaWoF/vk/fijzxU8Bxz3Y+yHJNuJ8tJHIRzP2ifJMRDWodj4BPLwNmMjvtcjH16H8JpwfJImx4uNvRDGLvFIN8Tb0uuVVudw3Kfh5QnbhjqGbbt589fxmS2EbeN9GbZfOLaop0P88DdwbaE+93ZKjuHkfV+LSPkUQgghhKggE6++PRp2yuBo+KnHRP0O2CfqtH0HE0JPH3ZZtPqNd6ORF51s5+bdtyi6bvy0+Koomvbb2Xbs6GMPNpfP4acdY/NDP13/eRwjPzdNnhX16PUDS3vdx59YXi74Imzze+3H63N5P7Ho+WjM+dfZ+ZAwnY0bNkdjR0/eSlh/6YWV0Yplr0fnXDA8GnBQXyvzPXc9GJ+tV8TOO3287VOPXr27m8AdCtCNqau371HHHGxlGXvRpPhMtrydtH5iH6hX6HaLYE+bcZ62oS1ZuTjZNjNvfcBCru22a+eo/4F97DeE5zp2ah9ddsFES3fdR5/kjhEnVOawxD7+6PO5durYsV10zZU3b6XwFesTlBTaZePGrywdHye8tIAs45M8aUss/6TBxnUrX14dx0iH/iEtbzvyGD3y1w0UM8gy9hws0rhG0zYhT9T9xi3evQv+/cGnG9SZPvz5yZfbuawwpugrIB3wvnQo55LHXsi1zQED+1gcxrkTjq3jhg2y/TRQPLmWsev50edpyng4hhkDLGZW60j5FEIIIYSoIL974AZz2bx60sUWwlOLl0abNm6Ops++Lrpk7Fl2zoVhF7ARpBFM/TriLXnp3jrF4xA7X4irJ422+GwIrOS1+vV37Fxa3sRB2QutOxCmwz7X/cfSVfHZehDumaNGGQn5Pe/eRfHZKLp/9iNRh47to/mLbsvFQVGYNWNBHKNxdfX2nTr9KksDodsVmSx5O2n9NGToTyxEGeUYSg5tRFvRZsSlrLQlbUPbhqAEeHoLFk83hdYJz/3m38baMcpNPThGmeGRBUssBJSol9cszF1HfahfGAeK9cncuxc2aBfqQPmGjRhi57OMzz8+ucxCz4eNNIibDyxx9E/YdlOm1SncdYrv8hcbjqssYy/kxJ8dbXFcKaOcpHtUnaLu0LaMK68z5SBOctwXYulzr1hI25AO9XBF0mGc0BbeNj42UbqdcGwVGuconlzradFn9B19mCQcw5SJcVrr1k8pn0IIIYQQFSRtnuCK5W/Ee/WWFLYuXb5rvz//7AsLsZRhFcLygQsfcfJZfpLs3HnHeC+K9un7Qwvfi61aWMQgnGvqcV5f+ZaFTpiO7yddDH3Oq8NvlABnWZ3CQF2w2nlde+7d3YR+pzF1DdsXQR58rmaWvJ20fkrD28jbDLwtvW2dXbruHO9tTXjOrw+V03A/BAXV60K9qF+SYn2CAoglLV8eWcZn1zgP3E7pM5S+YorOm6/VvwBp3367XLrt6vZh/V/+aqGTZeyFHDF4oIXPP/Oyha6onjD8KAsdyuh5U45SebtOoYPw/snXz54P2/cyjq8QrgMf10Cf0Xf0YZJwDHuZvv76HxbWKlI+hRBCCCGqzOZNX1nIvC/fcKUDdzW97rdjcq6XuDcSZ9ABp27lYlnroPRggQnr6hYgVzCrVdcsebckaI/+vY5vUB/qV2myjM8zzjkxZ82jz3DjHTro3K3mXYa48khaYdrwl3WfWlguKGW4XvPCAR78/eNm5XaFDKWd+Z6UMVmnSoOCyxzNsI6h1VNsQcqnEEIIIUSVad+hnYV8ViG5uQsen2HBRZBjfI5lxpyJ5j557bgt8+5aArgIoqQk68nmikG16pol75YEcw1RsMJ6UL9Kk2V8ouzhCsqxhUvutH5zZTSfBdQtjcRNplvIXTcrPznyALNqY4VFKccV1+FbuhyjrJ4n5agGKOO8TFm++uFcXrj4iq2R8imEEEIIUWX69e9tobvVpcFKnC7E4+I38NB+tnBJ6D6Zj3ChHncT/X733Sx0F74w7zRX0kpBmXGpTS4oE9KYuoYWTHd73X3PbhZmybtU0lyU09wjq4W7uzYGlMRwbizg8ux9kGV84mrrlmleHtBvvnBOPlfPvffdy8Kke3elYEEnXjiwOBH8uK7/k+wUuPOWA4sgQdg2aVZbFoPK59acFXftDd256TPGdDVeOjQHUj6FEEIIIaoMQjFCMiuk+jxHXALdZRElgMVd3I2R84RYlbB8FQOLIemyYYUhr1771Av+zI0L8yZd4uCiGM5jqxT/euLhpkSedMyFVg/y5HMQrrg0tq6sVso1KLAoVAjlLvQXy7scaCPaijajnKRJW9KmPu+wWvjCQeTp7ZQ2968YI84aaqG3C23nLs9QbHzCXbfPy63Q623LuOO6fOMIJTVsO8+btCvxgoB+ZyVg+pyxE1q3O+9SP2eV1XbJl+3KX0yxY46/oGGhqnyK98BDfmQhbUMaPlZDmN+JldXrSNvQXiG+cjKr4hYajyz0RB97O9Nn1M/7sKUj5VMIIYQQosogFM9ZcGPuEwwu9B982P4WIqTjHogAzUqwnCdkBcsJE0dbnEJcesXZ9pkJ0kZhIS9XyDxvFqrhvCt5U++YYOcrDVZM3GixBFEP8kQB2SO2Tja2rhePPdMEexRYFM8pt46LzxTPu1xwN6W8tB1p0pasflptV95pM39li82QJ/XhEyTUp1SS7cI8Sdrb267Y+IQnX5xj13z80Se5tiU+1xWCtuM672uUtEFDDmq0ldDxMuKCG4K7MK6vWA3Jd8H9i628IbQLY4ixlM86i2J94+31n+8hnT+vrf9kUcjoX55pdWR8EGd5nfKYzIs25jrqn1ytOIRVeYnn5YZrfnOJlbU1sM23dbCzatWqaNudNthB0fb45rNOUZ8+W7sqiJYB96/6r/lRPzQNaufKozYtjGSk2gBLEBYh5tMJIWqfHl0Pi2JVM4csn0IIIYQQQgghqo6UTyGEEEIIIYQQVUfKpxBCCCGEqHlYWVWfrxCiZSPlUwghhBBC1DwsIHP2+SfFv4QQLREpn0IIIYQQQgghqo6UTyGEEEIIIYQQVUfKpxBCCCGEEEKIqiPlUwghhBCiFfHaq2vivdZBc9antbWlKB+Nhcog5VMIIYQQopWwYO5j0YjjL2k1gnJz1qe1taUoH42FyiHlUwghhBCiBkCw7dH1sGjWHfPjI6XB9ddceXN01DEHR/vu1zM+2nhId8yo66MNX26KjzQN1apPFtLypv4jR1zR5O0gmpfmHIetESmfQgghhBCtgCt/MSXq2esH0YSJo+MjjQdFa9SZE6JlS1fZbwRxFOTkNmjAaalK89JnV9g54uzfc2h07bhbMitv+epDPqRHWapFWt6frf88eumFldHYiybFR1o3tDHKdnPg46zcFzGVpBr3Vak0xZhvKqR8CiGEEELUAFhV3l73TNnfspw281fRzLmTo07bd4iPNJ6H5j0Rbdq4OZo++7oG6Q44qG80Ztw5ua1jx3bR1El3NVAWUDzPO3287RPngIF9onn3LYqm/Xa2HStGNeqTlbS8u/fYw+qBAkrdGkstKVgiP805DlsjUj6FEEIIIVoBKEeVFpDvun2eKZpJd8N+B+xjSrJvCOcdOra3+M6/P/i0hfMX3WZxpk6/yixIKKBZqEZ9spIv7xOGH2X1nHv3wviIaO005zhsjUj5FEIIIYTICBavYYNHmcWKjbmQ7grnrnEsToK7Ivu4nL779gd2HndT4vu1pBO60aVZwrg2vIb0cF1dt3Z9HKM+jufHlubamiVOEuqK1fO4YYPiI/lBOO/Vu7vFd1A2seSGgnsWIb6cskLSxTdsx8cffc6OE4bQB8T19IvlTfmPPvZgs34WK1OxtFjABrAYE68Q1MXrxkb8sC5+LMTzdoqNzyxQfurBtZ5n8vrkPcI+eRdqL9Lw+pHm++9+FJ/ZAtcXun/Aryc/+pXfyXb3uofjJa0exfoPssQp1ndpcD4s/+bNX8dntpAl71pEyqcQQgghRAYQVnEj3bjxK3O/HHnRydG6jz/ZSlC+afKsqEevH9h5LH1YTgBB8YlFz0fDTz3Gzq39eL3NpwwVySSjR/7a5lsS311X+f3NV9/YeYTN04ddFq1+412LQ9pYFq8bP83OQ5Y4abwX1+tfev+zhYUgD9LHKpgPhGWUNiyp+Si3rCghoYsvijBKHYoW9D+wj4V/fHKZhUC7r1n9J1MmUSqz5n3wYftbuPr1dyxMI0taHAPao5CCjyJCXXbdrYvVjY30V768Oo5RGvnGZxaY70o9KDvXUz/GKOUB2jS8R9i67tolWvLYC3Y+DW8r7iXSpGyUMUnW+4cxtmLZ69E5Fwy3tqW899z1YHx2CxOvvj0adspgS49rJvxyanwmW/9liVNO3zGWL7tgou0TH2be+oCFTpa8axUpn0IIIYQQGcDVEuXK3UgvGXtWtGDx9GjYiCFxjHqunjTazrFh/QMEShQdhMmrJ11s55hHiaXwqcVLLU4SlDUEcoRo4pMn1y556d6cwsC1PieTOJxHGEVId6E8S5w0EOCha7fOFoZwDouObygG5EFZ00BYduH+vItHWJhGuWW9f/YjDfoGN2AUq1kzFth5lEtWKyUdygL/+cZ/WejKZNa827XfzkJXztPIktaQoT+xEBfmo489xPbTcIWZOlE3NsYdaZZD2vjMgr88CMfwlGlX2Bhd/mL9glT/ES9M9Zt/G5srK3lQ3nxWb5R42op0vVyUMaSU+wdl19uKkN/z7t3a1ft3D9xgcUgP5Y30qSNk6b8sccrpu6XPvWIh6YblC8k6VmsRKZ9CCCGEEBlA8MaiVsx1dOfOO8Z7W3h95VsW7tP3hxaCz6N0JS/JTnE6C+5fbAoeVjyEcFeeYMXyN+K9egGdrUuX79rvzz/7wsIscfKBApcGbYFFxzesUCgGCMtpsMiQKw+FPldRblmxBnfbtXP04ftrc9f13Lu7KUbOv554uIWuKKEYoJgMPLSf/c6ad5bPbTSmzZN03a2LhbhVMg6wwLuSVA5p4zMLb75Wb+ltX6d8e51cEV//l79auHOX+rRn3DLXyorlj3iFcCU+vDeSZSzl/sHKGMJvFLUk4UuVXbrubOHXX//DwkrdV+X03dt19wmE48zL51RyfDU1Uj6FEEIIIWoQlNwbbx8fbdyw2RQ8vjXIPMEjDzw9J8Bu3vSVhRz3jXjw6frPLcwSp1RQIpnPyYZrI8L9EYMHxmcbggKCSyDx8imnTrllJX+U2/A68gS3BKFkYh3F5REFHivRUccebOegku1UybTOOOfEnPso4wC31qGDzjWFpinxeYfUI6wX/GXdpxbSxljg/OUE7qPEYX5m+NKk1qnUfVWtvqvk+GpqpHwKIYQQQtQouGO+vGZhtHz1w9Hch282ZRRFa+Ztv7fz7Tu0s9AVwXBzV84scfKBQlcMd6OdHbu4hqAkXztumil9Ewq4GjrllpX0EfLTrgstXMzvfPzR53PWz6OGHGQhZM0bK1MxGtPmSXgJgdsm1y5ccqeNA1doGmMBLRUsnkD+yTqFbqS4gXJsybL7LC7KKOMo6R5by1TqvqpW31VyfDU1Uj6FEEIIITKA0IhFJ7Tg3Dzl7kxCpLsLuvsguBLDnL80yIe5lIQIsbjhIVjiKuqWj379e1tYSCHKEicNL1exOWSUK02gptzM80RZZm5g2tzRJOWWlYWYWHylmHWNeZaUB4WYdgwX28ma91exBfD73XezMI1y65GGu68C5aW9fYEidxPFPTpZ/2JtUSp777uXheEYTkJ93apHf1NWPk8DaSu2grdjmG7SelfO/dMYKnVfZem7JCy4BGG6bll2Kjm+mpr/3zV1sLN+/frof2/3f9lB0fb4f7/+71GXLg195EXLgftX/df8qB+aBrVz5VGbFsZlpI6d2kePPfJs9NTjL0b/z//9/9giN/PrFC4Ew2OOP8wE4/948bXo+JOOjDrvUj//yuH3C3982b59+cXfvoxeX/V2dMO1M6L/9t//W3Tlr0dFHTu2j9Z/8tfo4flP2sqsCKmPPvR0dO+sh6M/PPB49NVX30Rvrf6TzaVb8+a70VnnDYt+WCekdqgr06MPPRMt/vfncnEmXzM9euet96ODflK/kE6WOGmgZFHf3n161CkI/6cdS5bRYU4ax70tYMat95trK0pe5y7ftfbxbceddrA6J8lSVi/XP775v6Idv/sda9t/+qf/Fj0074lc37Boy68u/7doh//RKVd2IO6jDz9j8+IuveJsa0MnazvNueshs+SNu/bC6L/X5ZtGlrT+1//3/9kiVps3fhVt137bBuUMYUXXRXVlfvO1t6O/1pWbut1+0302diZMrF+YZ9Omr6Lnn/kPU/6JwzhZ+cp/2rkLLj3NwkLjMw3G65/e/SjaZpttrK//x47faTCG3//Tx3YPzJo+Lzr86AOtLW6cODN65A9PWRvTD+T5m7p6o/CPvepcSyNJx04dbIxT/v/3f/2v6OVlr1v9/u+6632cZbl/4PZ/uzfqtluX3BgE2m7tx5/k2iH5G5JtU6n7KkvfJfk//o//3e6lZ55cZm3/2MI/2osdKKV8tQD9EauaOWT5FEIIIYTIAPPZZsyZWCfotrP5WyxywyqUU24dF8coDO53rLiKIMmnE1ggh9Uq81kEWUWX/FjkiPjk+fFHn9h8S19hl2vnLLjRLH8eB3wFV8gSJw2fI/nIgiXxkfygILhl2K0xvnAKi/6QZ7jlWxQlS1kpF3mh2KI0+LGwb7gWa+Aee3az8yE+z/PHdXmEZMkbayJuu+RfaOGprP3iLqmF2vjJF+fYOKPvvW6kS/oOc2nDuZZYzyhjY7hwzOkWetmBMUxZaAOOU/ZBQw7KtQUr2zI+vR/Y2Kdv8n3ShWupCy8pqNsTdWnzYiBJqfdPY8jaf8XiZOm7JNxLuNcD1/x57Xrr25Asedcq23xbBzurVq2Ktt1pgx0UbY9vPusU9enT8CEsWg7cv+q/5kf90DSonSuP2rQwbVlGwm0QwZa5aqGls63i7YEyhcIrhMhPj66HRbGqmUOWTyGEEEIIkQrz9bB+4j5Y6TmELQ1cWlE8sShK8RSiPKR8CiGEEEKIVHCJxLUR9762zrbttjXFM6ubtRBia6R8CiGEEEKIvOBuy1y+QnMc2wLMs2PeYVtvByEag5RPIYQQQgghhBBVR8qnEEIIIYQQQoiqI+VTCCGEEEIIIUTVkfIphBBCCCGEEKLqSPkUQgghhBBCCFF1pHwKIYQQQgghhKg6FVM+e3Q9LBo54or4lxBCCCGEEEIIsYWCyuesO+abUpnchg0eFS19dkUcKzsop1wvWhZ33nlntOeee0bbbLNN9J3vfCcaNWpU9MUXX8Rn0xk/frzF5Rquffzxx+Mz9Xz44YfR8OHD7Tzbfvvtt1Uc8iAvj3PkkUdGb775Zny2Hn5z3ONkKVtbopy+y3LNvHnzGsSZMmVKfKaesE/CLYyXJU5rorn6gt/etk6+tud4S6e5nlch9AnxCENeeumlXBrJrZapdJtyrbdncsxlyYu0wjit9ZkhhBCtkUyWz+GnHhONGXdOblv78frovNPHR6+9uiaOEUVvr3vGPrwrWhf8yZ933nnR9ttvH91www0mMNxxxx3RKaecEsfYGgSBSZMm2f6gQYOiDz74IBo8eLAJXs5JJ50UzZ8/Pxo3bpyl++WXX24VhzzIq2/fvrYtWbIkOuSQQ3KCCCG/OU4+e+yxR9GytSXK6bss19BHP/vZz6xfaXe4/PLLUwVA0gi3/v37x2e2kCVOS6e5+oKQ32lwv3ibcx9Cp06dLGypNOfzKuSqq66y9iX/NMjH2963WqUabcq1tGeSrGOetP7+978Xff5UA38pH8o/laKaaQshRK2QSfkcMvQn0dnnn5Tbps++zo7fP/sRC0Xr5d5777XwySefjMaOHRtNnz7dBDEUvnzMnDnTBK/33nvPrnvxxRft+AMPPGAh1sqVK1eaIDdx4kRL96GHHrJzy5cvt5A45EFer776qm0IIwh977zzjsV58MEH7feMGTMsn/fff9+EkUJla0uU03dZrvF+fOONNywe/YywSL8nIY1wGzBgQHxmC1nitHSaqy+6detm958L6SFYjrzN/+Vf/sWO8TKnJdNcz6sQFCiUrZEjR8ZHtubQQw/Ntb1vtUo12pT600ZJsuR12223Wfjcc89ZPB/zzz77rB0XQghR25Q153Pf/XpauHnTVxYCb+uScz5vnnK3Hd+/51B7o5dGMk6aay4uvoMGnFY0LVF5NmzYYOEOO+xgIey7774W5nvrj1CBYOvXuDKB6xps3rzZwo4dO1oIe++9t4UuQPD722+/beC25haxTZs2WXjuuedaHEIHoQaKuYS1BcrpuyzXeD96nxH3Rz/6UaowKepprr7AcpSmzCO0szmPPFL/IvHwww+3sKXSXM+rkGnTppkydPbZZ8dHWjbVaFMUy9133932Q7LkxX8Cz/3kmG+KZz4WyamT7rL9Ecdf0kAW2fDlpujacbeYnMKGLPPu2w2ficR3WcbjPP7oc3auUNpCCNGaKEv5dJeQ9h3aWZgGD86Ztz4Q9ez1g+icC4ZHK5a9Hr30wsr4bD1Z4pAXLr6Ay2+v3t3tAb1g7mN2TNQeCF5YIR0XOBrr0vfWW29ZuMsuu1iYxmuvvWb5h8KLqCzej96vQH/T7kl8biGCaHL+m5MljkinlL4oxFNPPWWWqjSFoLVTyecVChJWuiuuuMKeQfxOzlOHP/zhD7n5kLwgaG0vy6r1H5CPV155xcZvtdlxpx2iAQf1tX2mI+3T94e2D2MvmhTNu2+RHR950cnR6jfejUaP/LUppYCSieyy625dclOYOLfy5dV2vlDaQgjRmsikfD628I+mKPo26swJdvyUM4+zMI0lj70QdejY3uaB4qpL2HXXLvHZerLEwbWXOPMX3ZaLg7I6a8aCOIaoNc4//3x7841SwTycI444wo6X69KHQsLiFVdeeaWl7W+8Q8iHhSmYR4Srlqgep512moX0K+1OP9Pf3s8hCIU+54u5ibgkJskSR6RTSl/kAwUJ93XcG9silXxeXX/99RaeeOKJFh544IGpc25x40VZYuOZRd6tiUr/B6SBQutjHvh/qDZdu3WO+h2wj+0zHcm9wLBw8uIchfLqSRdHl4w9K5oy7Ypo3cefRMtfXGVx/vjkMgtd3mFbsHi6xYd8aQshRGsjk/LJ2zze2PnWsVP7aMaciQUfjmtW/8mslJ227xAfieyNX0iWOMuWroq67do5+vD9tWYFZeu5d3d7qIva5NJLLzXhAwvA5MmTTQiBcl367rnnntziFUOGDLEwCQIeC1OwMNFee+0VHxXV4Oijj7b5tyz4QbujPMJxx215GdWnTx9TZnzOF3MSwed0QZY4ojBZ+qIYTzzxhIVHHXWUhW2NSj2vfJ46aeWzILdv395etPz+97+3eexYB7kHUEbTLKQtlUr/B6TxySef2JgnD5Tb733ve/GZpufN1+rXIWjffrucnNKubh/W/+WvFnaNZRtcc3mJz3SipFuuEEK0BTIpn3MfvtlWs12++mGzQsLAQ/tZWG02bdxsSipzIHxDGYZ1a9dbKGoL3M2wPjIv59FHH7VjhQSyYqCYkBaubPlWmOT83/72N7Mk8HZdcz6rC3O2UHhoc6Ddw5U9WZgFi7W7P7u12ud0QZY4ojjF+qIYWN5wk2yNCz1loVLPKz4RApdddpmFaTDGeZ6F/eNzGn1uaWug0v8BaTBeSR/FFuW90Oq71Wbz5q8tvObKmxvIKvCXdZ9aeMY5J5pbrb/MZzrR0EHnmjIqhBBtiZLmfGKhZG4mVkefJF9tUHZ5YKP8JjfcVERt425ohQSyrPgCHmkrTAICD26I4Yq4orrMmjXL2tv7WTQf5fQFrosI76Uoq62Zcp9XtCOeFyj+rMKNOygbYN1Me2HWVqjkf0AaKLTJFXGbGiye4C/qw83dapGfcLnl2MIld1pcV0ZlARVCtCVKXnDohOFHmUJ4y5TZuYn0aTAvkwn3YZyPP2roKpslzgED+2wVRzQdvkBEaElkUR8oZinxxTeSb7xxPYONGzdaCO5y5qvVYhFjMQ63JsCKFSvivXqY40mc0F1t2bL6eTWivL4r5Rri4FKXZmlj8SA2T8f7KFxwJEuc1kJz9kUhnn76aQsHDhxoYUunnHZ2GvO8wgUUUORxBfXNj/kLs7TnmpfP86k1qtGm+ciSV/K5ASyY1ZzsvW/9VI/XV9YvipcGrrb+0r57jz1s2tJxw+o/gfT11/+wUAgh2gIlK5+h9fOhefVzhdIYNOQgc5llKXEeuoTJeZpZ4vzriYdbnJOOudDi8GkWlipvKstrW8cXNOnXr5+9yfdFfcLvBrIYUNqCGfneeON6xtxM5nGSHumecMIJds4/p8LcIFwB+eD4fvvtZ+njcgse5+STT7awd+/edp54pMl1mvdZXt9lucYpZGnjG4cI3aRD+vQRXHjhhRZCljithebsi0IsXLjQwpb+iRWnuZ5XKEa4gCY3IG9coyF8rlEGlCgvn7ud1xrVaNN8ZMnLnxvf//73c22I220Yp5p03uW7FrIYInM7AWWSl+m40/qczjGjro+GDR6Ve3F+1+3zossumJiTd5Blrh03zV7m+/oZaWkj63CNrKNCiNZCyconuPWTh2k+iyQrubHcOPM1eSD3qHsw+zLiTpY4zC1lcaOOHdtZHP80yx57dotjiGrCgiYsjgG8yefNPW+x77//fjsGq1at2srlqdgbb+Y94SqFqxrpIpAtXrw493YbF1o+Iu6LcZAWAmAYh5DfHOc88YjPdT6PsC1TTt9luQaKWdoQtn0hHNInHul630GWOK2F5uyLfHAd+SG0t5b7pbmeV1nx5xptTn4oUaSb7NNaolptmkaWvPy5wadqSJ/nRzJONel/YB+TU55Y9HwDSycutXwi5fFHnzdZBbmGF+y+oOKTL86x83h3uSyDZ9ecBTfaeUhLmwWLWElX1lEhRGthm2/j17P8eWy7U/Mv9MGbwo0bv4qWvKQVL5uSbz7rZKuPipYJ96/6r/lRPzQNaufKozYtTK3ISEII0ZLo0fWwnCeQU5bls5LgUuLW0wVzH7O3hbwNFEIIIYQQQgjRemhW5ZN5D8yB6N/reNOMWaYcl9rRvzwzjiGEEEIIIYQQojXQrMoncz5ZcnzMuHNsY27ngsXTc3MkhBBCCCGEEEK0Dprd7ZZV4lBC2VhcSAghhBBCCCFE66PZlU8hhBBCCCGEEK2fBqvdaqW7tov6v2Wj/qsN1A9Ng9q58qhNC6P2EUKI0tlmm222Wu225j61IpoHfWqlZSPBqDZQPzQNaufKozYtjGQkIYQonZr81IoQQgghhBBCiNaPlE8hhBBCCCGEEFWngdutEEIIIYQQQgjRWPr27as5nyIdzfls2Wi+Vm2gfmga1M6VR21aGMlIQghROprzKYQQQgghhBCiWZDyKYQQQgghhBCi6kj5FEIIIYQQQghRdaR8CiGEEEIIIYSoOlI+hRBCCCFEm+e1V9fEe6XTmGtFNt59+4Now5eb4l9tD+pOG7R0pHwKIYQQQog2DUL9iOMviWbdMT8+kp2lz66wax9/9Ln4iKg0KF6jR/46GnvRpPhI24O6nz7sshavgEv5FEIIIYQQbRaEeYT6rrt2iU4YflR8NDu99tkr6tnrB9G146a1CstUY+DTGiNHXBH/qhwoXus+/iQaM+6c+EhxqlWW5sLr3tIVcCmfQgghhBAZwCqGQJvchg0eZdavSkJ6+/ccaumXY40TDaEd8yki0347uz6c+auo0/YdbL8UuGbm3MlRx07to6mT7oqPilII762kCzMW5ZdeWBndePv4qHuPPeKjbQ/qfvWk0dYWLdnKLuVTCCGEEKIEhp96jFkhfFv78frovNPHV3Te321T51hI+vv0/aHti+ow+pdnRnMW3NgoxQYFFOV1yq3j4iOtC1cOi43xt9c9Y4p4KWB5RmnHesx433GnHeIz9Rx97CHR3IdvtrAUyilLrVNuW9QSUj6FEEIIIUpgyNCfRGeff1Ju+8Pj0+34/bMfsbASrFn9p6hX7+6W/r779YyPimqA4lgJixpplGM5bet8+P5aCwcNOcjGe9dune13iO6BLbT0tpDyKYQQQgjRCFxY3rzpKwsBa861427JuRLi8hnOB3RL0oK5j9k59gcNOM3iuHso7nUcD91ub55yd84dl/hcH+J5cY3H4xrwfHDp5VqPS1nJ14/hRpycu0h6fp50STNc+CRf2sl0+D1m1PV23vNKuhCGZSetpEszv7kuTINrwvJkoVgfQdgunKe92Q/7pFg6WAs5Tpt5POrn9W7s9Rz3Y97XIcXa0/MM45GPtyf5uztxsUWZPC2HfY4VGhekCeTB+dC6WqjsxdrF8woJy0HcZF3SrvE6OPnq5O1F3TwOW9iWDvn6tX59MVfa8BrKTr2T6bYEpHwKIYQQQjSCdWvXW9i+QzsLgUVB5t23yFx0R150crT6jXdttc6ksHjT5FlRj14/sDi4HWI9O27YIDvHAjih2y3C5sxbHzCLKMfhmitv3kqZQGldsez16JwLhkcDDuobDTzkR/GZeiZefXs07JTBVjbiIvhSNj+G1ZXfDvVb8tgL0a671ZfngIF9rBw+VzIkmfaEX06Nz9Snw8I+y5ausvp6Hf70X/8z1y4I2CghYR1xaXZlhTT4vXHjV3aejXaifKVSrI8IKS8L3XCefqK/kmTta9oMKHO3XTtH/Q/sY7/LuZ75pZddMNH6bt1H9QvxcIw4oRJTrD2d5JihPPfc9aCdww2WY0AZy3EDLzQuOAbkQRnd7TZr2fO1axKUVa4H4pIu6Sdf4GQlrFO/A/Yxq7ePGfqQvuQcbXnd+GnxVfVzWMnX7yc2rlv58uo4xtaUcg/WOlI+hRBCCCFK4LGFfzTB2LefHj3Kjp9y5nEWIhwjYCMkXj3p4uiSsWdFU6bVKQl1SszyF1dZHIcFRDjPNnX6VXbM53MhaIZutwibCOjMY+P4/EW3RR06to/m3r3QzjsoYx6HMOmm97sHbrBzlI30UDbHX3tB7hhCM2V1CxSW3QWLp+fSpJyuoCQJ00bwJm1XFp5avDTatHFzNH32dVZf4pEu++6uetft87aqI8yPFYT/qFNc4Tf/NtbOe3lIpxSX1yx9tPr1d6y8xPE+or9CSulr2oM4Xm/KW+711B9QWqh/2FaPLFhiIRRrTyc5Zvg97976/qX/Ua4Al/Ny3D4LjQvSBPIgjnsSZC17WrumgVs89wvpeD154TNrxoI4RmmEdSKE5BjnHPfTE4uez72k+uOTyyz0enm5iZuPUu7BWkfKpxBCCCFECSDwYbnwDWvLjDkTc0L5m6+9Y2H79tuZAsfWrm4f1v/lrxY6O3feMd4rjCuCrgQAQjbWG5SXEJTWQrhwD56elw8odxpeF7bvBWmEhGnv0nVnC7/++h8WYlmDfMoLygiCO2l7PswHREH4cyy479ylvr1m3DLXFH+sSMQrlSx99N67H1kYWvqS/VVKX3t7hJR7vbdhqGglla4s7ekkxwy/ubZSFBoXaZRS9rR2TQOLO/cq6XiaPffubop+OYR1clYsfyPe23K/dOnyXfv9+WdfWNg1bmvccRnDeC64Il4MT5Mt3z1Y60j5FEIIIYQoAVabZCVN37BIDDy0X3w2ijZv/tpCXGKZz+Yb/GXdpxa2JBCMmWMW1qUaFhdXRkg7zAsr2ccf1SsItDOWJBRuFH9cT4nDvM+km2ohKtVHjU2nmmMlS3vWKtUoO8os14fp+Th2q2Rj8XnfYR70LXy6/nMLzzjnxJzVkjGMK/DQQeeaMpqPproHmwIpn0IIIYQQFcQth0klla2Qa12tgoDMfMLlqx/O1QM30Uqz3Xb/ZCFph23GtuSle+0c4M5ox5bdZ22MMopSgctjVirVR41Np5pjJWt71iLVKDsutyh9yfTY0qyY5eDzvtPycHd6LNS4z3Js4ZI7re9dGc1nAW2qe7ApkPIphBBCCFFB9t53LwtfX/mWhZXA3SzddRWw9LGwCYJrtenYsV3euXRZcRffcIEk3GZ9gRwWW0JBCOuYBHdDtxChMNAuJww/yn67FTELWfro+913szCM49Yrp7F9XY2x4mRpz1qlGmVnkR7ul0IWctx6k3FKsaj369/bQsZpPtxdHKgnY9gXGSvkilyJe7AWkPIphBBCCFFBECgRYrFW+LwuPi9SqmtoEnc3ZYVT0jzpmAvNlXDEWUPjGNWBuWVYFr0urLrLYjClcsTggaZQjB092dJgw2322nHTcu0y/LQtK/CSF3nyeQm3CLFoDBYijnGe7ecnX27nCinhrlQQH7L0Ua999rLyEsfLS1lDGtvX1RorTrH2zErnXernLdL+hRSrSlKpsjv/euLhdr9w35Ae/Ul6rggC3xolDisQE4e8GftZ+XGdgsuYGXXmBEufNOhLyu5w7/hKxV4OxhXX5ZsPXal7sBaQ8imEEEIIUWFwq2MVzscffd4UCwRHBNvGWC5wN0UBRYkiTbjmN5c0mG9aDUb/8kyri89RW16nEGBFKhUslXMW3Jj7TATbUcccbMe8Xagj7oTM6yMv2o/4O8UL/bDKJ+exAnGejX0WfEKRy8eFY0630NsNivURIWWzlWDryvpEXbxLrzjbzoU0tq+rMVacYu2ZFT5fgnLPqq3VsNKmUamyO9wnjBMfO/Qpiv8ee3aLY0S2kmw4p5jP65TiWZAc46QBBx+2v4Xw5ItzrL+9XsQjPtflo1L3YC2wzbd1sLNq1apo25022EHR9vjms05Rnz4tcxCL+vtX/df8qB+aBrVz5VGbFkYyknBwGWaBmBtvH5+bwyeESKdH18OiWNXMIcunEEIIIYQQKeDi6W6mrIh629Q5tv8vvf/ZQiFEaUj5FEIIIYQQIgFzLk8fdpl91gILzqADTjWXWKyelVodVYi2hpRPIYQQQgghEjDnkvl5KJvMPWR+LZ93kbutEOUj5VMIIYQQQogUUEBRNlmIZtiIIbJ4CtFIpHwKIYQQQgghhKg6Uj6FEEIIIYQQQlQdKZ9CCCGEEEIIIaqOlE8hhBBCCCFEDlb65TMzQlQaKZ9CCCGEEEKIHNeNn2afmUEJFaKSSPkUQgghhKgwfBdy5Igr4l+iVGbdMd/a8LVX18RHqktr6q/Gth3XP7Ho+ejSK8621X6FqCRSPoUQQgghMuBCfXIbNnhUtPTZFXGs7KDscH1bp1xlqakV1LbAurXro6mT7oqGn3qMfVpG6EVSpZHyKYQQQghRAgjmY8adk9vWfrw+Ou/08Q2UoLfXPRPNnDs5/iVKhe9q0ob77tczPlIZ6COUCRTXkNbUX41pO75jOvfhm6OrJ10cH6k++fqktVHNlyUt6UWMlE8hhBBCiBIYMvQnJuD7Nn32dXb8/tmPWChES6bSCr8QIVI+hRBCCCEagQvrmzd9ZSGkuerdPOVuO75/z6F5rTzJOGmuubj4DhpwWtG0Qlg45tpxt9g1bKQbrmbqlpMFcx/L5UkehdyJcdEkHumGeB3cCkMauCZzjG3MqOvt2kKkWXIef/Q5q6/nuXnz1/GZLXBd2DaUJVw0Z8Txl1iIa2nYP8RP6y/PjzRpmxBvp7A/ku2aj2Q5qY+3Sb50vR60Q6E6prVdsg/YJ154XZgf6XI+SZY4SWgPrxMbdc3SJ2mE7cZGfNrD8WMhnrfj7ZMc66Ws7kv5C91PSegL6gfUN2y3LGkVqnehtGsRKZ9CCCGEEI3Ahfz2HdpZmAYC4cxbH4h69vpBdM4Fw6MVy16PXnphZXy2nixxyAsXX8Dlt1fv7iZ4JhWjJGMvmhTNu2+RuQyPvOjkaPUb70ajR/66gRIAN02eFfWoy584GzdsjsaOnpxXUcRFk7I+/ujz8ZF6nqj73XXXLjml/N8ffDrauPErKy/pspjNz0++3M5lhXpfdsFE2ycdoK1CKOeSx16Idt2ti8U5YGAfizPtt7PjGPUu0zDgoL7RccMG2X4aKHRcS/t6ftdcebMpX0kmXn17NOyUwZY2/TXhl1PjM+mQNn3m5Tz62IOjNW++G33+2RdxjHrCdPsdsI8t/kP+YTtQPsp5z10P2rE0aBfGjPcBG/1DWzlZxlU5Y4/xxaq5jDf6nrowDllN18naJyhbYbuxkf7Kl1fHMUojHOuM4+499ojPFCfr/eTsuNMOVj/gmn36/tD2oVhaxepdKO1aRMqnEEIIIUQJPLbwj6Yo+jbqzAl2/JQzj7MwDQT9Dh3b27xCXHUJUQBCssTBtZc48xfdlouD4DxrxoI4xtZgRUEpQmhlLt8lY8+Kpky7Ilr38SfR8hdXxbHquXrSaDvPxv6mjZuj/1jaME7IiT872uK4UoaiQ7pH1SlUztTpV0VLXrrXyku6lIM4rrRnYelzr1iIizPpUA9XWhyU4QWLp+faj3wRyhHsHVymAWXu6GMPsf00UOi41tOivWn3uXcvjGNs4XcP3NCgTGtW/6mgFSyZNtdR7qS7a5guIZB/sv8trbo08+H995t/G2vXsNE25Omr2WYZV+WMvacWL7XxQb/Vj6mLcy8g/KVG1j7545PLLPR2Y6MOpFkO4VinPbJSyv3kMDapH1Bf7+ssaRWrd760axUpn0IIIYQQJYAygyXCt46d2kcz5kwsKPShkGApCj9dgSUjJEucZXWKRLddO0cfvr/WlDe2nnt3N2E1H2++9o6F7dtvl7umXd0+rP/LXy10du68Y7y3ZT/NvdU5YvBAC59/5mULXdE5YfhRFjoI2Z435SiVt+vaBsI23qXrzvFeQzwftu/VCealwnXgAj3QJ/RN0hINCP+Ol+nrr/9hYZK0tPMRpuuQf3KMeFqedpKdu9T344xb5trLEixpybhZxlU5Y2/F8jfivS390qXLd+130tJbjK7xvYCLKvXghUchJb8Y4VgvhVLup2JkSavS9W5upHwKIYQQQpQAq4Gymujy1Q+bJQgGHtrPwmqDFQkllbldvrllL597rCuPuI2G18Ff1n1qYbmgBB11zMGmmMCDv3/crGGuOOEeyPzCoYPOzeVLOaoBAjnzEMM6hlbPtgpjE2sjiisvS3DbpW3oF3ftzDKuyhp78Tzo8Brv/0/Xf25hVs4458ScJZt64ALMuEIpa0oqeT9lSatW6l0ppHwKIYQQQpQBihdzM7H8hIueVBOUXQRRlN/klmYpA7c0utIcbuW6LIb85MgDrA2wyKCc4IrrPDTvCTu2cMmduTwpRzVwKzQvBTwv3BlFZO6ctMeSZfdZ+6OM0i+4xUKWcVXW2IvnQaddU8jFNg3uN1xPuZbxRD1cKWtKS2Al76csadVKvSuFlE8hhBBCiDLBvRSh/JYps/MuNgJYA1lIJIzz8UcN3RWzxGERnWScYuy9714Wvr7yLQsrTf8D+1gbsDgR/LiujEl2KtPF0WFhGMAt0UmzMnXs2K6BS2o5uGsvCz45tDftjtDfGDztcLEf0saKlaVPyT/Z/17OfG7ftJlbyVASiedu0W55yzKuyhl7/fr3tjDst3Jxl2FgcSDq4QsUuZtz2j1USnmzUMn7KUtaWerdkpDyKYQQQghRJqH1EytfPgYNOcjcFvlEAsIkYXKuXJY4/3ri4RbnpGMutDisnMonGApZXhFYEcqxDPq8MT53ErpdNgbagBVbKRcuuKEVrPMu9fP7WNGTfNmu/MUUO+Z8v/tuFrKgTT4lZeAhP7KQxZ1Ig3q4y6fD/E6seV5H2uau2+fFZ+thZVBA+SvUZu6m6n1Be1O/EWcNjWOUj1sdw36mLoXGj0P+Yf9zrZWzLs180K6kzzjhGjZfbdiV6Szjqpyxx4sIXkzQb8TnOsadK8OQtU/oS1yGvd1I79px0yx9V7z9HvLxRlzaujG4Qkt6UO795PdCOM6zpJWl3mlpE5fPslRC8a8kUj6FEEIIIRqBWz8REvMJn6xQ6UoHgiaWvKQVLUsc5u+xuBEWPuKwyinC6x57dotjpIPbHiux8lkUriMPBPXGWgmdgw/b30JccENwrcT1FeGdfBfcv9gsaCHUiXqyAmo+CxBC9o2313/mg3T+vHb9VgrX6F+eaXVE0SLO8jqlLJkXirG38SMLlsRHtwY3VeJ5ueGa31xSkbm9pE2bYNUmbf8ECv1fDPIP24HyUU7mBeaDlVxJ38cMG/uMI5QfyDKuyhl7tPecBTdaPxCf68DHC2TtkydfnGP96+1GeqRL+o7fQz6/Ne0eKpULx5xuoZcdyrmf8BBIG+fF0spS73xp1yLbfFsHO6tWrYq23WmDHRRtj28+6xT16bO1m4xoGXD/qv+aH/VD06B2rjxq08I0p4yEBQTlhE+VCCFEVrB8oqwyR9QtpE0NltdY1cwhy6cQQgghRI2A26FbT/l4P1aQpPVOCCGygGV69yJeEU2NlE8hhBBCiBoASwVzu/r3Ot4sBnx+AeERd1IhhCgF5oHi0lsp1/pKIeVTCCGEEKIGYL4an1Jgfh4b8+sWLJ5ec8KjEKL2Yb51LT47pHwKIYQQQtQILACDEspWicVthBCilpDyKYQQQgghhBCi6kj5FEIIIYQQQghRdaR8CiGEEEIIIYSoOlI+hRBCCCGEEEJUHSmfQgghhBBCCCGqjpRPIYQQQohmhm988m3P115dEx9pm6gdhGjdFFQ+9QAQcOedd0Z77rlntM0220Tf+c53olGjRkVffPFFfDadxx9/PNpvv/0KXjNv3rwG6U6ZMiU+s4Vi6bz00kt2Lm0Tpfcd7U084tO2zocffhgNHz4817b0CXFDSHf8+PG568k3rU85FsZJptNaKec+ynJNlvsIuI7zRx55ZHykntZ2DzXn8yo5/sOxTXyOp221TjltWqgtIMszhbHq58Mtre3zjW9R+4wccYXJmmzlkkVe5RxxiCuEaD5k+RQFQRg477zzou233z664YYbTFi44447olNOOSWOsTVvvvlmNHjw4GjlypXRoEGDTCBIXoPA+7Of/Sz64IMPLA5cfvnlDYSKLOk4nKd84dbWKbXv6BPa+8svv4yPbOGkk06K5s+fH40bN87SIg5xQwX1pptuiiZNmhQdccQRFgeBM9mn7HOMvqTP6P9kOq2Rcu6jLNdkuY8c+od+u+qqq+IjDWkN91BzPq/YZ/xDobEdti/lZKtlymnTLG2R5ZnihG3G1r9///jMFoqN75YA3/V8e90z0b779YyP1CaVVOKWPrsieumFldFRxxwcjRl3jh1rKe0ghCgPKZ+iIPfee6+FTz75ZDR27Nho+vTpJjQsWbLEjqfh52bMmGHXvf/++yaAcJy33fDAAw9Y+MYbb1ic9957z4SbmTNn2nHIko5z6KGHWvnCra1Tat+1b9/e2hrhLgThHMEcIXHixImW1kMPPWTnli9fbiEgkPbt29csRMQhX/r02WefjWNE0eTJk6M99tgjWrFihZ1/8cUX7XiYTmuknPsoyzVZ7iPgfkEZ4P4ZMGBAfLQhreEeas7nFfuMbc4Rx8e2X+t425544ommLPGyppYpp02LtUXWZ4rjbeZbcgxnGd+iNnnv3Y8sPOXM40zpFEK0fiqifPLmatjgUTm3iTGjro/WrV0fn60nGYd93ppt+HKTnSe8dtwt0f49h9p5QtJJulDcPOXuXJxBA06LFsx9LD4jqsGGDRss3GGHHSyEfffd18K0N9SwceNGC88991wLAcEWPvnkEwtdqNt7770tJP0f/ehH9obcyZKOyE+pfUdfhG3tbN682cKOHTtaCN5voWKJIB3mBfRpKKT+/e9/N+He47mg6H3dWinnPspyTZb7CG688UYLW7JVKAvN+bxiH2u/5+1j269Fafr2229tH55++mkLjzvuOAtrlXLatFhbZH2mZKUpx7e7iCLTIIOwzzFkmHff/iB3DBmH3yHIPH4eOQZ5xmUgSHMdDa/xvB5/9Ln47Na4VZK0kak8L7/GZa0wvWQ5i8lrI46/xMKpk+6y650saYdQVtIA0uQaSGuHLHImvF+nzJIvcWi3Qvk7xPFr2KhD2C9CiMpSEeXz3x98uu4P/CtzmRh50cnRE4uej35+8uXx2cgeEOedPj4Xh63rrl2iJY+9EMeIomm/nR3Nu29RdPSx9a4Xw087Jlqz+k/Rp+s/j2PUK54zb30g6tW7e84945orb7aHkqgdunXrZiHzhBwECiwFLoR06tTJQhdGAKWEOE6WdJw//OEP5i7HfCDcworNRxK1ARYQ8L4WpZHlPuIcVuliVqG2eg9V6nnFPsccj+vXJnnuuXplACW2tVFqWxTD536i0OJZEZJ1fFeaiVffHg07ZXA0/NRjzG0U5WX0yF/njiG/8NtBDkLm2XW3Lia/HDCwj8kzyD75QGFEOfNr2FCKVr68Oo6RH9IGrum2a+eo/4F97PfYiyaZrEUZkddWv/GuldOVrSzyGtfCgIP6RscNq3dDh2JpJ9lxpx0sDeAa8spHMTnTuWnyrKhHrx9YnHUffxKdPuyygook54hDWbmGclCH68ZPi2MIISpNRZTPqdOvipa8dK+5TFwy9ix7OHDT+1ur/1i6ysLf/NtYi8PGNQsWT486bd/Bzj3+6PP2ELp60sW5dEjz6GMPsfPAw5Q4M+dOtjjzF90WdejYPpp798I4hqgFsCAgCDBPCKEBgeGVV14xdy3ntNNOsxCXM+YHEY+35aELWpZ0HFy4cPNiYx6RFp2obbCY0O8nnHCCuerigihKJ8t95FYh7h0X4JnHl6St3kOVel6df/75doxzxPFzhxyy5T8shDZm7O++++7xkdZDqW1RDPqDPiJN5t6G4zfr+K40v3vgBpNDkFmQS1A2x197Qe6YKz8uB3Xt1tlkHpdfkIG4DkUnH398cpmFfg0baZB+MVCiXJ5yWQsLH4oyMhrnkLOmTLvCyrn8xXo5LYu8NmToTyzsd8A+ORktS9pJaBPSANIkr3wUkzOdqyeNtvMeZ9PGzdHq19+Jz27NU4uXWpzps6+za7zvUG7TLKtCiMZTsTmfPHh4CLC1b79dfLSenbvsaOGMW+aaOwVv85IPDN7M8eYJ6yZxOB/e+B7fH1TAgxArKA88UTtgMfG33rhcIjDgkrl27Vo7BkcffbTNLcQNk4U7EBwgdEHLkg7zFBFKfv/730evvvqqxWc+EoK0W9VE7cG8LvqdPv3pT3/awKVPZCfLfeSWIpRKlB3afMSIETlrVFu/hyr1vLr00ksjlC7SYG4z6cDhhx9uYYgrR4z91kgpbVGIPn362Fj0uaPMuQWfhwrFxne1QHFyXC5pF8g+STnIcTmJ7XtBGml03a2LhbiBIhfh5ZXFjRR26bpzvLeFN1+rV8Iom5fBy7z+L3+1MIu8lkaWtBtLITnT2blzfflhn74/tNDnlaaxYnn9mAJPu0uX79rvzz+TB5UQ1aDRyicuC/jhDx10rvnss+EKGzLw0H72JgklEReSyy6YaPG4zt0hrvvtmKhjp/Zm3SQO5wcdcGpunoJoOUyYMMEEABbwYI7T3/72NxMgENpCYZY5UAhznAeEB9z9nCzpME8IoSS8zucj+bwiUXv4/DcWIqE/sY6I8ih0H3GfoEhx36BYsqFEccznHLb1e6hSzyteoGAtJY1HH33UjqGApVk2H3usfq0ClP7WSCltUQgWI0K59JdTPi/U56FmGd+1AooTcy9dTmIrZPWEM845MWcdRS7CHRZZC2W0HDZv/tpCZLSwHPCXdZ9amEVeSyNL2uWSRc4sl82bvrIwLLOnHU77EkJUjkYrnw/Ne8LcTRYuudOWxmab+/DWDwXcGTi3ZNl9dp6HG9fh8gDde+xhLhV+/Yw5E22ewbXj5Hff0uCNM2+gfQEPBIcLL7zQ9nkTnmTWrFkmLFx//fXxkXpKTUe0PJijRR+Xs8iIaEjafeTKoyuT4J+paO2LPGWlUs+rED932WWXWZjkqaeeMuXVlanWTLG2aAwtaXyjyPGCffnqh3OyEm6hhcC7C5db4iJjIRu5MprVAhri1kLS8TL4FrryFpPX0siadjlklTPLoX2HdhaG5fUtnPYlhKgcFXO73SlwdUiCG4O/qcNVhW83nTD8KPvtb8tYucwfppzn7RsT8vHF92OwYtnrFgJvw3DV5WEsqoMvEBEuPvLaa69ZWGhxBywJodXAl89PLixDuv75jdCK4BRLh7fizPMJFwvx8uFO2JYpt++SeDuGwpz3ia8KCiwyEuYFPlcLEPJ9MRuH+Lh3tnbK6YtSriFO2n3UpUu9255fB2+99ZaFrfEeau7nFTCfGaU1n6WPfMgvnC9ayzTmOZKvLbI+U5i/yeZ5exwvU5bxXUt07NguN28yC+72CrygRw7yBX6+/vofFpbC3vvuZeHrK+vbKI0s8loaWdJuLIXkTCe0VnpZvt99NwvT6Ne/t4XUWwjRNGRSPh9b+Ed7CCY35mR23qXeN55Vzvz4lb9o6EJ3/+xH7E0dy157HF+lDMURpZPJ3e5OwnlCruHDw467grCqHHFOOuZCU05HnDU0jiEqjS+00a9fP3ONHDVqlC2UEbqLjR8/vsHiJGeccYZZBnr37m3H99tvP3NhQzlJzvkpZEXIkg4hv8PFQrx8bcGqUIhy+i4N2hHLEN/RIw3SYqEgCD/2joCJIkl6xCGk/1yYRPgkb8pAP3H++9//vp0LBc7WSDl9keUaJ999FLY59w8b90prvYea83nlFLP0uTV1yJAhFtY6jXmO5GuLrM+UkSNHmqJO3qRPH4FbprOM71qB+Z1Y71zGYX2Lu25vuHJvEs7j9uoyT/3nU6bZQov+Qr4UUGB79vqBWWG9HLz4D11qi8lrwCq1wAq4oXJcLO1yySJnOrQP7cRGWWirXvvUK8a771n/QiIs948H9rE4o86ckFtzhDJTB4fj9IEQojJkUj59vkFyYzI2bgm4jmCB5NiC+xebxTKEVcqIw1s/v5Z9XGt5YLHhToGiyaq3nCdktbYJE0fHqdS7gqCAel5wzW8uMSupqA4stMFCJIBAhpUEJeP++++3Y7Bq1aoG7mlYBLgG4YLjKCTMySH0uTtQzIqQJR1CPlmAAEIcBBXihOVrq5TTd/lgTiDtyicNXDBfvHhxA8sH87P4aDzWTuKwiAvzr5gr55A3ZWDuHPnyaY9knNZIOX2R5Roodh95m3PfsHGvcM+0xnuoOZ9XUMzqCXzSBihrS6Dc50ixtsjyTOG54As9kRZtT1nCOMXGd60w+pdn5j7jgfyy/IWVW8lKSZ58cY5d8/FHn9g1rInBNXMW1K/wWw648ZKmy1ooxIOGHJSzyBaT1wCLqLviPrJgS78XS7tcssiZzqVXnB09UZc/bcXULdrK8ycknbDc1IU4pOdrjsDBh+1vIbxdF18LWwpRObb5lhUB6uDPY9ud6ifxi7bHN591spUFRcuE+1f91/yoH5oGtXPlUZsWRjKSEEKUTo+uh9nicyEVm/MphBBCCCGEEELkQ8qnEEIIIYQQQoiqI+VTCCGEEEIIIUTVkfIphBBCCCGEEKLqSPkUQgghhBBCCFF1pHwKIYQQQgghhKg6Uj6FEEIIIYQQQlQdKZ9CCCGEEEIIIarONt/GX/7kA8pCCCGEEEIIIURj6du3bxSrmjkaKJ/b7rTBDoq2xzefdYr69OkT/xItDe5f9V/zo35oGtTOlUdtWhjJSEIIUTo9uh62lfIpt1shhBBCCCGEEFVHyqcQQgghhBBCiKoj5VMIIYQQQgghRNWR8imEEEIIIYQQoupI+RRCCCGEEDXPu29/EG34clP8SwgR8tqra+K92kbKpxBCCCGEqGlQOk8fdlk09qJJ8REhhLNg7mPRiOMvaREKqJRPIYQQQghR03TavkN09aTR0UsvrIxm3TE/Plo5Ro64wj4LIcoDpYf2q0bfpNGa+quxbcf111x5c3TUMQdH++7XMz5au0j5FEIIIYTICBa4a8fdEu3fc6gJjIMGnGZWh7ZGVoGZOCgKleDoYw+Jhp96TDR10l3RurXr46P58TImN/qsHEGfa7iedNsy5SpL5V4nCnPlL6ZEPXv9IJowcXR8pLaR8imEEEIIkREUqXn3LYo6dmofDTiob7Rxw2azOkigbhqunnRxNPfhm6Ou3TrHR4pDP40Zd05u69ixnSmwYZ/NnDs5envdM/EvUSpY3Gi/s88/KT5SOVBYky8wWlN/Nbbtps38lbUH3gEtASmfQgghhBAZePzR56I1q/9k1rclL91rAt+TL84xq0NWa5xoPKW6FvY7YB8T7H2j3zp0bB/ddfu8OIYQLZfuPfZoMYonSPkUQgghhMjAH59cZuGZ5w2zEBD6Lhxzuu0/tXiphcDKrMMGjzKrDduYUdc3UE7dBfHmKXebGy/7uPKi4ALH/Rj7IRzHEoTlzt1/k3HInzw5x0ZZQnfRYvkXu97ZvPnr1OsL4a7LnjZ1Ib9CVNLdmT7r1bt7tGnj5vhI+hxC6uL5kTd1TZKM4/0WthV18/Q9XpZVe8P+pb5Ln10Rn8nff8Us8KTDFkK6XO/XZu37EC9PmD/pkBfHqf/7734Un9kCeRe6T7gOmOvLeSdff3l+tAVtE7YzZeMc48avT7ZrPtLK6W2SL10f04SF6pjWdsn82Od8WJ8s4ypLnKZGyqcQQgghRAY2b/rKwqTL58BD+zVwm0OwZGXWtR+vj0ZedLJZSp9Y9Hw05vzr7HzIzFsfsNDcQTu1jy67YKIJi+s++iR3jDhJpQ5hfMWy16NzLhhullfihMLrm6+9Ey1busryJx3KwmqYSetsmH+3XTtH/Q/sY7/LuR4ofzFFhRVrcV2mXUh/9RvvRqNH/rqgUPzh+2vr2uD56OhjD65vl47tzN05i7KbhHzIE+tnPqgDdQGvm9fVyRKHvBgL5OdjgbpfN35aHCMd+hJrOkqyp33e6eNzCo0Ttj9jhWsKKVNH1bXfuo8/aZDO88+8bOERgwdamLXvC+H1Ji/S6VE3Rm+aPCs+u4V/f/DpaOPGrywf4nGf/Pzky+OzUXTcsEEWdt21S64d0qDOYV/QbrTNPXc9aMdCKAflIT/c5seOnlywbqRN24flpF5JZTpMl3sSi2QpzwKHa8L82Kj/ksdeiGNkG1fljr1qI+VTCCGEEKKCYAHFqjZ99nXRJWPPsnmKCJC47CYVMwRCzqO4/ubfxtoxhMap06+yY/MX3WbHHlmwxEIHYRT30dCNNBROh40YEr28ZqHlTxzKAqF1FsL8FyyennPfK+d6j7P0uVcsTAOlB8WZ9uA60p8yrU7ZrhPml7+4Ko61NbjaUh7Py+ucbJc0UNJR5nxDuad/UNzz4XWgTuRHvtQ1JEuctLGAIoACUkjhwSWYuarexz4O5iesvWH7/+6BG+wYCl0+jhpykIVPBGMFRRNlyV+qZO37Qqx+/R2rN/1MOvV133pBHMY5LuzkQxziMxb8PmGRKdh1ty4WJx9z715o44F2Ih7tZu2XeBkAlCMsE+X8j7o2yEcyba7jXqGdQsJ0qReU8ixwvCw8D8iPjfTC+zPLuCp37FUbKZ9CCCGEEBUEZQfCuYn79P2hha+vfMtCZ5euO8d7W+KH87fC/RCEccfdSBFoQxAwEXDzCbkQ5p+k1Ou9/G8nyhGCVQ3at98ul3a7un1Y/5e/WpgPlHK/BksoltosoOxiEfQNKxQKQCFlxusQ9mGyrbLEWbH8jXiv3lLK1qXLd+335599YWESFHSUhu/VKYNhfVEQ/5xQGsL8XHl0C30aWONI54lHn7ff5IWyd8a5P7XfTpa+L8R7sVXQxz3s3HnHeK8hlMHzYlyUA33MPRDeL8z1hWQdwnL4fppLtZOWdhpp9SvlWeDs3KU+nRm3zLWXJVj3k3XIMq7KGXtNgZRPIYQQQohWBnO7Bh1wqrlL+lYKjb0+Hy7k4zKbTPsv6z61MA0E8P69jm9wTVLZzgeKJm7RbFjDUOzcxbTauCIYlpu6w6frP7cwyddf/8NCXCTD66jvxx99Yucaw4k/O9oUThRMt4C6uzVUq++T8DKBuYxDB52by8fbpi2DGz8WSn9pgjsxbUNb0WaQZVyVM/aaAimfQgghhBAZaN+hnYVJlzXmhLGYB1aKWgALB4rLNb+5JKd0sWWlsdcXwi1bfC4lTJsNt8B8IIDzEf0wPopkqZx38QgLZ89YYGG18TETlts3dylNst12/2RhqDT7hotqY/nxwHpFE/dOLKC0q1v1qtn3SR6a94Qp1AuX3JnLh3EhInOTpT2WLLvP2gRllLZy1+cs46qcsdcUSPkUQgghhMjAT448wMJQccEScdvUObbv1rQ0dz93sQvdEBtDaAGjDCwqgjtliLvvlUuW60NrpdeXRVfysfe+e1mYz+WwEF0DV+Nywf0RpRUFK1x0J4nXIezDpGU2S5x+/XtbGMYpBq6xzDF0l81Kg3subcACOVhAfVyHNHbsfL/7bhaG/ZzP2rZTHnfcUqA+3ANuGYQ0l9dyIG2skGHarKRbaPw45TwLiIv1Gegryn/C8KPst3sOZBlX5Yy9pkDKpxBCCCFEBrAWoOChuPApBRauOfLA080igZXK59yhhKI8jDpzQu5TGLjPcW1jBWEHpYH8wwV0BsWLyey40w4WTrz69gaL7GSllOtpC+pHHOoLAw/5kYVAnVEKOA8+55D28Ov49EToUpgGCyzNu3eRtSfXcC0KQTm49ZMy5MPrQJ08P+oakiUOVsZwLBCPuhK3EMNPO8bq531M/PDzHY2FVWQZM5QttIJl6fvd9+xmIQtc5VttuNc+e1natDH1rr8PGq6y2nmX+vmHrH7seV35iyl2LIS+D8dQGiPOGmr1OemYC3Nltva76OQ4RvmQNnjajFcWMio0fpxyngX3z34k94zxdvEVgN3an2VcZYlDO+G10ZRI+RRCCCGEyAiraLLCKJ9oQLjl8xY33j6+weI1KKFzFtxoC+IgpCJI4to49Y565awSIIRieUOQRflFyPYykP+MOfWfneA8K6cWskYmKeV68mURHBfEaYtQqPZvoPp58Dbk0ylefhTnQgu6TJv5q9znM7iG9keALwfK59asfFYh4lAXID/qmFRkssTxsXBAnSIQKiwHH7a/hfnA7ZIXGli4uYa2Io1KWAnB53jy6ZqQLH1PP1E2+i3fasPEod62KnNdvXHvvfSKs+Oz9aD0kg6KJXktuH+x1THJxWPPtNDbLg3mSYZ9QZr0xRnnnGjHGgNp0yZ83oe0WR2Y8Tvl1nFxjPyU8yxgZVvaxfNjY58y8PIGsoyrcsdetdnm2zrYWbVqVbTtThvsoGh7fPNZp6hPn61veNEy4P5V/zU/6oemQe1cedSmhak1GQlLBcoTSpyoLbAwIegzVw/hX4haxi3EzAOtBjyrYlUzhyyfQgghhBBClAGLTfkCVFhRcQ3G2ifFU7QUkt+mrTZSPoUQQgghhCgRlM3zTh9vnyXBwsOnLAAXYSFaAocdOaDgKtPVQMqnEEIIIUQLgvlgLBgjmhfmfOJey2dJ6BPmHD754pzcvDwhap1hI4bEe02HlE8hhBBCiBYECws153f6xBZwr0WA9z4ptGiSEELKpxBCCCGEEEKIJkDKpxBCCCGEEEKIqiPlUwghhBBCCCFE1ZHyKYQQQgghRAJWsy2HDV9uit59+4P4l2guyu0/UV2kfAohhBBCCBGwYO5j9umUchQYPtw/4ZdTTQkVzQPKP/0364758RFRK0j5FEIIIYRoZhCS+VZkU1lrmjq/lgRtcs2VN0dHHXOwfU6lVM4496fRmtV/iqb9dnZ8RDQlKP2nD7ss6rprl+iE4UfFRwtDn3M/SFmtPlI+hRBCCCFaCQjQyW3/nkOja8fdUrIlrrUK5MUU7yt/MSXq2esH0YSJo+MjpcEnV/j257z7Fkm5bwZc6Z8281f69E0NIuVTCCGEEKKZ4TuRb697pixLWxIsPmPGnZPbDhjYxxShsRdNimNUNr9aAqUSt9fGgNIyc+7kRikufPtz7sM3t7r2dSrRztVi9C/PjOYsuDHq3mOP+Ehx6CfuB+4LUV2kfAohhBBCtCJ23a2LCdG+TZ1+VTTgoL7RSy+s1EI4GUBpqYTFrLUqnrUOfVeK4imaFimfQgghhBAZwNKDxWfpsyuiQQNOy1l/fHVTPzZs8KitlDxcPf08brA3T7m7gRtsmitoeI3n9fijz8VnS6PfAftY+PXX/7AwLb+wDuT1/rsfxWe2kIzDwjzsk55DvXDz5bjHy6L0kgZtwzXkQTuHkMaYUdfn0iUO+axbu97Okw+gZHO+VEifNDz9NFdl+o1zlJPyevyQcHx4vBC/Jm0cQbFyFLo+7J+0cVgsbR8X9KvHI72wLzgOWdqZ6yiH58c+eXienl84DtnnmLeb/6btfVzRrsl7gTT9PBvlDOtfKJ1kng6/C41JzyfE283x3/n6O0m59UiWvVaR8imEEEIIUQITr749GnbK4Gj4qceYAI5wOHrkr3PHWGyG3w7K0ZLHXjCLpLvBzrz1gYIL0iAQT510V+4aNoTSlS+vjmOUxoplr1u43Xb/ZGES0maRlnUffxKNvOjkqEevH0Q3TZ4Vn60nSxzAvRc3X9qCeKvfeNfaI5+wDQjO1LdX7+5WVzjv9PENhG7SWLZ0laXp7cjvb776xs4fN2yQhe52XApeN8pK+pSdOlw3floco76M9BvzQc+5YLi1Kf0fgmJAuYEyUB/qhTKXJBxHvBzAYpelHE6p47CUtOlX+pd4GzdsjsaOnpxT8rO2M/Fpi40bv7J4bFzDvVAOtD14npddMNHa28k67sJ0uu3aOep/YB/7nSTLmCyFtP5Oo5x6dOzU3sqaVI5rESmfQgghhBAl8LsHbjB31qsnXWzurAj546+9IHcMgREFzQXjrt06RwsWT7d5hKEbLAJmPv745DIL/Ro20iD9Ynz80ScmOPuGtRDlhDzzuSOufv2daNPGzSbIXjL2LNuuntRwwZ0scRDMyYs4lJU4U6ZdYe2x/MVVcaytuev2eVY+r+/8RbfZ8fmx0ka6pIHSR5re1kteujdXJxb6AXc7LoWnFi+1uk2ffV1cr/p+fGLR8zmlC6WpQ8f2uTISokyF3D/7EYtD+T0OyuqsGQviGFsIx5GXN0s5nFLHYSlp06/EqY832q77jzpFH7K2s8f/zb+NtXhsjH3GcTluzShj3lbUAZY+94qFpYy7MJ1CZSk2Jkslrb+TlFsP0oZ/f/BpC2sZKZ9CCCGEECWAMum4O2u79ttZCO2D/RCUAN++F6SRRtc6wR5wq0OBxKKR1eKCoIoVxDeUCwTVKbeOi2NszXuxi+0+fX9oIezcecd4r54scd587R0LaQOvq7fN+r/81cIk1Avlhjbxaz58f60pbX+OlaKd4nwW3L/Y2gNLIvGS1qByWbH8jXhvSz916fJd+/35Z19YiHKHFSxUVlDAQrDEYk2j/J5Oz727W58kCceRk6UcTqnjsJS0w371/c2bv7YwKzt3qb9uxi1zrc/cvbVcdum6c7y3ZT7t23V9AqWMuzCdfGQZk6WS1t9Jyq2Hp71501cW1jJSPoUQQgghqgiCLHOy+Oi9b4WsnnDGOSfmrKMokLj7DR10rimjxeA6Vu5kw4ICfffvVZa1qVRcQeE7mWF94S/rPrUwic9Dpa7hNSh7WHGBst94+3hzAaU9PP0jDzw9s1JeCBfaw/zJAz5d/7mFWUBhodxhOt7XSetiGpUqRxrVTDuNgYf2M8sqljz6DDdZ8mTeZ6VeGjjljLtCZBmT1aDS9ahFpHwKIYQQQlQRBG/mZC1f/fBWSmE+ULZw9yPuwiV32mc7XBktRdniI/u4gd4yJf/80kri1jbK63X1DRfBNHweKm2SvAa3Wgd3z5fXLLR2JH2UUZS9mbf9Po5RPu07tLMwmT+bu5lmgbYOlf9wy2L5qlQ50qhm2vnAbZT0lyy7z/oMZRQFDhfgSlLOuCtE1jFZaSpdj1pEyqcQQgghRJXp2LFdSZZHd1ME5jTiZugLvbhVJgvkyTxJ3D7TFr1xvt99NwtfX/mWhZC0hmWJs/e+e1kYxikG9UNp80WR0sBS5iuEUifaA4WJOZeVcDXs17+3hbg55gOXSxZ/Ca12SSsYiyAl45RClnKUSzXTToN83FKP4k2f8TIE3MKXNqa+yuPeG1r+vA4sigTljLtCZBmTkDYmyu17qHQ9ahEpn0IIIYQQVYR5Y1h7fP4mn0hgMZNCcB43RRQuv+bacdNMIC71+5Fu/WQF03yCca999rI4WGnJy/MLyRIHoR2BnDheXxY8KuZqOfy0LSu2cg3X8lkKt/JiKeM8brbkSxziolQfduQAiwMooygDnM+HKzwsDuRKzI/rlEbqNurMCbn0KXPo5jxoyEFmafUyev4h/3ri4RbnpGMutDikRT2SnwXJR5ZylEsl087SzrQvlnrqTzy2n598uZ3DOgw+phjvlImNlXXTIC0fU9QBBh7yIwvLHXeFKDYmwccEK9QSh7jc6+VSjXrUGlI+hRBCCCGqyOhfnmkL/iA8I1QurxNosZAV4skX59g1WNa4hs8qcM2cBTfGMbLj1k+E5IfmPREfbQhxSBulgryeePT56NIrzo7P1pMlDuAuTNkfrztP2RHGEdK5Ph+4Z+Li6PXlWurrCw0NGzEkmjFnoi34Q97EIS7XcM65eOyZFnI+H8xFRPlhISa3MGGZo27k6enDwYftbyGwqqi7jXIeq5srUQ5pU04s3cQhLZSJPfbsFscoTJZylEsl087SzqxsS/94W7CxT/ugZIGPKdzSKVO+MQW0PYv9eJ64XYcvYsoZd4UoNibBx4TPa00bE6VS6XrUGtt8Wwc7q1atirbdaYMdFG2Pbz7rFPXpU/iPUNQu3L/qv+ZH/dA0qJ0rj9q0MJKR8sMqvCyGhCJQrXmDtQwWKb5jWc15gG0drNMsuoMimO8TJaI26dH1sChWNXPI8imEEEIIITKBy6G7qrJ6621T59j+v/T+ZwtbO7jPuvsjc2ixSmENE0JkQ8qnEEIIIYQoCkrX6cMuMysUFo1BB5xqyhdWzywrubZ0mH/HPNz+vY63+vM5DFxqcasWQmRDbrfCkNtty0Yuc7WB+qFpUDtXHrVpYSQjbQEFdPmLq+yD93wWgkVs2oLi6WD5ZX4fsHARczxFdcHCzoJT+/T9YcmLbYnmJc3tVsqnMKR8tmwkONYG6oemQe1cedSmhZGMJIQQpaM5n0IIIYQQQgghmgUpn0IIIYQQQgghqo6UTyGEEEIIIYQQVUfKpxBCCCFElWCBHhapqQT+iRMhhGipSPkUQgghhKgS142fZp8n8W9DlgvflOQTJ1JAhRAtmRapfLJy0sgRV8S/hBBCCCFqD74L+cSi56NLrzg76rR9h/ho6aBw8k3Jo445uOqfmkC+Qs5qCpoyLyFEbVBQ+eShyUMh3+Zv31riw4My799zqH07KInXW28X67nzzjujPffcM9pmm22i73znO9GoUaOiL774Ij6bzvjx4y0u13Dt448/Hp+p58MPP4yGDx9u59n222+/reKQB3kVijNv3rwGZZsyZUp8RkA5fZflmmLtfuSRR9q55BbGI81wDHDNm2++GZ9tfTRXXxC/2H3E71LLVqs01/MqhD4hHmEI45trOdeSnlXN1abkUewZwe8wDvu18hxBvpg66a5o+KnHRMNGDImPlseVv5gS9ez1g2jCxNHxkcogeUcI0dRksnzy4Bwz7pytth132iGOUR14GPJQ5OEY8va6Z6KZcyfHv8pn08bN0XXjbol/NY58ZW3pIAycd9550fbbbx/dcMMN9sd+xx13RKecckocY2sQqiZNmmT7gwYNij744INo8ODB0UsvvWTH4KSTTormz58fjRs3ztL98ssvt4qDoEFe559/vsXxdBBagLg/+9nP7Dj5wOWXX96ihLpqUk7fZbmmlHYnjXDr379/fCayNBkDe+yxR9S3b99oyZIl0SGHHNJilZ5CNGdfFLuPyIffwPkjjjjC4k+YMMGOtSTKaedKPa9CrrrqKhvX5B/Su3fvaOXK+o/TtxSas02LPSMITzjhBIvDeTb2a+U50rVb52juwzdHV0+6OD5SPtNm/srknsZYT7NCPshZlSbNUFGtvIQQtUsm5XPI0J9EZ59/0lYbD9aWzksvrIwef/S5+JdIcu+991r45JNPRmPHjo2mT59uQgNCQD5mzpxpwsJ7771n17344ot2/IEHHrCQt9IIYAgdEydOtHQfeughO7d8+XILwzjkSZy5c+fauQcffNBCT++NN96wfMgPAYn8RXl9l+WaUtqdNMJtwIABdhzFhzRJ+/33349effXVnAD69NNPW5zWRHP1RZb7yPNZsWKFncdahxCPgtHSKKedK/G8CkFZQ9kaOXJkfGQLpLF48eL4V8ugudo0yzPinXfesbYmDudr8TlSKRfZ7j32aBLFUwghqk3V5nyystuYUdfbWy62YYNHbeXWkYwzaMBp0bXjbsm5wjKxHnBb4Y2ZQ9zwNyx9doXl4WmRbhY3kq67dqnLc1rRhQAoq7+1Y6Oc4TX5ytrS2bBhg4U77LDFyr3vvvtamO+tP8IAblZ+TahwwObNmy3s2LGjhbD33ntb+Oyzz1rI72+//dYEE6dDh4Z/vJ6eX0t+P/rRjyx/UV7fZbmmEu3+ySefWOhpg1tF165da2Frorn6Ist9hLJJnDCfcL8l0VzPq5Bp06bZC4Czzz47PrIF+iHZ/rVOc7VplmfEpk31/8EXXnihhdAUz5Gbp9xtcgBTd/B2SrPoIZMg04TxQvyaMB7HkqviFpM93G2WxYg8Hul5OpwPy0HZi8k7afUJ02EjTvjiPinPJWU+rudlP3Dez6XlRVpJeS6cIpWvzrSlEKL2qZry+eZr70TLlq6KRl50srnorv14vSlo4QNk9MhfN4hzwMA+9vubr76x87j7woCD+kbHDat3KUuDB855p4+PNm78ytIhvXUffxK9/+5HcYz8/Obfxta7346fFh/ZGh7UrFS3+o13LW3KNe++RQ2uyVrWtgCCF2+qHRc4OnXqZGG53HbbbRa6cOHpefpAvuQvqkcp7e5zPxFEw/lv7du3t/Cjj7bco3/+858tDAVSUZhy7oHkfZQEqxQWJ3fjbe1U8nmFMkbbXXHFFaZ48Zv2bGtUok2zPCN22WUXC31Mg1tOqzV+UXxm3vqAzb8854Lh0Yplr+eUKgfFCpkEkEl69e5uL6ZRlpJMvPr2aNgpg02GIJ0Jv5wan8kmezg3TZ4V9agrE/EoG5ZS5K0lj70Q7bpbl5yMRdmn/XZ2fFU2UDIpv6fDRtlWvrw6jlFc5tun7w/tZT9wPt+0LeJTZ673OrNg05jzr4tjbCGs88YNm6Oxoyc3kDGFELVJJuXzsYV/tAduuBW7wZlc//KahdElY88yF93ps+sfHE8tXmohb7ZQEHl4exzmRSx56V57aALuvtDvgH2io489xPbTmHv3wqhDx/bR/EW3WTqkt2Dx9EwT/HGJ4cHFwy2fpZQyo6BSB9KmnH6Nt0PWsrYFmFvGm28UD+b+MIcMmIdTLiguzOVBoPC36KeddpqFpE8+5Ee+np+oDqW0+yuvvJKb88XcRFwSASuHu3ayeAmLkxDC/vvvb6EoTqn3QNp9FMI8uZ///Oe2z7zFtkAln1fXX3+9hSeeeKKFBx54oM3BbWtUok2zPCOIg5stY5oFi9hob9x53ZJaaVDmkDeYq4i8QehKlXP/7EcayCTEQSGcNWNBHGMLv3vghpz8g6K1ZvWfclbLLLKHc/Wk0RaHber0+nuXqVHIQl5WjvOCHAW2FP745DILPR020g3nshaT+ZC1UF6B8/mmbaXVGWWVdknKaGGd2ee6/6hTgIUQtU0m5ZMHFW+9wu3zz4pP5ufhyMMiTanbqfOOFi64f7Eps7wRJF4xd5A0eFvIm8Vy50Occc6J9ufBanJp+a9Y/ka8V/9Gk61Ll+/a7yzt0Na49NJLI4QPLACTJ082IQQOP/xwC0sFywFCB2/T77///vhoFB199NEmePz97383gQNFB4477jgLRXXI0u59+vSxeVg+54s5ieDzx+B3v/udKUEIl2zM02KeWLWExtZIKfdAvvsohEWGmItHmmnKaWukUs8rtxiT1u677x4fbZtUqk2zPCNee+01Cxm3bLBqVfUUEJSgpLzhSpWDBbDbrp2jD99fm5MZeu7d3V64JwmVsF267mzh11//w8JSZI+dY5kqDb+W7XtlrNXRNa4fLr/Ia3ibuYIcUkjmywqWZAjnymI1hddXvmWhE9bZ9zdv/tpCIUTtkkn5ZLU2ViMLt2KT6HlIDTrgVHO78C2EB/eNt483VwmUWb5fRZwjDzw99aFWTSgL7rf8Mdxz14Px0S1s3vSVhWFdKC98uv5zC8UWcDdjUQrmkT366KN2rFyBzC0xCB2kFc47AhaqQPD+29/+Zr8RTJIrTIrKU6zdmduGlc37y4VFnz8GHEMxZZzgpghuORLZyXIPFLuPgP5CwEfYJ822QqWeV3yOBC677DIL2zKVatNizwi35JM24594vDhB6fX+aA6wwKGkhjKDWxuLeY2FNFb2QJZinmd4falWT+AFvVtMkddwKR466FyT85xiMp8QQjhVmfPJWy8eUtf85pIGCmsS3FNx01i++mFTcFFGeWjPvO33cYymA2WajzczH+Lt/3wvPlpP+w7tLAzr4ltbd7EthgsK5QpkbonBjaqQJWbWrFkmWEt5aVoq0e4oRlhH9OKgcRTqi2L3UWgVRWloq5T7vGJOI4o7Y5hVhHE1ZQPmPuZbmKct0Nj/AMj3jPBFha677rrcCxV/cbJw4UILmwNcblHW0mSGUr4S0FjZA0WxY6f2JmP5dbiwlgov6HG55fqFS+40ec2VURTcrDKfEEJA1RYcgp275HcDwb2VVcoIebCh/PEwxf3V3/ZlhYcgrrehyywrupVqQeXjzfxpMJ8ipF//3hY2xpWkpeILRPDn77ibUzG3PF98I/nG2xeS2Lhxo4Xgi3IceuihFoJbYpj3E67WmUTKSzrl9F0p1xRqdxYYYvN0vH/TFhxpCy8OmrMvit1HXOtWUT7D0pJdRstpZ6cxzytfmRX3UtyfffNjaZ9kaSk0V5uGFHtGhJ9VcUW/WuOYuZssABTKGx9/1NCdloV9knHKoRKyR8eO7Rq4CJcDrra+si1rciCv+cKK7iIMhWS+rLBuBoR1dndbd78VQrRsyl5wiM3dR1htDFD4OOarmLGKm8dF0QxhUjkKI262XOdxcH097Mj6PzRPhwn+hb7FOeKsoRaedMyFlg7LcmPB5K1fKfCAnjJt68+k/LjujwSldNSZE3JlZRnw0OUka1lbGr6gSb9+/exNPtYRX7DEYSEIFpZIku+NN65UCMJ8hJz0SJcPhYOvwIklgXPAIhJuSWBDmA6R1TOdcvouyzVOoXbnG4cI3aRD+nxcH8JPIkAhpak10Vx9keU+uummm8wqSh+sWbOmQRxfpbSl0FzPK5QwXD6TG5B3S3Zjbq42dQo9I3xhJxYzY3xTBhZ5gpNPPtnCSjNoyEHmoYW8EsotIf964uEWx2US5AY+BVKqbJBF9igE8ztx/yW+l+Ou2xv+f36/+24WskhSPiWXay67YGKuzqTDJ+ooG4poFpkPfL4p1+dzPz5i8MAGdabsyHIo/cWme4VgfKAMrUkeE6K1UPaCQ2w+4f2E4UeZxRKFj2O4lcyYU/+GnXg8uFxBdVgZjThM3HdFkbeHuIT4KrWkw8puPDwfWZD/g9YDD+1nafGGj3SY7M+qcVNuHRfHyA5pYUkNoRxzFtyYW6acPODgw7asypm1rC0NFjT5/e/r3aB5k4/AylvscMESFnfg7XZIvjfeDvN4WJAGiwzp4u7Hx9f9TTqWBIRp8Di+3XPPPXYc2oryUg7l9F2Wa6BYuyNs+0I4pE880k1aStrKi4Pm6oss95EvzpK02rG5Ra+l0FzPq9ZMc7dpoWcE6b744ouWDi9QyA+llmPV6htWavX/emQBZJukzJCUSZAbUJ722LNbHCMbWWSPQoz+5Zm5z7Nw7fIXVlpaIS7z4PGVXNDHefLFOZYOMprXh3QoG2SR+eCkOtkulBXT8DqzYBPxKDtToqbeMSGOkQ0sshg41v/lr/ERIUStsM238etZ/jy23WnLYiCibfHNZ51shVLRMuH+Vf81P+qHpkHtXHnUpoUpJCNhjeQ743wqTgghxBZ6dD0s5wnkVHXOpxBCCCFEawJXTp/PyWfisIImLYpCCCHSkfIphBBCCJEB5jMy/7F/r+PtjT6fPsGlFhdXIYQQxZHyKYQQQgiRAeZ88rkR1qdgY67jgsXTG72irBBCtBWkfAohhBBCZITPjaCEsrFgjxBCiOxI+RRCCCGEEEIIUXUarHarle7aLur/lo36rzZQPzQNaufKozYtjNpHCCFKZ5ttttlqtVt9akUY+tRKy0aCUW2gfmga1M6VR21aGMlIQghROvrUihBCCCGEEEKIZkHKpxBCCCGEEEKIqtPA7VYIIYQQQgghhGgsffv21ZxPkY7mfLZsNF+rNlA/NA1q58qjNi2MZCQhhCgdzfkUQgghhBBCCNEsSPkUQgghhBBCCFF1pHwKIYQQQgghhKg6Uj6FEEIIIYQQQlQdKZ9CCCGEEEIIUeO8+/YH0YYvN8W/WiZSPoUQQgghhBCihlm3dn10+rDLomm/nR0faZlI+RRCCCGEECIFPhUxcsQV8S/Rmnnt1TXRmFHX16xlsWu3ztHRxx4czbtvUfT4o8/FR1seUj6FEEIIITIw6475powkt2GDR0VLn10Rx6oMpLd/z6GWPvmKxoHVaNCA06w9G6NMci1pFCJLnJYMSlprG5conKPOnBAtW7rKfnsdkxtjKK3e3K8+vrhvrx13S1WU2KsnXRwddczBdelPa7Hut1I+hRBCCCFKYPipx0Rjxp2T29Z+vD467/TxJrBWitumzrGQ9Pfp+0PbF+Xz0LwnonUffxKNvOjk6Lhhg+KjxXl73TPRzLmT41+i0lRTUS8lbcbHpo2bo+mzr4s6bd8hPhpFAw7q2+Be79ixXTR10l0NFFAUT+5/IM4BA/uYdbKQe2xjFPgJE0dHcxbc2KCcLQkpn0IIIYQQJTBk6E+is88/Kbf94fHpdvz+2Y9YWAnWrP5T1Kt3d0t/3/16xkdFubxd155wydizoqOPPcT2hXDuun2eKZrJe63fAfs0uNd5EdGhY3uL7/z7g09bOH/RbRZn6vSrop69fmAKaDVA6ezeY4/4V8tDyqcQQgghRCNgLhZs3vSVhYBLHK53WDfYsMKwUqWDxYPjC+Y+lrPQ4LZHHH7DSy+s3Mo6cvOUu3PuuMTn+hDPi2s8HteA5xO6CHKMspKvH8ONOCwrkF7oVkiaodtfvrST6fCbeXWc97yS89fCspMWaYbwm+vCNLgmnxsi52hLID7lAu+jLO2ZJK0NixFeQ56UKyTZNsSlfLgM5yNZB0LSCK3wXsYQfnPc8d/l1Muh/J4OWzHX02S/hGUullaxehdKOwl1xuqZxSKO4sdLIeI7KJtYyENLZDGr5IjjL7EQKyr1dCgrvym/183vXwiP00+UPaScMdTUSPkUQgghhGgELti179DOQhh70SSzfOCii6vn6jfejUaP/PVWwvhNk2dFPXr9wOJgLcGi4UJw1127NHC7RQideesDJvxyHK658uatBFCE7hXLXo/OuWC4WXMGHvKj+Ew9E6++PRp2ymArG3ERdimbH8Pqym+H+i157IVo193qy4NbIeVIcytMpj3hl1PjM1tW62ReHfX1Ovzpv/5nrl0QrhHIwzri0ohQDaTB740bv7LzbLQT5csH7UccIL6374fvr61TfJ+3RVw4jksl7ZllMRevJ/PvqCf9XQiUn9A1k/pRz1DZpc3DtqGd+f3NV9/EMbaGPmCceR2Gn1bff5+u/zyOURph/2H1y+raSf/Rt4xzys/1lOu68dPiGFuT7Jcdd9rB9rOkVaze+dJO4713P7LwX3r/s4WFoGyUC+tnPhirjAnuvXxQJyBOUunNd/8WuzegnDHU1GzzbR3srFq1Ktp2pw12ULQ9vvmsU9SnT5/4l2hpcP+q/5of9UPToHauPGrTwriM5MIfguMuXXeOz9a77GEJmfvwzea2hzA4dNC5JvzhhgcoiAiKN94+3tw+PS3/nQSrBYJnON8weQxB+MgDTzdh1I8Rx5Sxl+613yEomQi2S5bdl7PW+rEZcyZGAw/tZ8dcyfX6pOHXYfEJf4dpY3FBQVi45E5Tqr3OhdLFqhPWhzr273W8tTmLraCsoSAWSiONZHnTyNeeYZsXasPlqx82ZS0tL6xRKAFPvjgnp9BhsUWJpq/SxkwWku2VRtpYSpYxrV75QJHGcheWNa1ffBwVSjOtrbKklaXeaWmnkRbP60i7oYQ7vORAyc3XT4wh0iNOoTGa1oZQ6P4tdm+UO4aqCfWJVc0csnwKIYQQQpQAChVKlG/ddu1sypsLmm++9o6F7dtvZ0ImW7u6fVj/l79a6Ozcecd4rzCkAaEgjBKDMIrgHIKFshChIuDpefmAcqfhdWH7Xh5lIkzbFfSvv/6HhVhzIJ9AjvCMEk/ang/WSSzCf46tyzt3qW+vGbfMNWUWKyXxygUBPsyLvsxCWhtyfT5QPEmbOJ5fz7272yJIsFM8Dhbcv9jqhQJGHMpXCNLEEodyxnVc0xgXy3xKYjFWLH8j3tsyTrp0+a79/vyzLyzMSpa0Kl1vxlga3Fvhvc7iYoWUOyyyrpzmG+fFSLt/s9wb5Y6hpkbKpxBCCCFECWDRwEri24LF03NWQ9i8+WsLsd5g3fAN/rLuUwtbEgi+WF3CuqCAVxpXUkk7zAth/uOP6pU02hmXQlcKLrtgosXBiliqkI3iiuUomVc1QHEg7TAvb0OUJl4kYAXfuGGz1cvHDpZY2j8f1/12TNSxU3uzCnId1ww64NRMrsOVxOc7h/WjDlCqC3CWtJqq3iiRfp9jBaUfjxg8MD7bEPKmT4lXactjlnuj3DHU1Ej5FEIIIYSoIG45TCqpbLjHtTQQZBH0cSv1eiCUV5rttvsnC0OB37fQDZEVa+3YsvusjVFGEcKfWrw0jpENFFfmbIb5oDhUA+YIknaYl29ubcT9+uU1C62dqReKBMrOzNt+b+fTwJ2ZtiEdrsECj9sm34FsSny+c7JubKWuLpwlrUrXO8tLh/MuHmHh7BkLLAxBuSNv+nlCFe7xrPdGOWOoqZHyKYQQQghRQfbedy8LX1/5loWVwF343HUVsPThelgthSmExXh8rmK5uHtquEAS1iK3VqFQILyHdUyCGyFzSQGljXY5YfhR9tstzqXQtYiLcj5CF08v7+57drMwDRZ+oa/yWWc5zlxBQtqZeqFIoFCFqygnYS6pW7W4BssweaFwOLhmJvPOV45y6de/t4X0T2PJklaWemfFx2Uxt13y4V7D+hhaEmlLFtYi7ynTrijbdbkQWe6NcsdQUyPlUwghhBCigiAoIvBjMURRYv4VwnI5rqEh7m6KgEmaJx1zoQm8I84aGseoDswzwzLkdWGeXfidw6zgrogAPXb0ZEuDDesjFiNvF1YtDetInnwuwoV9vqWK8M8xzrP9/OTL7VypSjhC+bx7F+XmDZJXcv5sPsiTa+hXriFvV85ZvRhI1xWafz3xcOsr+ozrOEcdXPHGaks6uEh6eWgD5oQeduQAi5OENnli0fO2yIz3DSHtg0XXGTTkIMubFXk93SyWvny4ks3iO17+H9cpfvTtqDMn5MrPeKc8hfC5w2FbFUsra73T0k7j+913s/A/3/gvCwvh1k/ubeeeux609mQ8sXIu5fEtX76++m7YhsUodm+UM4aaAymfQgghhBAVhhUpWYWST3kgqCKcogQ0xnqIuykKKFYsF36v+c0lDeabVoPRvzzT6oJwT77L6wRcrEylgkVozoIb7Vrm6rGhLHDM24U64lrIPDbyov2I74up8E1FzmOJ5Twb+7hdovSXwrSZv6pfPTSeN8hcuXwLzyS5eOyZpoCjBKF4Trl1XHwmMkssigjp+gI59BFl9HJzjrz2iBW5YSOG2PmwPLQBdeVcGtSXlYRpQx9nhPTVhImj41iRzT8M58miHDfGWk5fUS7G9CMLltixZN+SDxx82P4W5uOkurol26pYWlnrnZZ2GvQNyq7XpRBu/aQt3TL7dqzIo+RRlnDLly91dHfxLPlCsXujnDHUHOhTK8LQp1ZaNvpMQm2gfmga1M6VR21aGMlIQrRusBKirDFPEgVTVAZ9akUIIYQQQgghArBWu6tvY1zjRXGkfAohhBBCCCHaLLgST599nbmxiuoi5VMIIYQQQgjRpsHdljnFjZmXLYoj5VMIIYQQQgghRNWR8imEEEIIIYQQoupI+RRCCCGEEEIIUXWkfAohhBBCCCGEqDpSPoUQQgghhBBCVB0pn0IIIYQQQgghqo6UTyGEEEKIGuLacbdEr726Jv4lhBCth4LK56w75kc9uh621QOQ3xwfNnhUtOHLTXZs5Igrov17Do3WrV1vv0OS6fj1N0+5234n4RzpCSEax5133hntueee0TbbbBN95zvfiUaNGhV98cUX8dmtefzxxy0e8V966aX46BY4xrkpU6bER7Ywfvz43LXkSVohH374YTR8+HA7z7bffvttFac1U2pfAO0ctmlauzukRzzaOSRfn7bW/iinnak39S90DXHCdJN98eabb+bSCM+RTvLeKNSPtUipbUq8tC2t3hzjXNrzxmGsEod8k9DuRx55ZC4PxjTHqgWyCTJKNUGuWrZ0VTTqzAk5GUsIIVoLJVs+US55IHbo2D6aOXdygw+xbtq4Obpu3C3xr+LMvPUBvdkTokogLJ933nnR9ttvH91www0mlN1xxx3RKaecEsdoCMLf4MGDoy+//DI+sjW/+MUvLL2zzz47PlIPAuSkSZNsf9CgQdEHH3xgaYUC5UknnRTNnz8/GjdunJWHfJJxWiul9gWgsFx++eXRj370I7uGa/k9b968OMYWEM5J7/zzz4923333+GjhPm2N/VFOO6OoUO+VK1fa2EW5Sl7j7fj3v//d4gB9ESpTvXv3tjSS3HTTTXZvHHHEEVYmlLjktbVMOW0KtBPx2Rhr0LFjRwsdxu3kyZMt7oABA+KjW3PjjTdaeNlll1nocP0hhxwSvfLKKzaO2RjTJ5xwQhyjZYJc9Zt/G2sy1T13PRgfFUKI1kHJyueY86+zcM6CGxsons5LL6yMHn/0ufhXca78Rct6AyxES+Hee++18Mknn4zGjh0bTZ8+3YTAJUuW2PEk7du3j2bMmGHCYhooPQjXV1xxRbTDDjvER+uZOXNmtMcee0Tvvfee5ffiiy/a8QceeMBCBHyuRTicOHGileehhx6yc8uXL7ewNVNqXwACft++fXPXEMI999xjYcisWbMsPPnkky108vVpa+2PctrZz9FOXPf++++bMsRxlBu47bbbLHzuuecsDuMcZezZZ5+140BbLl68OP61Be9H7h/vx+S1tUw5bQqHHnqoxWdDoYf999/fQgelkpceV111VXxka7Cw0ob0SfhiBZ5++mm7fu7cuTaO2egHXn619Jda++7XMxpwUN24uXeRrJ9CiFZFSconcxDWrP5TdPWk0VH3HnvERxvSddcudfGmZXpYEnfdx5+YW64QorJs2LDBwlBR3HfffS1ME8z23nvv6Nxzz41/bQ0CIkJz0uoJCHtYdDwvt2K48L5582YLQ8sH+UFLEcIbQ6l9AVjZXn311fhXw2tDQuE8aT3K16ettT/KaeeNGzdaGLYTihN88sknFqI4fvvtt7k2In0s0qHrKYpPhw5bv5BFOUr2HdcWU95qhXLalLZC6XRoP15OefuBW+uLWT39xUqagkqfkdfRRx8dH9naulotlj67Iho04LTcNKFQ5mEfeYmpSJwn3oK5j8Vn60nGIRwz6voG3mDHDRtk1s/Vr78THxFCiJZPZuUTa+a8+xZFIy86OTr62EPio1vjriLXjZ8WH8nPsFMG25u9qZPuit59+4P4qBCi1kB4RMFMs3oCSikWI8eVzk6dOlkoGg/z7sAVIwfh3K1HKEMoBN7+ojjdunWz0NsXUMAZ04WUIlw9UahEYbCyMz5xOw5xV9piVs/QLZe08im8QHy8MOi7vfbaKz5aHSZefbvJMEcdc7B5fI29qH7aAXz4/to6men5Olnp4GjMuHPqFOJ20TVX3tzAK2zab2ebTOVxhp92jL3c/3T953GMKOp/YB8LX1v5loVCCNEayKR8vv/uR9FlF0y0/SfqHqiFwFUEBfWJRc9nms85YdLFNn8UBVQIUZu4gIggyKIeLPCBIOgw1xDllOPMZXNBk/lYovHQ1ldeeeVWlmcXzlGCEM7feeed6MADD4wefFDzxLKC9QzlhnmNjF8s+CiWuJcmQalnfBMP6BNRGLfwDhkyxEJwqycce+yxucWEQksy+IuVM844w34zV5bxnY8JEyYUfElWSX73wA3R2eefFE2dfpW9REcBdesnctDLaxZGV9fJN8RhfQzknEcWbLF2o5xynce5ZOxZ0ZKX7m3wct+nNr1dp5QKIURrIZPyyRu7nr1+YG/4srjJnnHOieZSy3zOYu63Xbt1ji694mx7cCfdUkTzg8ULYSu5ibYDig8CHeAuiKKDQPnzn//cjsGll15qCijHUYY8/uGHH26hKB8EctoaIfzRRx9tIFSjZHL8+uuvj4+IUqF93WrP+GXs0qZr1661YyG44aIAEY8XLN/73vfiMyIff/jDHywMXWOZqwm8TOGZQogyyuJMIf5ihUWOisF/lbvxhi6/1QLZxel3wD4WYvF0kH14Ac/G8W67bokP/F79xru26j8yFfHSvhaAgiqEEK2JTMqnWSbvmBBNmDja9u+6fV5BpdJXakNRzbJS27ARQ+wBe9PkWakPX9F8sLgJwlZyE22Hl19+2cLkgiwsWOPWTxQiLEXMv0JBguTKq6I8sObQ1iwalHQD/e1vf5tZOBfpuLWM8c34/dvf/mYL6vCcC637QPsTh/j0SbEVX9s6WDhpJ9ozhIWbPAwXcHJrKKBMZn2xQj9hOSWN+++/Pz7afOBe27/X8dGI4y/JbbjUhlz32zFRx07tbdV/PL+IM+iAUxu45gohRGskk/I5ZdoV9pYPpRIrJXM6ma9QCNxOsJTyYH37P9+Lj+aHOQ+ke3OdAipqBwQDhK3kJtoOviDLD3/4QwvB5x36wjUhLiwmP4sgSsetOayWmrTm+Dxc/24km68uzJxFzfvMBu1E+/qCQ7xIufDCC23fXUaT8FIly4qvbR3cl+G4446z0PFFjJILOKFsOu7qjwXax7dbqBn7TugZwKq31Xa3zQLTlJB/3l73TG5LWjBZtBE3W87NffjmaMacibkFG0PwChNCiNZEJuWzXfvt4r16KyUuuEyULzan0y2lzP8sBg9iFNAscYUQxfHFfsJ5VK+99pqFhRZSSeILsrz11pZFLzydLl26WOiwGAgCedLqySc/wBVZcKtScgGd1kg5fRFac/h2YRJ3C6W93SPBLUcc85Va02it/VHumEeJD62c/rkZH/so+Gxhuk899VS8Vxj6L7wOUMrwHmgJNOY58sgjj1iIYhnizwZvc9JGsQwXcKJPwMc2mx8LPzfkngF8YiV07a02oZfWimWvW7j7nvXjBbru1vDZmISVbX2hRV7WDzy0X3TAwD72Et5xD7MedTKXEEK0FjIpn0muuGaUhZOv2XpBhhAspVhNs8KkexRbIUTjOe200yzs16+fWQ1QZFBiQqF3/PjxucVT8sG8TQTocEEWTyfpVpvP6omFA+sSH9unHJTHPwTfv39/C1sz5fSFW3MQ3Jnb6dYfNsASmvRI8O+rprnohrTW/iinnVnMhnbu3bu3Hd9vv/1M0WHM+5zlkSNHmuLz/e9/P3cPoPBkUSB5EUNcrqNMhOTXUpT8xjxHiMc4Sz4n/Hu0LEjGdbQr7Us7O8mxzeZ54pEDjz/+eO6FC59YoXy+FVoVtxL8/OTLba4mSiTWSSybvkAQFky+z+nzOfmkSmjBROnkRfvQQefaOY/DS30sps7yF1dZuG/fLV4npMmnXYQQoqVSlvLJW7rhp9YvC15skSDe5pUyYd4VWyFE48AK8Pvf/972EaZxVUMQDudErVq1qqjrIG5szM1C8CMuQmIyHchn9XQQGHFVRFh04Z6P8pdihW2plNMXKCzAMa4Jt0rQGvujnHZmvizXoCRx3OcoEroLJ4o+Cv13vvMdi8M3WNPugTT4/idWOaydlAkLH2k1xaI4laDc5wiKIfz0pz+1MIQxxljz9oRy2mTNmi3eV5Qt3Nx6XS0uHnumrX+BEomMM+XWcfGZKJo281dRr97dc/M5N27Y3ODFOp5eC5fcaYomq94ShxC5Co8xh9Vx8R7rtc+Wz8aw8q1ccYUQLZltvuV1Yh38eWy7U/08DNH2+OazTlGfPvXfFBMtD+5f9V/zo35oGtTOlUdtWpimlpGY1sQiRHy6js+wCCFES6RH18PMcyWkLMunEEIIIYSoPMz15FN1WD35dJ0QQrQmpHwKIYQQQtQQLD40ffZ1uXmkQgjRWpDyKYQQQghRI6BwXj3pYltfQwghWhtSPoUQQgghhBBCVB0pn0IIIYQQQgghqk6D1W610l3bRf3fslH/1Qbqh6ZB7Vx51KaFUfsIIUTpbLPNNlutdqtPrQhDn1pp2Ugwqg3UD02D2rnyqE0LIxlJCCFKR59aEUIIIYQQQgjRLEj5FEIIIYQQQghRdRq43QohhBBCCCGEEI2lb9++mvMp0tGcz5aN5mvVBuqHpkHtXHnUpoWRjCSEEKWjOZ9CCCGEEEIIIZoFKZ9CCCGEEEIIIaqOlE8hhBBCCCGEEFVHyqcQQgghhBBCiKoj5VMIIYQQQogq8O7bH0QbvtwU/xJCSPkUQgghhBCiwqB0jh7562jsRZPiI0IIKZ9CCCGEEK2UkSOusM8dNAWvvbrG8pp1x/z4SMumsW2H0rnu40+iMePOiY8IIaR8CiGEEEJkAKUKZQQlqxYpV1lqSgW1rfD4o89FL72wMrrx9vFR9x57xEdFuTA+Gaei5SPlUwghhBCilTJz7uTo7XXPxL8qR5oivu9+PS2vs88/KT7SsmlM2x197CHR3IdvtrC1oJcUohJI+RRCCCGEEKLCoIwLIRoi5VMIIYQQooIsfXZFNGzwKLMSsY0ZdX20bu36+OzW4KJJPMIQ0ti/59DcaqlYGwcNOM3icvzmKXcXXUk1zVrFdZ5G2vxM0rx23C12nnjkuWDuY/HZ+rmdUyfdZfsjjr8kl0banE/Sov4cZ6NOSbdljlNOrvM8yb9Y3dLKSRp+XVq61N1hP18dIa3tSMv7wNNP9luYH3EZD0myxAnxshDP8+cYdWVFXT9G+/I7pFgfeL/RHrQn+5SNMjrs40YMnPfrOc5v2s7LSFm8DIR+nC1rv4Zp5WubYm1I3mG9iUP+he5FUX2kfAohhBBCVJB/f/DpaOPGr2yhmZEXnRw9sej56OcnXx6f3Zr+B/ax8I9PLrMQEJDXrP5TdPSxB0edtu9gv5c89kK0625dLN0DBvaJZt76QDTtt7PjK7KBwM51PXv9IDrnguHRimWv55QK58P319YpVM9b3uTVsWO76Jorb84pWTvutEM04KC+tj/81GOiffr+0PbTQImg/sSjLdZ+vD4adeaErRQAykBZKBNpz7tvUXTPXQ/GZ9MhbeJ5OakTaWze/HUcY+t0Bx7yIzuOokU79OrdPbcgEHUspARSf5Ru7wM2FKWVL6+OY9S3L3HCdM87fXwDhTBLnHxMvPr2aNgpg609qRttwIq6fowxw++QrH1AewBl6tipvZXR24M+7rprF9vnPGMg5KbJs6Iede1P+vQD81xpm9OHXRatfuNdO07+9Nd146fFV6XDQk3U7ahjDrZ6UeckWdqQdli2dJXlTRzuGX5/89U3cQzRHEj5FEIIIYSoIFOnXxUteelem/t4ydizTPBl1dOkxc9BuUTQRkFwq9B/vvFfFh582P4Wdu3WOVqweLrNQyRd8nAlrRRQYDt0bJ9Lh9CVCgd30ZfXLIyunnRxLg7XPLJgiZ2nLP0O2Mf2hwz9SV73UuqLMkT9SYu2mD77umjTxs3RU4uXxrHqoQzJMs27N3/dkml7m9i1deVzkul6WVG0aD8/N3/RbVbHuXcvtPNp+MsBv4aNPiF/567b522VLswPrKpZ4uTjdw/cYNeQJ2nQBuOvvSB3DEUrHGul9AHKobcl+QAvUoB2Q+kGzodtDFdPGm1ps9EPQPrkQ34c9/IxzvNZHxn/KJ7UjXTCsoQUa0OUUNqBlw7k7e3DfakFoJoXKZ9CCCGEEBUG4RfBn619++3io/n51xMPt3D5i6ssRNFBcRp4aD/77XiabN9LKABZQBHBWoTC67hSEYIS4PlgCe22a+l5vb7yLQtDy6grf1gjQ5Jl4DeKSz7S0k4jrW7UCVyBBtqDdkHxyUfXOC1cN7G8YRUMLW3sU2b6JWw7LIF/jpWtLHEKESp9Xv52wfhKjrVS+mCXrjvHe1vy2bzpKwuLsXPnHeO9LaxY/ka8t2XcdunyXfv9+WdfWJiEtoCwb5KKbpY23Ckuz4L7F1tf4RZMPH+5I5oPKZ9CCCGEEBUC4ZY5dUMHnWvzIdlw5ywGSiaWN1w4SQPr0FHHHhyfrRe4md/mabKVavXMCu6l/Xsd3yAvlNa2zhnnnGjWNtodl0/cPOlnlFH4+ut/WMj5ZNt9/NEndi5LnNaCK65hPf1e+HT95xaWQ5Y25GUCn7nZuGGz9RX5EufIA09v8MJAND1SPoUQQgghKsRD854wIXjhkjvtMx1sfHIjC8xdZK6lWz+PGnKQhYAAzTy85asfzqWLK2U1uOyCieYG7PmwoXS1dVBocPOkPehf+tWVURSa7bb7J4tHv4Rtx4a7J2SJ01po36Gdhcl6sjXmEzRZ25A8cB/nnqGvUEaxmM687fdxDNEcSPkUQgghhKgw7vZXCsyfRDi+dtw0c7lNzk1j4Z/QXbYccE1kAZjQ/TDN4uYupo3BXT3d9RNwfYTQrbIcPO2lz71iIaAAhqvZ5iPN7ZT2oF0KKdm4b/qiS/QN6Rw3bJD9xhrHMazXSXfWkCxxKkk1+6AY/fr3ttDzy8Lue3azMGyf5PzQLG1If7LQEiH3DH2FMsp9ldWVWFQHKZ9CCCGEECXw2MI/miKS3BCSO+9SP6eNFTv9+JW/mGLHioGAjHCMAnr2ecPio/Uwvw2Lqs83RMli0ZUQVhsFzuVb0GXQkIMsfQRz0iFkYZYQysBiP6RDHPJMzoX0et4/+5G8ygX1QdnFaksapMcqqygORwweGMcqD0+bhYO8TVhZld9ZlB0WvvHVYrn2pGMutHYZcdbQOMbW0N5Yhf0a6sOLAupDeWD4aVtWofW2Cz89AlniVIpK9oHPMS40vkJ+PLCP5UN+PpZwSacc+UBR5AUA7cNnUrgmbaXoYm3IYkecx83W8yYuY/2wIwdYHNE8SPkUQgghhCgBn/OX3FhEBesK7oBY0TjGgid84iErPs8TwT1k9C/PzH2qgnSX1wnWyXRPGH6UKY4oYPkWdGHVTxQvFFnSQWFNWvumzfyVLb5DOsRh3hwKTAifh+E65qaGVrUkuKniwku5SY+Fi1j9NLmITDmQNm2CqzLlJO0ZcybmFMFCsAIq7eD9BNf85pKtFngKefLFOZYflmKuoT70wZwFN8Yx6tOl/z0OZSNOaAnPEqeSVKoPThoxpOj4CiF92oa6+VgCX8E5H1NuHZcbWyj8F489Mz6zhWJtOKyurIyFcBwTl2s4J5qPbb6tg51Vq1ZF2+60wQ6Ktsc3n3WK+vTJ/ucoagvuX/Vf86N+aBrUzpVHbVoYyUhCCFE6PboeFsWqZg5ZPoUQQgghhBBCVB0pn0IIIYQQQgghqo6UTyGEEEIIIYQQVUfKpxBCCCGEEEKIqiPlUwghhBBCCCFE1ZHyKYQQQgghhBCi6kj5FEIIIYQQQghRdaR8CiGEEEIIIUQrYcOXm6J33/4g/lVbSPkUQgghhBBCiFbCyBFXRBN+OdWU0FpDyqcQQgghhBCiRYKi1aPrYfEvAWec+9Nozeo/RdN+Ozs+UjtI+RRCCCGEqCFcmJZALbIy6475Nl5ee3VNfGRrssRpq7TktklTvo8+9pDomt9cEs27b1FqnYjPdc2BlE8hhBBCiBph6bMropdeWBkddczB0Zhx58RHRVtBVrzSmTl3cvT2umfiX8IZNmJINPfhm6N99+sZH6kNpHwKIYQQQtQI7737kYWnnHlcdPb5J9m+EEKUQ60pniDlUwghhBAiA26Vwjo5aMBpOde15KIe4fn9ew41l76QfOm8UPd76qS7LM6I4y+x4w55jBl1vR1jGzZ4VAN3OvY5fvOUu6Nrx91i++T9+KPPFTwHHPdj7IewYmahfIHjlJ96kga/ySetXbje0yLdMC3y8rbJlwZ5eJuxEd/rkY+0fNetXR+frSetnmG6lIPyeP0oA2UJyxfWn/PkG8LxZDuF7c1xrN7AubBtwnp7PyXbBt5/96NcGxI/y4qnxcZrsu6Eyb4rhpcpOeZJmzL6Mdo9WeZidfe0Q8JrPK9i4ySNLGMypDH3GnDM25nyL5j7WHxmC2Eayb5yivVpPogX5p8cw0mSYyNfmUOkfAohhBBClMDEq2+Php0y2FxjURbGXjQpPlMvfJ53+njbx222V+/uplCmCWSezvBTj4n6HbBPtPue3aIBB/W1cxwL3W4RgJ9Y9LwdH3nRydHaj9dHo86csJUSNfPWByzk2m67do76H9jHfkN4rmOn9tFlF0y0dNd99EnuGHFCIf3N196Jli1dZXkSh3xRjJP50g4rlr0enXPBcKsDc83uuevB+Gy9MEy7bNz4laVDeus+/sSUJUCIPX3YZdHqN961c9STNK4bP83OA+WiLXfdrYulwcZ1K19eHcdI598ffLpBvrTjz0++PD4bWV3IO6wn/Om//mdO0aCdKM/Rx9a7Q/fs9QOr7+bNX9t5hHbKRn/79dQ3qUiF7UQatLcrBvv0/WHUddcutk8aO+60g+1TviWPvZCr9wED+9h1aYvJ3DR5VtSjLl1vX+pVTFkqNl7JJ6z78NOOscVsPl3/eRwjO+GYpy1o19Ejf507Rrr8dkqpu1PuOEmSZUzmo5x7DaWSY+EYuubKmxsogIwV4jB2GEOMJX9h4ZTyDArJOoZDPnx/bV0dns+NjY4d21mZw3ol2ebbOthZtWpVtO1OG+ygaHt881mnqE+fLX9QomXB/av+a37UD02D2rnyqE0L4zISwiOC3pJl90Vdu3W2c35s+eqHo07bdzCLEErMky/Osd+ANQflZ8lL99rvtHQcFwDDuVoIkyh8CHfuips85r8RkK+edLHFcdLO+TGE2AWLp9sxhO3+vY435ZF5dGmklQWLB0qT1w+wgGzcsDl6ec1C+02dEeLDdglBMEZoDevtwri3E22L4tjY+X3JNk5r85C0OifB8oPQ7u3mbRm2ebKdiHPkgafbSwLvAx8bxeqYjOd1uPH28bbYTHhsxpyJ0cBD+6XWM8t4TdatHNLGvB/z8oH3eb6+gGTdk7/LGSdpbZNlTCZpzL3G+Ah/+/gI256+4QVQ2F/ca7xoCOtfrE+TeUGWMVyMZJnJJ1Y1c8jyKYQQQghRAqHQicUSsAAAQh/KBL8ROtl67t3dhMMkacJrGq+vfMtCLGOOC8NYPkJ26bpzvLc14Tm/PlQE05RCwPrkdckHVqYQfm/auDn+VW/xQyDNl8eK5W/Ee/XCOluXLt+1359/9oWFXeM8cPNDWcAiVMgqE0I8T7d9++3io/V4G+ZTdtLaP4S0qev36vrT86D/UTb+nLAQh+1EW9AmWPuy4GmzkVcaO3feMd7bUl6fR5xGlvHKeV4coHjR7sRJWr6zknbvtAv6I9k3jpeNLV/dncaMk5AsYzIfpd5rpA3eJuDjg3vHYawk76PkvVfKM8gpZQwnQeEMryHvQkj5FEIIIYSoEAhwCIhYOnzDVQ/KFdibEwT4QQec2qA+1WDzpq8sDPPB6gTu3nnGOSfmXHqxUuESOHTQuVbGfCAYY/UhXjLdSvH11/+wkHKF5WccfPxRfoE/KygGWKXCtH1MNZYs4/W6347JuYnS7sRhTBRyrawU5dS9nHGSRpYxWYuU8wwqdwwzBrCOJq8phJRPIYQQQogK0aFjexN8cYFLblktnbUClgyEUb4XGNajGrTv0M7CMB/f3I0Uaw+ufBxbuOROc4d0JSOfZeuheU+YMEx8T4/rKsl22/2Thbjleh6+ha7I5YIChfKHa7enS16VIMt47d5jD6sHx2g73GRxH752XPG5j42lnLqXM07SyDIma5FynkHljmHmsjL3PYxP3oWQ8imEEEIIUQKh9cBdNlksCFgQBRdFLG6Vwt0n3f0TUAwhdNOrFjt32eLKWS4IpLgPhu2CG6crA/3697bQ65UGLpRubUMhwp3xuGGD7LdbbvKxU+COmsTbMFzYhXw8L2//pc+9YiFQbsoPlAWBP+kCnUZoRaItGCu4NhaDhVySrppphBY5Hy/f776bhWlkGa/MIfR+os2Zn8l1WNiagqx1dxozTkKyjMlK4a654Rjy8REqc4yVZH8lLZPlPINKGcNJ3M05K1I+hRBCCCFKgJVSEXARylGoEA5dOP7XEw83ofykYy60OCgoLAjiwnA5IJgidGIFwnWQNFnpFmHxiMED41iVx1dbZYVS6sLG4i7lMOKsoRZ6u9B27sYJP64TmKkP9fK5hbjLhq6Sd90+L7dqqLct1jeuc+E9Sedd6ufosSKx1+HKX0yxYw5tSBpjR0+2NNnIh7QR4L39KS/lIQ1WQeW3KyasAMtY8LIRj35PWtqYd+dxCBkrg4YcFJ+NcvMZKYO/5OAY1lvPm3O0RRqU2etA21KvXvvsZedcCb1/9iO5chcbr5SfxXvcbdXrhhURixeQFgvLcK7SlFJ3p5xxktY2WcZkJWFF3XAM0Sf0jd87wFjhWDiGknM5szyDXInlvJN1DIdgAZ9376Jc+3ANaRRCyqcQQgghRAlcPPZME3ARylE8p9w6Lj4TmVUIt0SsNQj/KCgIenvEltFywY0QYR+hnzRZ1GP67Ouq6spL2tQFqAt15jMe5ZBsFxZFYRVNbzvymrPgxtynNFwpPfiw/S0EVu/kGiw93rbE57p84B6JKyGCNtcsuH+xXROSzJuNtuaYv1Sg/cmbz0qQDu1PfVyZuWTsWZaPl414pJe0uDJeaEPioFShcIQr6J40YogJ9JTBF7UZ/cszLW/6nuuW1wn3yTo4l15xdvREXd5cTzphHegD8mfculW02HjFIobrKu3hdSekPBMmjrY41aSUujvljJO0tskyJisJY4jx4GMVcHmnbA5jhTiMHeIwlih3SLE+hQvHnG6h5wNZx3DItJm/ql/ZNm4fVrgmr0LoUyvC0KdWWjb6TEJtoH5oGtTOlUdtWhiXkbAI8FafeU1ClEra5y1aA1gKWWgGxSXfp2hE20SfWhFCCCGEEEJUFNxTkxY4IdKQ8imEEEIIIYQoG9xTcdEVohhSPoUQQgghMsCKmbgWClEOjB1fdbU1wbxXKZ4iK1I+hRBCCCEywOI1mtMmyoWxU8vfhxSiKZDyKYQQQgghhBCi6kj5FEIIIYQQQghRdaR8CiGEEEIIIYSoOlI+hRBCCCGEEEJUHSmfQgghhBBCCCGqjpRPIYQQQgjRgFl3zI96dD0seu3VNfERIYRoPAWVT3/wJLdhg0dFS59dEceqPiNHXGH5Nheef9rGudbOnXfeGe25557RNttsE33nO9+JRo0aFX3xxRfx2XQef/zxaL/99it4DXGKpTtlyhQ7Rxzi8jvkzTffjI488kg7zzZ8+HA7Juopp++yXFOs79jnmPcLfZTsl2TfZSlbS6bUvqCNfey/9NJLdozx7+2V3NL48MMP7Rx5hZAv9wrn6IPWRDljfvz48bm25lra3im1zWlP0grzLDWNWqM5/wMK9U0I9whxkv8RQgghaotMls/hpx5jH8b1be3H66PzTh/f5t6GhW3gW619LLjSbyr5oz/vvPOi7bffPrrhhhtMYL3jjjuiU045JY6xNSgVgwcPjlauXBkNGjTIBIfkNaRLHCDdI444wuJMmDDBjgFCx+WXXx796Ec/sjiUgd/z5s2z8wjWhxxySPTKK69E48aNs23+/PnRCSecYOfbOuX0XZZrsvQd8TnWt29f25YsWWJ95YIlIb85zhjZY489ipatJVNqXyBI08ZffvllfKQhpOEbabKlceONN1p42WWXWeiQL/dKa6OcMY+yMmnSJNtnLH7wwQfW9q7wO1nanPwZ01dccUW0ww47xEe3kCWNWqOcNq3Uf0DWvoFf/OIXVsazzz47PiIaC9+kfHvdM9G++/WMjwghROPJpHwOGfoTewj5Nn32dXb8/tmPWNhWCNvAt9b+seB7773XwieffDIaO3ZsNH369Oikk04yASsffm7GjBl23fvvv2+CA8dRGMHTXbFihaWLQomSgvDhsM8xz5sQ7rnnHguffvppE87nzp0bTZw40TYUUASUNOGkrVFO32W5pljfIXgSn+teffVV2xAu6at33nnH4jz44IP2O22MtEZK7Yv27dtb29BuaZAG24knnmjtiOCeBAWfPqFdd9999/hoPYceeqjdJ62Ncsb8zJkz7eXHe++9Z9e9+OKLdvyBBx6w0MnS5qNHjy6oAGVJo9Yop039XGP/A7L2Ddei6OZT+oUQQtQOZc359Ldgmzd9ZSG8+/YH0ZhR1+fcUXHNTVrf3E0V69z+PYfa72vH3RJt+HJTHKOem6fcbeeIQ9w0Hn/0uWjQgNNy8bgmTMddZXEP9ngcIw5l9WOUk9+VgHRIj3TZaI91a9fHZ7dYJRfMfSxXPsrh+RP6cba0tiENLzsb8WkLoL2nTrrL9kccf0netiuFDRs2WBj+oe+7774W5lPwNm7caOG5555rISDswieffGIhwsK3337bIN2k0PD3v//dFBcneZ70SePoo4+Oj0RRx44d4z1RTt9luaZY3+299952nnhO//79Ldy0qX48e9+ljZGk211roNS+oA3DtnEQ0mk3hxcwcNxxx1kYMmvWLAuvuuoqC0NIJ6mQtgbKGfMo4bhz+jUDBgyw0JWkrG3OeCetNAWolH6rNZrzP6BY3ziM8aayevKfzH+zyzCE/NeH8o7/N4f4f7vjv9NklGQenEduCCl0vdPYOC6zhHUrJIMIIUQWylI+/UHUvkM7C+HN196Jli1dFY286GRzR8U1FwUoVL7gpRdWRiuWvR6dc8HwaMBBfaN59y2K7rnrwfhs/YNt5q0PRD17/cDiEJdrQnhIXnbBRNsnr169u9s1YTrOxKtvj4adMthch0mHB+Xokb/OHVuz+k/2u7FQz9OHXWb1pg1I+4lFz0djzq+3EofcNHlW1KOufsSjnt177GEPeq5f/ca7uetpm+vGT4uvqle4US533a1Lzu2X61a+vNrO77jTDtamwPX79P2h7Tc13bp1s5B5Qs6zzz5rwoELD0ncWsbb8Xx4ei7EJEFp4U05+ey1117xUVFtsvTdW2+9ZeEuu+xiYRqvvfaa9V1SABX5ee65eqEP1/QQ7oXJkydbn3DP0Uf5FIW2DmMOy5zjik2nTp0sTJKvzUtRgPKl0Vqo1H9Alr4ppPRXg2m/nW3/zUcfe7D9Bw8/rV6O+HT953GM0ghllH4H7BN12r5D9OH7a+v+75/P5dGxY7vomitvTlXy/PqjjjnYZJyxF9W7KYeUEicsR5JiMogQQmQhk/L52MI/mlLo26gz6+dknHLmlre2w0YMiV5eszC6ZOxZ5o7qrrlPLV5qodN11y7RzLmTLQ4hv+fduyg+G0VLHnsh6tCx/VZxQubevdDizF90Wy4OShcKaJLfPXCDxbl60sUWhz+J8ddekDuGorfu40+2stKmEbaBbw713LRxs9WbNiBtHszkl0z76kmjLQ7b1On1Vom06ykbCqwr8H98cpmF3jZsCxZPt7jQtVtn+9MAXKWba54Gb7sRIJgnxOIbvLlmXibuWmkgKP/85z+3/TQrDSCYXHnllQWFO+YKNaUQIor3HYIhc3fpu/PPP98sekmY18VCI8xBzDdGRDq0Ga6KSSsmVk/cOs844wz7zVzpAw880PZFQxiXPDd4VjEW3RWWOclppLW5K0DwP/7H/7A5joUWvsnXb62FSv0HZOkbj8/LFhYcIi7/F9UCpRBZgv9d/oP5v17y0r1lT8EJZRRC4L8becqP8Z+PzPPIgq1dnf16ZAnKhXIZWjahlDhhOZIUk0GEECILmZRP3vLxtsu3jp3aRzPmTNxKuUFJQtEqpMjxxiyE3yhdDsoalszwrVvyGh6cyTiudCXzRiFzPE679ttZCO2D/WKEbeCbg4UWwjZxy+PrK+utPs7OnXeM97awYvkb8V59Hdi6dPmu/f78s3o3xK5xO+COg+KLBbhSLsOVBEHC31bzJhvhAUF47dq1diwJSiPzdZjflvZW3AUT0nj00UdTFUuEP5/fhoubaBqK9R3zc33BkCFDhliYBMXI5/fKYp0dFmyBn/70pxaGIIgzV47FYURhLr30UlNyeFbRbq5EHn744RaG5GvzRx6pX/8ApZNnEM8qxrXHDynUb62FSv0HFOsblEw/hhWZMU9cV2SrQbddO5uHElN9+B/mvzrp4VUKoYwSgnLosgCWUPJNI03GIX5IqXHy0VJkECFEbZNJ+Zz78M224tny1Q/b2zcYeGg/Cx0eRoMOONVcbX1rbdAGya1S+PzZsP1wswF35znjnBPtraW/DGDF4aGDzrW2ryXcAsliE8zp+dvf/mYLVCCMJd9IZ1Eaiyk4pInlDKvo/fffHx8V1SZL37FICGMAa3S+VSp9jCA4hiviisI89lj9HDDaP4R+QdC//vrr4yOiELzMwiLHOOTlFqDwpFkl87X5U089ZeOXxXPChXF8UZ2QfGm0Jir1H1Csb15++WULkwsb8X9RLevndb8dYy/g8bTif5j/amSfSs57JK3+vY5vIA/wYr65aSkyiBCitilpzieWRuZh4qYaPmh5M8fD6JrfXFIVxawt4PNnw/bzzd15aH/cXTi2cMmd9lLA/whq6e0j83KwYvliEwgQF154oe3zVtoJlcZ87lgumJBemoITWkVZ9Vbutk1Dlr4LcVfp5cuXW5iEfjvttNOsH31FXFEYV3iSrszuhoiVCVdFNrdCcT+J/LjCnvw0jZOvzRm3aQvj+GI9IfnSaE1U8j/ASesbX9johz/csr6BrwmwefMWj6pKwhoNuNnyP8x/MF5gTA26dtyW9RkaC2taMD8zlAP4r29uWooMIoSobUpecOiE4UeZ9fOWKbO3mjOwc5et3UlLhQV4cGkJ0/74o/rV8Rwedsk4aW6vTUma26+722ZZ+Kdf/94Whtcnwc3FlX7+AKmrf2f066//YWGl8YUdQmsUC8NAmhXS4a13+ObZlQ5fiCKpNKZZGULBJN83Cd0qyidWwlVvRXl9l+WaYn2HgsPcq3CxESxCIfQrccIxsmxZ/Xyi1ki591E+aDfusbRPdbgbIlYm3/yYf6aotdKYdsYqj2KUz+pZqM1RJlHwPV8f18l0CqVRqzTnf4CTr288LV/QDLxsXbo0nK5TKVjZ1hUt/oPxAjtgYJ8G04fS5JikvFQMd3EtRujy63LQ7nvWt4uTJU4WmkMGEUK0PkpWPkPr50PznrBjrLIKrJbGw4mNVWXLYdCQg+whzvWeDnmFjDhrqMU56ZgLc3GYB8oCPc3FEYMHmlLOYkzMBcENBbcU/oSyKMQ/rvvzCq+nXny2JXRnuev2efZG1NumPp9pdp3n0XmX+nmifIO1kCKbFaxR0K9fP7OgoDSgCIYuYywowyIPDoucIFD07t3bju+3334mAKNE+lydm266yZRGhLY1a9bkLDRsvqKhCybM5eG7kGEcYO4UVlHgEyvhea3sWV7fZbmmWN/Rx/Q1i43Q96TvH5P3T66cfHL9vRqOEeaGcl1rnPdZTl8Uwq1HafNocVFMbp4Promtmca0czGrZ6E2HzlypClb5EvajGvwce4USqNWac7/ACdf34TPGvLB+uxlK6TMlgtKJ4sAuqsp/8OEWP6wVDoux7CqrMsopbjN+kKMLguQBzJOGj8/+XKLg1JMHF7Oh+thQJY4Wcgig3CO40IIkY+SlU9w6ycPIt7mMVEd1xNA4eI4nxIpB1ZPQ4nkQU1apJN0N+FN4423j7d94vjnSZiP0FzQBnMW3GiLAjAXxP+Mpt5RvzJwMfx63qD6XBI4+LD9LYQnX5xjy6BjCeY88YjPdU7/A/tYe/EHmVzoqBywJv7+97+3fYQHrFq8fQ7nVq5atSonVAGLnHANblccR8Bgvg+hu6VxDSCwuXXGN/8OHPGBNJJxAIHFSZ7P597Zliin77JeA/n6jj7mUxLe56TPWFi8eHHOUkLI7+QY4TofI62JcvqiEH/4wx8slLW/IeW2czGrJxRqc6YEMCedbxOTDgpVON6dlthv5bRppf4DoFDf+LMGZZM4pJUsWyXB2oe7Kf/trHrL/zAh/8sTJo6OY22RY1D08skxhZg281e5T8hx/cYNm+1FdhoXjz3TZC7+88ljyq3j4jNbyBInC1lkEOr8dg3MTxVC1C7bfMtr8Tr4I9h2p63np4i2wTefdYr69OkT/xItDe5f9V/zo35oGtTOlUdtWphak5Hc44v5l/nIEkcIIapJj66HmQdWSFmWTyGEEEIIIYQQohSkfAohhBBCCCGEqDpSPoUQQgghWhCsMjtm3Dnxr3SyxBFCiKZGyqcQQgghRAuC73+zsFEhssQRQoimRsqnEEIIIYQQQoiqI+VTCCGEEEIIIUTVkfIphBBCCCGEEKLqSPkUQgghhBBCCFF1tvk2/vInH1AWQgghhBBCCCEaS9++faNY1czRQPncdqcNdlC0Pb75rFPUp0+f+JdoaXD/qv+aH/VD06B2rjxq08JIRhJCiNLp0fWwrZRPud0KIYQQQgghhKg6Uj6FEEIIIYQQQlQdKZ9CCCGEEEIIIaqOlE8hhBBCCCGEEFVHyqcQQgghRJV59+0Pog1fbop/CSGScH9wn4jWjZRPIYQQQogqglA9euSvo7EXTYqPCCGSXDd+WnT6sMv0kqaVI+VTCCGEEKKKoHSu+/iTaMy4c+IjohaZdcd8+zTEa6+uiY9UD/IgL/JsDTS27bj+iUXPR5decXbUafsO8dHyaMp+bOnQRmNGXd+kCr+UTyGEEEKIDLhQm9yGDR4VLX12RRyrIY8/+lz00gsroxtvHx9177FHfLSyUIaRI66If4kslKugSLGpPOvWro+mTrorGn7qMdGwEUPio62LLPdoU9/HKJyjzpwQLVu6Kj5SX4bktn/PodG1427ZSkHlmTdowGkF46Qh5VMIIYQQogQQkrFi+rb24/XReaePT1VIjj72kGjuwzdb2JQgEJYjyHIN17ZFzj7/pOjtdc9E++7XMz5SGRgXtCmKq0Me5EWerYHGtF3Xbp3tHrl60sXxkcZRrX6Ecu+rWuSheU9EmzZujqbPvq6Btbnrrl0aPN8OGNgnmnffogbTBlA8eeZBGGfab2fbsUJI+RRCCCGEKIEhQ39iAq5vCG9w/+xHLExSDSFYiNaE7pGm567b50UDDuq7VdvvuluXBs+3qdOvsnh4cPiCUP/+4NMWzl90Wy5Oz14/MAW0GFI+hRBCCCEagQtvmzd9ZaGDpQt3NKwluKclXXMR5JhvxXmPg+saboiQZjGDYtYXP4ewSFwHlzjSD8u0YO5j8dn68nINcD605HLOXew8f1yKC+H5hdeEq5mSJscpA+fYT2unEPIkXjJvXJ+pl7v9kQbHPG/a2ds1H16esN7k4+1FXTZv/jo+s4WwbYh785S7G7gfjjj+EgtxLfW+yde3XJuvf8DbKXR5TLZrPpLlDMdavnS9HrRDoTqmtV2Yn6eX7LcwP9JNtgdkiROSLIu3NWX28ZiWTrH7kfJDqfdVCHl6PMqThfAa0qY9QvgdjnX2uSbsnyRcg9XzuGGD4iOF6XfAPhZ+/fU/LETZxLocWkyzztWV8imEEEII0QhcyG3foZ2FgPCHstGrd3dzSwPc1EIlgRVwmW818qKTc65r/P7mq2/iGOXhAqW7zzkfvr+2Tvh/Pjr62IPteMeO7aJrrrw5pxDs0/eHdg1wfseddrB9zlMXLCIcZ0OwXfnyajufD9z0sITgpkwdV7/xrtU5KRTfNHlW1KPXDyzOxg2bo7GjJ+dVFPsf2MfCPz65zEIg7prVf7J6uQCMZWbjxq+srKTLYjY/P/lyO5cV+vWyCybaPunAzFsfsNAh7yWPvZBrG/qQOKH7IfUHrEeFhH2UEa4Nxwz9k1Q2YOLVt0fDThlsaaMMTfjl1PhMOqQd9iFttebNd6PPP/sijlFPmC4KB+1J/mE7UD7Kec9dD9qxNLKMGdo3dN0kXa4JFbcscbLifUc6HTu1t3TCti12P5Z7Xzn004plr0fnXDDcrISUJ6kAJyn2HGH88dvHOhvlY0wW4r13P7LwX3r/s4XFoNyw3Xb/ZGESykP9GOPFkPIphBBCCFECjy38owmFvrFoB5xy5nEWgru0zZw72dzScE+D+bHQjLDGCrgIopeMPcviMOdtyUv3NnphIp9f6u5zDhbal9cstHw4Ttk6dGwfPbJgSe481wDnmYsHruh5XdgWLJ5ecI6eC6MIw8SjjlOmXWF1Xv7ilgVO4OpJo+08G/tYZP4jWAQlBGXoqGMONmXSldj/fOO/LDz4sP0tBCwztCVlJV3KQd7+oiALS597xULcqkmHergi6dBGtIW3jbsohu6HuGkDylyhub8oI8kxQ//MvXthHGMLv3vghgZlQvkOX2wkSabNdZQ76XIZpksI5E853MWSNCytWJlLI8uYwU09mS5K2awZC+IY2eJkhXbyelFPcPfRLPdjufeVg1Lo7eFxiimJxZ4jfp/85t/G2nk2xiBtXcgS6cqk3+MhH3/0SYPnG9ZgVyzTnk3ch/7y47yLR1hYCCmfQgghhBAlgGKBNcI3rCgz5kzMCfIIsihQ36sT7FB22LCOIDT/Obbo7dR5RwsX3L/YBDwsOcRLWgUrDemHZeq269bCZ5KusUKKayFlxVpUSNGBN197x8L27bfL5deubh/W/+WvFjo7x20Bvp/m3ur864mHW+hKLIoOgv3AQ/vZb4cyet6Uo1TerlPoIFTQdum6c7zXEM+HjX4vFa4Dd28ElAcsXgj+SUKlwcvkLpFJ0tLOR5oyQv6UI1RmPC1PO0mWMYNVkfHHOPS267l3d1MCnSxxshL2ndfTXeUbez9mua/8xQ543/LSIB9ZniM7d6kv94xb5lq5sbYSLwukkwZtGz7feNGD4j7l1nFxjIZg5acevOBJvsxIQ8qnEEIIIUQJsDIn852Wr37YrBcQKj6uBKCkMt/PNwQ0rAqA8MnnV3AzRcDDTY84Rx54elHFrlwQTPv3On6rMhXjjHNONKuHK924+Q0ddK4pFvlw5dHr5Rv8Zd2nFpYLbU2748KJ0I9wfNSxB8dn6xUB5r1RRs+XclQD+or5eGEdQ6tnWyXLmEGxYvyltZ27XWeJUwkacz+We18VI8tzhHsBN2FeEFBu3KOJw/jPqjgnod94vrGhUELf/Xs1ePngUHfKxzVYXbMg5VMIIYQQogwQxnDTw1IQzu/yeVEIbi7E+YYbn4MbH+56KLEotAi/CNszb/t9HKOyIJjishqWB6GxGNQTtz/iL1xyp5XVFYt8grlbGl1RD7fQ9bJcmF/HPDu3fh415CALgU9IIKBTVs+TclQDBH4s3/Sh5+UCe1smy5jhBUKo6ISbWyazxKkU5d6P5d5Xxcj6HMFN2I4tu8/KjTLK+H9q8dI4RjpZFOQThh9lfXDLlK0/oUI/Xjtump2fUMI9LeVTCCGEEKJMQuHMLQ3Mi+KYz6tKg7i+miiCOu5qCL+4j7or4O57drMwTKdca4bj7pCl4O58QN0oqy++ks/Vc+9997Lw9ZVvWVhpmEeJYoDwS5ulzUVzV8pyYREkCN0Y06y2LDCTZhUqBXdXTPY1izQ1VpHxtMP5haSNFTLLeCJ/yhHG9XLmc7PMMmZY0CeZbpIscSoB6Re7HwuR5b5yayWQD/XK5/oKWZ4jjE23JqOMU26eSVDIdd3dpotZj2kLf8EWLvJE+ZnnyT3IXO5SXgRI+RRCCCGEKJNQOMPi5gw/rX4VUgRaBHEERD6T4FYfrBKcx62PlUiJQ1zSOezIARaHtBH8icf1xDnpmAvtXAgCLIIs5x2E5rRj8+5dlMuPNEk7xOcrEscFUxY9wbrjdeGcWzzyKR8IzpQLy6CXnYVLGuMOGEK+1Afh9+zzhsVH6+m8y/+/vXOPt2pc9/joz0NX7E0RfdxlSxRR5LJtRfhwUKEtys6dttrpguNIJLFTCTm5tJPqIAchtssuskMufcjH9YOo7bgmnD+dvs8cz1rvGs3LmHPNtZprzt/383k/71xjvON9x3jGO+Z6nvE87zN/azXZdhmXMu7PU2ybs8deXawmoU2uNXJ9jzrYahJKubw85NNBXniQ/BqRDfIK8azBGH+hhzyJh0+6nLnXXN+QYafELUrHvWHeNzXXEs7ZXDA+58H5+LF2npv6zEWaOcPa3bBf2vCMhDJK06YcpHkeodTnCugrlD/X1S/w2Gd7jgt9jzB/uY9sYz/Fszrne2nh89+TdeXDX7CRldqfXTIdM5+4djLn+tiUQgatjE8hhBBCiEbgyhkKtytnnmEVbwcGGCGieHHcGzdwyAmWpIikI2QNpQ1tOYZ9Dkk+UCJRMOn/8jHnxnvquWTUUKvpw/F24bbps/+jwXisb0t6XgZtGhuFkjb+MxxPL7/fEo74tbCPa7l/0VTbnwvCLjmOa+c4lFWU7cZ6CR1f53nopnMJwWOFHFHkGZckMpxvCGvlkCvrRXN5ZzGSCL0E+iHJS9Lguuwv59o1cn9os2KToZAcC6+QG3/JDKghzBna+XnDtTeO3CyRUikk56P/NEeadXqMH8qB8+M8WdeZizRzhn55BvAcexvm426xxx/StCkHaZ/HUp8rYL7hTaeNvQjYJMNQ/tme40LfI2S2Zb/Lh8JnriVbNICDXPnOyjcfHX/BhrHsLys8GRcGtY/rJfnzPUla/boJPqxatSraavsfbKOoPX75qn3Uo0fDL0vRcuD51f3b8ug+NA+Sc/mRTPMjHUkIUW3gpcRYZJ1orgiGxtK18zFRbGrWIc+nEEIIIYQQQtQQHrFBWHk5QuHTIuNTCCGEEEIIIWoIwmln3TtxszDxpkbGpxBCCCGEEELUGITbsm60XOuw0yDjUwghhBBCCCFEkyPjUwghhBBCCCFEkyPjUwghhBBCCCFEkyPjUwghhBBCCCFEkyPjUwghhBBCCCFEkyPjUxRk2bJl0fHHHx916dLFCp/feOONeG9upk2bFh122GF2TLdu3aKJEydG33zzTbw3s9/7TBb2AWNn209hXzYYg/E4TyGEEEIIIURlUDXG54ghY6OunY+J/xLl4sMPP4zOPvvsaM2aNVHXrl2t8Pmcc86xfbnA0MSA/PHHH6NDDz3Uts2ZMye69NJL7XMIfdKGstNOO9m21q1bW+20bdu2ro2XZBtn3rx5Nu7QoUPjLUIIIYQoN3PuWGi61xuvvRNvaRr4AXz0vOb8Ifw0NNf1C1FN5DU+/aFKln6HnR0te35l3EpUMwsWLLD6qquuip588kkrfMa4W7Jkie3LBoYmBuPzzz8fPfjgg1ZjWL7yyiubGa1jx461NhQMUTjwwAOtdvbdd9+6Nl6SbZx77rnHxho0aFC8pXa56667ot133z1q1apVtM0220QXXXRR9O2338Z7s5PmGOZF2GbKlCnxngz8zT6K079//7ptYWF7LVDsveBZox3tX3rppXhrFL399tsNZDl48GDbFpJmLPo86KCD8vbTEillzk+YMKFO1hyL7EM++eQTk4/LCrkl2wDz3semTj4XwLZ8Y1UipciU6/L5lesY5lso12xzkGM41tvkkj349074vIj0hDpfqcYUx3E8feUiTZskX63/OnrpH69HYy69Id5SXSAPjOsthd/3sBzyu1Oi68bftpnB//6aj+scPpRRF11v2yoNOaUql1Sez8F/PDEaNf5PVkZcema04YeN0QVDJ2wxA5TJlHxIZ8+bHK1Z+/f4L1Eu8HLCySefbDXsueee8af8YDBut9129pm6c+fO9nn9+vVWZ+OZZ54xwzGXYVmIhQsXmmGMZ7bWQUG74IILog4dOkQ33XSTKXZ33HFHdNZZZ8UtNifNMSh2Z5xxRvTxxx9H/fr1s21XXnllnaJNzd/Z2G233axfyvjx421b+/btra5mir0XyHjAgAHR999/H2/JgBF01FFHRa+++qrJj8KcP/XUU+MW6cain5NOOsnuod8Lnj36LmRUVDKlzHnm6w03ZBRa5jMyQfahAcOLLOSMnOiX+5Jsg4HGvP/uu++sH+rwuQB/NjDGco1VaZQiUwxIruv111+36+R6k8cwz5i3yLVnz55W+Jycg7xo4dgLL7zQxneZMYdD+Hvy5Mk2Hss9RHFgYNxyw93R77rtabreb7bfNt6Tn+EXDjLdix+qb0r26rqbnRcGaCU5P5rr+puDzrt0qtP1KX369ogW/O3xBgb/2s/XR0MHjo5Wv/W+2QOUpx5/MbpsxH/GLaqPUl6WpKUp+65kUhmfJ5zye3vAKCPHDIv++8lZtv1/HnrWalH9uBGZFgzId999t26NJ/XatWvNG9q3b1/bNnLkyOjTTz+t+9s9qSgPSTjW14+yljOX13XGjBk2Rmgs1ypz5861+umnn47GjBkTzZo1y5TopUuX2vZspDlm/vz5Vr/11lvWDk82iuns2bNt+8477xwtX748633Ee0K/lP3228+2oWxWO8XeizZt2kR33nmnKdshzz77rBk+hJZPmjTJCgYRCrkbMGnGCvuhDf3ceOONtu29996LW7U8SpnzzFteijCPOY65Cz7PMaQwopAzcqLfhx9+2PatWLHCali8eLHVL7zwQtbnAjCOGGvlypUNxgr7qTRKkanvYw5z3EcffWTfB2x3o5F5xrylr9dee82KG/bMTwhlz7iMz5yFhx56yGpn6tSpdiyROaJ4Pvnoc6v7nXCE6Xqdd+5of1cSpw4+Lmrbrk00757MsybKyy5dOtXp+pRbZl0VHXZETzP43bP5yrJV0Y8bNkZTpo81e4CCAbr2s3Ule8tF7VHSmk//Utr4409WO9Om3GNueqx4QnMXzXsi3lNPoTa8fcPN722ocen7pHaPJw8D+52ke93DR+jf92ULF+aBYjv7aUd7PtfaW4hyM336dKuPPvpo85JR45FEwc3Fiy++aHU2r+cXX3xhta85vfjiizcL3+WtOe2GDRtmxjJ/M3aa5EjVyA8//GD1ttvWv8F22ebytKQ5xpXH/fff32raHnzwwaZIAp6RbJ4HlFCK8+ijj1r9hz/8wepqpth7gWzPP//8+K962Pbrr782SKbVrl27+FOGNGNt2LDBal7UOEQqQCUbQoUoZc4zb3kp4sf43PV5vnHjRqtDOfvcZzmBg7cOAyvXcwF4QzHEkmP5/ahESpGpX084h/kfAOvWrbOa/wdwySWXWA29e/e2+vPPM4YQsmS+Y/Q74Zx1uFd4R5vD6+n6BLpEqDugu4T6xMABF20WisjfbGc/Bd0GTxJQsw0dKQR9iO3eznUk74Oxw3HS6j5Jhvz7SKvxfnKM61wcl+ucwcdLGh4bN/5cd57ocU8+9kK8Jzdch58zJRny2b5D2+j4k440/S/cXohcMmE8+gm3Jc+zlOtPHsNn2qU5Z9q5/pucC1BIh2Y71xP2k5RjMfTqc4DVP//8f1YPHHKCeXr7Ht3L/oY2bbaOP+WmkEyyyZHPbGNf+DcyKHZuhYSyKfbZQLYhhfpijjFn2O9tOHefQ/n6rmZKMj5daDsFb8aYDLNnzI+6dd/L3PVw7bhpDW5EmjbTb77X3Px8wdBm8NknRu+s/iD61/qvbf/JAzPeFA8PKMStk+dEXbvtWRcuPOayyQ2+xAkfWPvZOttPO9qLxkNoLcoFhXWe/vmnnxq+sAihHRBS5ZBUiORCw4cPN0WHEDB/s+3rUR03Zvx4zoE+840pisfDZF05BxRqvDzFQJgnXqBdd9013iKKBYMHzxqy32effeKtohiQHfPX8XldbDg4cxnPnq9Z5N4QHo1nLxfelmiBasKvh1BkB0MdWbtxuOOOO1o9c+ZMq8FffGSLmnC8vRuqgNcTmtPrOema26OBZw2wZUkYQyiOhB76NvSWMBQRvQN94/PP1pu+QRvCFUddONH281KfkNenHsu8hHWe3PQ32/2lPyGQ6EgcTz+EPzJO0rjIp/tkg/4ATxe6lYfdEuG2YcNPto2+OOfzzsy+rCIEXQ9cTxt98aTNDNQQ18c8nJPz4TonTsi8yHaOPOYQq1e/WXyERlImjGeGZ7CN8wzlVOz1cyzL0vwYCvrq0if+EbfIDfNo5ctvRn+6eLDdc2Tohhek0aEh7If7iRzvu7thpEBa6Ae23vrfrE7CfVv0wBLzSO+6e/bvscbIJBvh3Np5l45R78N72N9pQJ4YeqEMObfwBU6S8NlwGwTS9MWz+fKyVTZ3aEMoM3//8tMvtj9X39VOKuPzicXPmZC98OAxcc69YGDcIjMZEB5rL3HXL3x85mbhEWna8EVLm2tuuNza4NJf+tLcTcZoJjTPaw8PKMQ1N1xWFxrAZ8IFCBsAvrz4mwkRthGNZ9y4cfaGeu7cuRZaS00oLuudkh5LwDuJ1/LYY4+Nt2TgDTvJha6++up4S/36U1+PCvzsCobm6aefHu2xxx7xVtEUkP0YuFesYWNNFt6d5L3LBy8SCJHLp5iLwvBcIHuSdoWeKZEe1hIiQ+Yx89nncbHh4KwbxQDlOPrie4i1jnwXJmH+MxZrHlnreNppp8V7qgM8nhiQrBVFFniWMcQJnXXwahJmS4QKSYQo/H8gxNa9x0l44Uj70MPpXk9gHTMJh9IkRGos/zX/JtNB0FXQWTA2J1x3cd02lE1ebLvB9cySZaZvzLp3YqxrXG66B8d5m9POON6OcWOCmmPYDii1GBYcx/H0Q/gjx6xYntFrnHy6TzZYXgV4urgGN3YJvUQHc32MscPrygVKtetxXDMse+FVq7ORTT5u7IXGYOvYy/bh+59aXQyhTDDMGK/3pnvn25AlcC5OsdfvMr7xr2PsGAp9LFoyyzy3+UCvdv2YGv04NNDS6NCQ7Ie/F8x9PN6bm88+XddA18djx3xjTNbcZgOHEfJAnrmurzEyyUY4t4rt4+7bF2wmQ1iY8CCHhM+G2yBQqC+eV5cNc4c2nDfzyeWZq+9qJ5XxyVsTrHsvCHP4JsPTv5z8IXT3PDAZeBvAxIU0bYC3GLz54g0Pk5/j8r2tK8QOHX8Tf6r/TDgI+JfXAT0z4WYQthelgSGIlxND0NdzUnsSoGxhsL6NMLVCZFt/6uuACLMVTQshnyiNnlAFpRKKWWf71FNPWX3cccdZLYoHRdxDDVkLJ0rjiiuuiDBA8VqyJtPDZIsNByeclGeClyr0Rc3fX375ZdyiHjx8PDuMxfdktb04wPBzbzKy4DqRh4fTOv69z7pOCqxald1AwkuMUYn39IEHHoi3ZtYvA9v5/0HNc3Hrrbfa9qbC9R9wvcYNI0iGIroHKUxM47rHm6+/a/WxAzL/L1/8+z8b1If2zXh23n4j4+2jb3Qjio+5/sv/tdrJp/sUC0q0j5cmxBJ27LxD/Kn+mtdsMrRzsXLFW/GnjL5I6dTpt/b311/Vv0hoTGKfUCYu+/B6wvsXUsz179ApM8adt80zHZaQUI5LA04Vx/VjXk6A91FIh4awH+BvDO1CoNuHuj6GP4belBmZ5IBJuDbsAwwwDKtcNEYm2QjnVjFwH5EDUZt+P1nrjJf5iyLtjDR9bR/PNzzDXDch0rRLRinUIqmMz3mPTLMYby9Tb59grn6EWW4m3jwqate+jb3hYfITD92vzx9tsoothycOKgaSpoT439my3T7yyCNWH3HEEVbnI9u5EMIJN998sxmgFE9IgUIpygvGDoq13ws8Pqz1TAveizAETxRHLkVcFA+GHx451hY+9thjtg1jtNhwcH+5RhIh+sLgwvM5ZMgQ2x7C80Mb2mKEhhlxqwH3yJNwiOvke4IoB67VQ43di4ms2U87XmphrIbhuoAxe95555kByz0KjXUSPHnNmnJP9OTe0JYExsRxJx5pEWCQDLl14xH9C93IC3y59l9WlxOUZNbmndLv/LqxGLsp8Bwi4XX5WL7sqrkp5fpZC4nHFoMQHZYwXo6jn0o3OjAiXc/Hwws9D+lm8zIJxtd146eb5zWXcepUikx83SoGs99PCgY+Xt9iSNMXcsNeIpyb6/bntv/hQ01+tUxJaz5xDTNJcTmXG1zRuKSZ/Bi9d94/yUIGmOSi+fHf3fT1lPDBB7nfXkLHjpl/lBh/bpxQex+erMJhHyG0jJUMmSWrLRluJ07MhO2A9+PnFkLorRdPUhSG54rywu+5ohBef/318ZbCECaHYlqMsSrqCRVxPP4Kty0fPo9Hjx5tdTEwpzGk/IUKxuuIESPsPuVKzENbwm7DxEXVAM841+UJh5ijnlgI4xLcC8p3u89h9+B75mAHY9az3iZfWHlCpGSiJ+TeEvl9/z7mUSEpCbWH3IJ73ZIOAQrhfOXm4QVPmTK9eOlddeMwdlPQpm1rq8Nr8hKGI+I5ai5KvX5CLGm79OW/WXsML/oJw3krHc8sfNuUe+Mt9WAwXv2XW2x+EqqczThNUgky8XWrGNZ+P71gdxRD2r6Yu/98Z3G0YvUjdt0Yo8ht9swH4xa1SUnGJxMPyx4PJXgYhIeVAG0In8VIhTRtgBhzfyPAMbwxYYEuN6vc7LFXF6s95AW21Bu2SsUNBJQywi0pfGY9pyf2IcwWA9FDXjEgWTeF8Rdmu8UgxGD0UFznueees5rEQkkYg2MwcpLjh8YL60qThZ9yAdab1iKeMCVc++Rhbrk8jsUcQxv/6YhiDEkPk0vOg2qmlHuRi1AR53lIkmYsz9xKeLzDTyNBmMilpdEYOWMgYhglvZ4esRFmpHXvnWdwdYjACMd2o7JTp05mkLEeMXxWaOvhppVKqTLFGHc5gScTSiZX8u8DcCM9lL+Hl2PMhllvHW/rY3GehPzyvVRJeLhkaDy57hEu/UFZRenHowIecgv7H5hJKhbqLM2Bhw8WQ+iJ9WsmsU8uevXubnUh4/Kn2Pvr+ltzUMz1c/68OAA81uixGHJQKOw59L65foznG9Lq0OUCg5K1ioTiJjPqss4TwxEDMsx6m4s0Msmmj/u9Lhc4t3i2QhmWSpq+uD8ktKJGnlw3zzcOteSvhdQaJSUcGnTiJTYhyermuEsdQXsbDMYhw06JWxRug9FJjDkhDkxU2lDzJUwoisON44Fjf2PodsA+Nnlwh7PGlCIPa0MwJDHeMADxIFIwEu+77768iX3IwInxh5GI0QmsbcpmCLrylSvklmMwZn18zoWMh/nGF/WJgXr16mVhfYRperIOZ8KECZYQxElzjFOK1xPcq1ELP7HilHIvskG2Zw8nxICkLy+uuKcZC9kTmkhIKONSSIzDtpacNbcxcs7l9cSjhuFDQiH6o18SBUFoqGO08l3G95In2cGYZWwMJAqfOR/20ca/w5JGbCVRikwJQea7oXv37rbdkwkxv/y59yRLvJxkP+0OP/xw23bmmWdajcHOeEAbxvfi2c69bZjoCcMXr3MlwXpO9I2Lzr061jVuM90D48INC4ds/xCG3AIKL9s4znUkXtg3Vfhixx0zay7JsMtYlHF/Thcijt7m58g1Q9+jMjkdPCsqyXR8SRVGdigfjuO66CPE18Givzn8hAV6Zbkp5fofuPdRu3Z+UsOP8ey4hYxE9GrXj6nRj/ndVSeNnl1O3PtJlmCfXyTB8hcjeOL9Gim5XhykkYnr40RUuj5OhubG4C876Mtzx/ALGqEMmV+cV74wWM/8HM5XKNQXXl32E2brc5q23Odj+mde3GXrm+NpV83LDUtKOAS4msMFxrjUeTAwCr3NtTeObPBWpFAbvlgJb/A1D7ShZsHz1ZPqs9BePuZcq72PUuFNxP2LpmYyg82YbynOrxg7PN4rHDxUKL3uUST7bBg6y37fHoLxiULMvtWrV9t6zGzJgthOm1yeMI7BmPXxOZdcbUMYP1+/1Q5eMb8nKH4oayjI4RpBknt4GBykOQbwLpTi9eQ4V8hrKVy0lHuRjXfeqf/nTj9hcc9SmrEwhFgjx/3DqKLwgodtLfm+lCrnXF5Ph7WErFnE8KdfjCiWBISeP8JHWbPIOk/6Yk003ulwbD4zBvtoQ1uOqeSEUaXIlO8EjsFoZztGOfKj9vmFnFnz6ttpR3u2uVxJ4uThsy57L7wABdpyL1zuUIkyxYhE3yCpIvoGehW6zi131Gdyd/znRMKQW4fMmuhEriPhgcJASRP6WCx4adD1XGcjcQqRaGlA1yPxiutphBu6kc250i/n/uiizD1z+dC/5/wAlwVgAHHdGCxNcb1JSrl+srhyTLt2re0YCp9ZQoaOmw+uC4OJY9yzWKyeXU6QsWcFJgQZwizDfn1ecnnk08jE9XHP+VIOfRzj2fV7T1qFDDkXvMycB/OJe5rPu83cRO7hfIVCffGbqFwjSaF8TtOWY9gH2fpmPSlGazKJWDXR6ldW+W+Cfx5bbZ9ZO1HL8FaH3+nhi5Ivnlrhl6/aRz16pP+tJFFZ8Pzq/m15dB+aB8m5/Eim+WlOHQkvCcoq6+NCz2etg+cIBR6FPjS48HxiuGGYCyEqC57P2NSso6Q1n9UE7m0PFcAtP/OW++3zft33tloIIYQQoqlBB3HDMxlyW+ugq2F4YmRm8/TV0g/0C9HSqWnjkxCOoQNHW+pjLHN+0gXXN15PfekLIYQQorkgNBDDEy4ZNdRqkWGr1luZ4ZntZz0IPa2lSDUhWjo1H3aLAbpi+SqLrWbxNIvea9HwVNhty0Yhc5WB7kPzIDmXH8k0P82hI+H5JEkJ2W+TSYiEEKIlorDbLLDImTdmLOpmAbA8nkIIIYRobtA/0EVkeAohqpmaNz6FEEIIIYQQQjQ9DcJuFXJTu+j+t2x0/yoD3YfmQXIuP5JpfiQfIYQonlatWm0WdqufWhGG1ny2bKQYVQa6D82D5Fx+JNP8SEcSQoji0ZpPIYQQQgghhBBbBBmfQgghhBBCCCGanAZht0IIIYQQQgghRDlILumoMz6FEEIIIYQQQohyMmfOnPiTwm6FEEIIIYQQQjQhXbt2jfr06SPjUwghhBBCCCFE09GhQ4do7733lvEphBBCCCGEEKLpkfEphBBCCCGEEKLJkfEphBBCCCGEEKKJiaL/B8novZz8Om6DAAAAAElFTkSuQmCC)"
      ],
      "metadata": {
        "id": "zvKu26signxP"
      }
    },
    {
      "cell_type": "markdown",
      "source": [
        "## **Analyse des modèles**"
      ],
      "metadata": {
        "id": "CQnoMu8cgQMU"
      }
    },
    {
      "cell_type": "markdown",
      "source": [
        "**Ridge Regression :**\n",
        "\n",
        "Score moyen en validation croisée\n",
        "***𝑅2=0.9033*** le plus élevé parmi tous les modèles, indiquant une très bonne généralisation.\n",
        "\n",
        "Performances solides sur les données de test (\n",
        "***𝑅2=0.9103***), confirmant la stabilité du modèle."
      ],
      "metadata": {
        "id": "MZGZHaAz_yIT"
      }
    },
    {
      "cell_type": "markdown",
      "source": [
        "**Lasso et Elastic Net :**\n",
        "\n",
        "Résultats proches de Ridge, mais légèrement inférieurs en validation croisée et sur le test. Si la régularisation supplémentaire est critique, ces modèles peuvent être envisagés."
      ],
      "metadata": {
        "id": "5SUWcrLeArwe"
      }
    },
    {
      "cell_type": "markdown",
      "source": [
        "**Random Forest :**\n",
        "\n",
        "Validation croisée moyenne (***𝑅2=0.8222***), indiquant une certaine capacité à généraliser. Toutefois, le modèle souffre d’un surapprentissage marqué (\n",
        "***𝑅2*** élevé sur l’entraînement, faible sur le test)."
      ],
      "metadata": {
        "id": "ORAo1TwKAx_Y"
      }
    },
    {
      "cell_type": "markdown",
      "source": [
        "**Boosting :**\n",
        "\n",
        "Validation croisée montre une instabilité (MSE moyen très élevé). Cependant, le modèle performe bien sur les données de test (\n",
        "***𝑅2=0.8826***), suggérant une utilité limitée selon le contexte."
      ],
      "metadata": {
        "id": "A5ZzhU45BGSy"
      }
    },
    {
      "cell_type": "markdown",
      "source": [
        "### **Meilleur modèle : Ridge Regression**\n",
        "Le Ridge Regression se distingue par ses :\n",
        "\n",
        "Excellentes performances en validation croisée (\n",
        "𝑅2=0.9033).\n",
        "\n",
        "Très bons résultats sur le test (\n",
        "𝑅2=0.9103), garantissant une généralisation optimale."
      ],
      "metadata": {
        "id": "mVGFhIxsBgaL"
      }
    },
    {
      "cell_type": "markdown",
      "source": [
        "# **Importance des variables- RIDGE**"
      ],
      "metadata": {
        "id": "oyz1PDIbBzY9"
      }
    },
    {
      "cell_type": "code",
      "source": [
        "# Creating a bar plot to visualize coefficients\n",
        "coefficients = ridge.coef_.ravel()  # Flatten the coefficients array\n",
        "plt.figure(figsize=(10, 6))\n",
        "plt.barh(range(len(coefficients)), coefficients, tick_label=X_train.columns)\n",
        "plt.xlabel('Coefficients')\n",
        "plt.title('Coefficients du modèle de régression Ridge')\n",
        "plt.show()"
      ],
      "metadata": {
        "colab": {
          "base_uri": "https://localhost:8080/",
          "height": 562
        },
        "id": "m8Njl1vnNEfO",
        "outputId": "dea16c5b-2580-4223-dc15-36dc92f4e704"
      },
      "execution_count": 46,
      "outputs": [
        {
          "output_type": "display_data",
          "data": {
            "text/plain": [
              "<Figure size 1000x600 with 1 Axes>"
            ],
            "image/png": "[encoded data removed]"
          },
          "metadata": {}
        }
      ]
    },
    {
      "cell_type": "markdown",
      "source": [
        "### **Selection des variables les plus essentielles**"
      ],
      "metadata": {
        "id": "0_cFT4w1UO7B"
      }
    },
    {
      "cell_type": "markdown",
      "source": [
        "Pour le déploiement de notre modèle, nous allons selectionner les variables qui ont un coefficient supérieur a 0.10. Après cela, nous allons reentrain nos modèle pour voir si le modéle Ridge sera toujours le plus performant et robuste."
      ],
      "metadata": {
        "id": "Id3JtUqsUYcl"
      }
    },
    {
      "cell_type": "code",
      "source": [
        "# Choix du seuil\n",
        "seuil = 0.10  #  pour sélectionner les variables ayant |Coefficient| >= 0.10\n",
        "\n",
        "# Calcul des coefficients et des noms des variables\n",
        "coefficients = ridge.coef_.ravel()  # Aplatir si nécessaire\n",
        "feature_names = X_train.columns\n",
        "\n",
        "# Associer les noms des variables et leurs coefficients dans un DataFrame\n",
        "importance_df = pd.DataFrame({\n",
        "    'Variable': feature_names,\n",
        "    'Coefficient': coefficients\n",
        "})\n",
        "\n",
        "# Filtrer les variables basées sur le seuil\n",
        "importance_df['Importance'] = importance_df['Coefficient'].abs()\n",
        "selected_features = importance_df[importance_df['Importance'] >= seuil]\n",
        "\n",
        "# Affichage des variables sélectionnées\n",
        "print(f\"Variables sélectionnées avec un seuil de {seuil}:\")\n",
        "print(selected_features[['Variable', 'Coefficient']])\n",
        "\n",
        "# Visualisation des variables sélectionnées\n",
        "plt.figure(figsize=(10, 6))\n",
        "plt.barh(selected_features['Variable'], selected_features['Coefficient'])\n",
        "plt.xlabel('Coefficient')\n",
        "plt.title(f'Variables importantes (|Coefficient| >= {seuil})')\n",
        "plt.gca().invert_yaxis()\n",
        "plt.show()\n"
      ],
      "metadata": {
        "colab": {
          "base_uri": "https://localhost:8080/",
          "height": 805
        },
        "id": "_Yam4blXOH4T",
        "outputId": "57a6b94d-c3df-4f98-bdaf-cdb0f7302d37"
      },
      "execution_count": 50,
      "outputs": [
        {
          "output_type": "stream",
          "name": "stdout",
          "text": [
            "Variables sélectionnées avec un seuil de 0.1:\n",
            "                              Variable  Coefficient\n",
            "4                    Tutoring_Sessions     0.141508\n",
            "6         Parental_Involvement_Encoded     0.283524\n",
            "7          Access_to_Resources_Encoded     0.293395\n",
            "8             Motivation_Level_Encoded     0.149461\n",
            "9                Family_Income_Encoded     0.136903\n",
            "10             Teacher_Quality_Encoded     0.141870\n",
            "11  Extracurricular_Activities_Encoded     0.144456\n",
            "12             Internet_Access_Encoded     0.296062\n",
            "13       Learning_Disabilities_Encoded    -0.263821\n",
            "15              Peer_Influence_Encoded     0.148148\n",
            "16    Parental_Education_Level_Encoded     0.150471\n",
            "17          Distance_from_Home_Encoded    -0.132973\n"
          ]
        },
        {
          "output_type": "display_data",
          "data": {
            "text/plain": [
              "<Figure size 1000x600 with 1 Axes>"
            ],
            "image/png": "[encoded data removed]"
          },
          "metadata": {}
        }
      ]
    },
    {
      "cell_type": "markdown",
      "source": [
        "**Reentraiment de notre modele Ridge avec ces variables**"
      ],
      "metadata": {
        "id": "0GBmci8dS30Z"
      }
    },
    {
      "cell_type": "code",
      "source": [
        "# Liste des colonnes retenues\n",
        "selected_columns = [\n",
        "    'Tutoring_Sessions',\n",
        "    'Parental_Involvement_Encoded',\n",
        "    'Access_to_Resources_Encoded',\n",
        "    'Motivation_Level_Encoded',\n",
        "    'Family_Income_Encoded',\n",
        "    'Teacher_Quality_Encoded',\n",
        "    'Extracurricular_Activities_Encoded',\n",
        "    'Internet_Access_Encoded',\n",
        "    'Learning_Disabilities_Encoded',\n",
        "    'Peer_Influence_Encoded',\n",
        "    'Parental_Education_Level_Encoded',\n",
        "    'Distance_from_Home_Encoded'\n",
        "]\n",
        "\n",
        "# Filtrer les données\n",
        "X_train_selected = X_train[selected_columns]\n",
        "X_test_selected = X_test[selected_columns]\n"
      ],
      "metadata": {
        "id": "BQu78LjNTADS"
      },
      "execution_count": 51,
      "outputs": []
    },
    {
      "cell_type": "code",
      "source": [
        "\n",
        "best_alpha=0.10\n",
        "# Initialiser le modèle Ridge avec le meilleur alpha\n",
        "ridge_retrained = Ridge(alpha=best_alpha)  # Remplacez `best_alpha` par votre valeur trouvée\n",
        "\n",
        "# Réentraîner le modèle\n",
        "ridge_retrained.fit(X_train_selected, y_train)\n",
        "\n",
        "# Prédictions\n",
        "y_train_pred = ridge_retrained.predict(X_train_selected)\n",
        "y_test_pred = ridge_retrained.predict(X_test_selected)\n"
      ],
      "metadata": {
        "id": "wN19SjJJTd_A"
      },
      "execution_count": 52,
      "outputs": []
    },
    {
      "cell_type": "code",
      "source": [
        "\n",
        "\n",
        "# Calcul des métriques\n",
        "train_mse = mean_squared_error(y_train, y_train_pred)\n",
        "test_mse = mean_squared_error(y_test, y_test_pred)\n",
        "train_r2 = r2_score(y_train, y_train_pred)\n",
        "test_r2 = r2_score(y_test, y_test_pred)\n",
        "\n",
        "# Affichage des résultats\n",
        "print(f\"Train MSE: {train_mse}\")\n",
        "print(f\"Test MSE: {test_mse}\")\n",
        "print(f\"Train R^2: {train_r2}\")\n",
        "print(f\"Test R^2: {test_r2}\")\n"
      ],
      "metadata": {
        "colab": {
          "base_uri": "https://localhost:8080/"
        },
        "id": "2dDcoscMUFA-",
        "outputId": "6b74bbeb-b964-4c56-cfc0-c94344f34fae"
      },
      "execution_count": 54,
      "outputs": [
        {
          "output_type": "stream",
          "name": "stdout",
          "text": [
            "Train MSE: 0.8330314609913633\n",
            "Test MSE: 0.8655530276027145\n",
            "Train R^2: 0.16696853900863673\n",
            "Test R^2: 0.15315281902466915\n"
          ]
        }
      ]
    },
    {
      "cell_type": "code",
      "source": [
        "\n",
        "\n",
        "# Validation croisée pour MSE\n",
        "cv_scores_mse = cross_val_score(ridge_retrained, X_train_selected, y_train,\n",
        "                                 scoring='neg_mean_squared_error', cv=5)\n",
        "\n",
        "# Validation croisée pour R²\n",
        "cv_scores_r2 = cross_val_score(ridge_retrained, X_train_selected, y_train,\n",
        "                               scoring='r2', cv=5)\n",
        "\n",
        "# Affichage des résultats\n",
        "print(f\"MSE moyen de la validation croisée : {-cv_scores_mse.mean()}\")\n",
        "print(f\"Écart-type du MSE : {cv_scores_mse.std()}\")\n",
        "print(f\"R² moyen de la validation croisée : {cv_scores_r2.mean()}\")\n",
        "print(f\"Écart-type du R² : {cv_scores_r2.std()}\")\n"
      ],
      "metadata": {
        "colab": {
          "base_uri": "https://localhost:8080/"
        },
        "id": "ro3GdsA8ZrBg",
        "outputId": "a1221a0d-38e4-4b9d-d0d3-4e71c315e6ef"
      },
      "execution_count": 62,
      "outputs": [
        {
          "output_type": "stream",
          "name": "stdout",
          "text": [
            "MSE moyen de la validation croisée : 0.8381983315566371\n",
            "Écart-type du MSE : 0.016141727809390875\n",
            "R² moyen de la validation croisée : 0.161066088893219\n",
            "Écart-type du R² : 0.008305485495629506\n"
          ]
        }
      ]
    },
    {
      "cell_type": "markdown",
      "source": [
        "Les résultats de la validation croisée du modèle Ridge montrent un MSE moyen de 0.8382, ce qui indique une erreur relativement élevée sur les données de validation, suggérant une capacité limitée à prédire avec précision. Le R² moyen de 0.1611 est faible, ce qui signifie que le modèle explique peu de la variance des données de validation, malgré des performances raisonnables sur les ensembles d'entraînement et de test. L'écart-type du MSE (0.0161) et du R² (0.0083) étant faibles, cela indique une stabilité des résultats à travers les plis de validation. Cependant, cette faible performance en validation met en évidence des difficultés de généralisation du modèle."
      ],
      "metadata": {
        "id": "-Dv-hk2zj4Wo"
      }
    },
    {
      "cell_type": "markdown",
      "source": [
        "**Reentraiment de notre modele Lasso avec ces variables**"
      ],
      "metadata": {
        "id": "EATT6s1-Wa4w"
      }
    },
    {
      "cell_type": "code",
      "source": [
        "\n",
        "# Initialiser le modèle LASSO avec le meilleur alpha\n",
        "lasso_retrained = Lasso(alpha=0.01, max_iter=10000)\n",
        "# Réentraîner le modèle\n",
        "lasso_retrained.fit(X_train_selected, y_train)\n",
        "\n",
        "# Prédictions\n",
        "y_train_pred = lasso_retrained.predict(X_train_selected)\n",
        "y_test_pred = lasso_retrained.predict(X_test_selected)\n"
      ],
      "metadata": {
        "id": "WONd6_9AWf9g"
      },
      "execution_count": 59,
      "outputs": []
    },
    {
      "cell_type": "code",
      "source": [
        "\n",
        "# Calcul des métriques\n",
        "train_mse = mean_squared_error(y_train, y_train_pred)\n",
        "test_mse = mean_squared_error(y_test, y_test_pred)\n",
        "train_r2 = r2_score(y_train, y_train_pred)\n",
        "test_r2 = r2_score(y_test, y_test_pred)\n",
        "\n",
        "# Affichage des résultats\n",
        "print(f\"Train MSE: {train_mse}\")\n",
        "print(f\"Test MSE: {test_mse}\")\n",
        "print(f\"Train R^2: {train_r2}\")\n",
        "print(f\"Test R^2: {test_r2}\")\n"
      ],
      "metadata": {
        "colab": {
          "base_uri": "https://localhost:8080/"
        },
        "id": "97lUzbx-W-9U",
        "outputId": "f9260a4c-550d-4a5d-d93b-cc766cd166a2"
      },
      "execution_count": 60,
      "outputs": [
        {
          "output_type": "stream",
          "name": "stdout",
          "text": [
            "Train MSE: 0.8376137008991348\n",
            "Test MSE: 0.8690091137100019\n",
            "Train R^2: 0.16238629910086522\n",
            "Test R^2: 0.14977142391214726\n"
          ]
        }
      ]
    },
    {
      "cell_type": "markdown",
      "source": [
        "**Validation croisée Lasso**"
      ],
      "metadata": {
        "id": "folGtBb6Zlrk"
      }
    },
    {
      "cell_type": "code",
      "source": [
        "from sklearn.model_selection import cross_val_score\n",
        "from sklearn.metrics import make_scorer, mean_squared_error, r2_score\n",
        "\n",
        "# Créer le modèle LASSO avec le meilleur alpha\n",
        "lasso_retrained = Lasso(alpha=best_alpha_lasso, max_iter=10000)\n",
        "\n",
        "# Validation croisée pour MSE\n",
        "cv_mse_scores = cross_val_score(lasso_retrained, X_train_selected, y_train,\n",
        "                                 scoring='neg_mean_squared_error', cv=5)\n",
        "\n",
        "# Validation croisée pour R^2\n",
        "cv_r2_scores = cross_val_score(lasso_retrained, X_train_selected, y_train,\n",
        "                                scoring='r2', cv=5)\n",
        "\n",
        "# Affichage des résultats de la validation croisée\n",
        "print(f\"MSE moyen de la validation croisée : {-cv_mse_scores.mean()}\")\n",
        "print(f\"Écart-type de MSE : {cv_mse_scores.std()}\")\n",
        "print(f\"R² moyen de la validation croisée : {cv_r2_scores.mean()}\")\n",
        "print(f\"Écart-type de R² : {cv_r2_scores.std()}\")\n"
      ],
      "metadata": {
        "colab": {
          "base_uri": "https://localhost:8080/"
        },
        "id": "PE3q15x_Yqbt",
        "outputId": "0f1bda2e-b1ae-4fd8-94db-01b6f0a7253e"
      },
      "execution_count": 61,
      "outputs": [
        {
          "output_type": "stream",
          "name": "stdout",
          "text": [
            "MSE moyen de la validation croisée : 0.8427666894365284\n",
            "Écart-type de MSE : 0.017354929085185936\n",
            "R² moyen de la validation croisée : 0.15652875084025308\n",
            "Écart-type de R² : 0.006951487501648368\n"
          ]
        }
      ]
    },
    {
      "cell_type": "markdown",
      "source": [
        "Le modèle **LASSO** après la sélection des variables pertinentes a montré des performances relativement limitées en validation croisée. Le MSE moyen de 0.8428 indique une erreur quadratique moyenne élevée, suggérant que le modèle peine à faire des prédictions précises. Le R² moyen de 0.1565 indique que seulement 15,65 % de la variance des données cibles est expliquée par le modèle, ce qui est un score relativement faible. L'écart-type du MSE (0.0173) et du R² (0.00695) montre une certaine stabilité des performances à travers les plis, mais la capacité de généralisation reste insuffisante."
      ],
      "metadata": {
        "id": "Swo4m_ErZg-p"
      }
    },
    {
      "cell_type": "markdown",
      "source": [
        "# **finalement est ce qu'on ne va pas mettre toutes les variables pour la prédiction ?**"
      ],
      "metadata": {
        "id": "9wlrdAkxlsnJ"
      }
    }
  ],
  "metadata": {
    "kernelspec": {
      "display_name": ".venv",
      "language": "python",
      "name": "python3"
    },
    "language_info": {
      "codemirror_mode": {
        "name": "ipython",
        "version": 3
      },
      "file_extension": ".py",
      "mimetype": "text/x-python",
      "name": "python",
      "nbconvert_exporter": "python",
      "pygments_lexer": "ipython3",
      "version": "3.12.2"
    },
    "colab": {
      "provenance": []
    }
  },
  "nbformat": 4,
  "nbformat_minor": 0
}